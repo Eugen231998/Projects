{
 "cells": [
  {
   "cell_type": "markdown",
   "id": "0d44cfd9",
   "metadata": {},
   "source": [
    "<div style=\"border:solid steelblue 3px; padding: 17px; border-radius: 7px\">\n",
    "\n",
    "**Женя, привет!** 👋\n",
    "\n",
    "Меня зовут Александр Базилевич, я буду проверять твой проект. В Яндекс Практикуме принято общаться на \"ты\", но если некомфортно - скажи и перейдем на \"Вы\".\n",
    "\n",
    "Моя основная цель - не указать на ошибки, а поделиться опытом и помочь в освоении анализа данных.\n",
    "\n",
    "В тетрадке ты увидишь мои комментарии, пожалуйста, не удаляй, не перемещай и не изменяй их. У комментариев могут быть приписки **2**, **3** и так далее, которые соответствуют каждой версии проверки. Напомню, что у тебя **6** попыток для успешной сдачи проекта.\n",
    "\n",
    "Я буду использовать цветовую разметку:\n",
    "<p>\n",
    "<div class=\"alert-danger\" style=\"padding: 17px; border-radius: 7px\">\n",
    "<b>Комментарий ревьюера ❌</b>\n",
    "\n",
    "Так выделены критические замечания. Без их отработки я не смогу принять проект. </div>\n",
    "\n",
    "<div class=\"alert-warning\" style=\"padding: 17px; border-radius: 7px\">\n",
    "<b>Комментарий ревьюера ⚠️</b>\n",
    "\n",
    "Так выделены небольшие замечания или полезные советы. Постарайся учесть их.</div>\n",
    "<p>\n",
    "<div class=\"alert-success\" style=\"padding: 17px; border-radius: 7px\">\n",
    "<b>Комментарий ревьюера ✅</b>\n",
    "\n",
    "Так выделены правильные решения.</div>\n",
    "\n",
    "Предлагаю работать в диалоге: если что-то дорабатываешь или отвечаешь на мой комментарий - пиши об этом. Мне будет удобней, если ты выделишь свои комментарии. Все это поможет мне быстрее принять твой проект."
   ]
  },
  {
   "cell_type": "markdown",
   "id": "c3a2db25",
   "metadata": {},
   "source": [
    "<div class=\"alert-info\" style=\"padding: 17px; border-radius: 7px\">\n",
    "<b>Комментарий студента 💎</b>\n",
    "\n",
    "Ты можешь написать свой комментарий, если скопируешь этот блок в ячейку Markdown.</div>"
   ]
  },
  {
   "cell_type": "markdown",
   "id": "f1d3aa91",
   "metadata": {
    "deletable": false,
    "editable": false,
    "id": "c81daeeb"
   },
   "source": [
    "# Исследование надежности заемщиков\n"
   ]
  },
  {
   "cell_type": "markdown",
   "id": "34d9f054",
   "metadata": {
    "deletable": false,
    "editable": false,
    "id": "827c20bf"
   },
   "source": [
    "Во второй части проекта вы выполните шаги 3 и 4. Их вручную проверит ревьюер.\n",
    "Чтобы вам не пришлось писать код заново для шагов 1 и 2, мы добавили авторские решения в ячейки с кодом. \n",
    "\n"
   ]
  },
  {
   "cell_type": "markdown",
   "id": "7dc577bf",
   "metadata": {
    "deletable": false,
    "editable": false,
    "id": "744d7639"
   },
   "source": [
    "## Откройте таблицу и изучите общую информацию о данных"
   ]
  },
  {
   "cell_type": "markdown",
   "id": "16712964",
   "metadata": {
    "deletable": false,
    "editable": false,
    "id": "e7a14c31"
   },
   "source": [
    "**Задание 1. Импортируйте библиотеку pandas. Считайте данные из csv-файла в датафрейм и сохраните в переменную `data`. Путь к файлу:**\n",
    "\n",
    "`/datasets/data.csv`"
   ]
  },
  {
   "cell_type": "code",
   "execution_count": 1,
   "id": "3eee7cea",
   "metadata": {
    "deletable": false,
    "id": "7bcf75c9"
   },
   "outputs": [],
   "source": [
    "import pandas as pd\n",
    "\n",
    "try:\n",
    "    data = pd.read_csv('/datasets/data.csv')\n",
    "except:\n",
    "    data = pd.read_csv('https://code.s3.yandex.net/datasets/data.csv')"
   ]
  },
  {
   "cell_type": "markdown",
   "id": "7de6df53",
   "metadata": {
    "deletable": false,
    "editable": false,
    "id": "b8038fe3"
   },
   "source": [
    "**Задание 2. Выведите первые 20 строчек датафрейма `data` на экран.**"
   ]
  },
  {
   "cell_type": "code",
   "execution_count": 2,
   "id": "0b3d80c9",
   "metadata": {
    "deletable": false,
    "id": "2a7cab99",
    "outputId": "1a8f3ef2-d323-4ec2-ddf7-89670b5944c4"
   },
   "outputs": [
    {
     "data": {
      "text/html": [
       "<div>\n",
       "<style scoped>\n",
       "    .dataframe tbody tr th:only-of-type {\n",
       "        vertical-align: middle;\n",
       "    }\n",
       "\n",
       "    .dataframe tbody tr th {\n",
       "        vertical-align: top;\n",
       "    }\n",
       "\n",
       "    .dataframe thead th {\n",
       "        text-align: right;\n",
       "    }\n",
       "</style>\n",
       "<table border=\"1\" class=\"dataframe\">\n",
       "  <thead>\n",
       "    <tr style=\"text-align: right;\">\n",
       "      <th></th>\n",
       "      <th>children</th>\n",
       "      <th>days_employed</th>\n",
       "      <th>dob_years</th>\n",
       "      <th>education</th>\n",
       "      <th>education_id</th>\n",
       "      <th>family_status</th>\n",
       "      <th>family_status_id</th>\n",
       "      <th>gender</th>\n",
       "      <th>income_type</th>\n",
       "      <th>debt</th>\n",
       "      <th>total_income</th>\n",
       "      <th>purpose</th>\n",
       "    </tr>\n",
       "  </thead>\n",
       "  <tbody>\n",
       "    <tr>\n",
       "      <th>0</th>\n",
       "      <td>1</td>\n",
       "      <td>-8437.673028</td>\n",
       "      <td>42</td>\n",
       "      <td>высшее</td>\n",
       "      <td>0</td>\n",
       "      <td>женат / замужем</td>\n",
       "      <td>0</td>\n",
       "      <td>F</td>\n",
       "      <td>сотрудник</td>\n",
       "      <td>0</td>\n",
       "      <td>253875.639453</td>\n",
       "      <td>покупка жилья</td>\n",
       "    </tr>\n",
       "    <tr>\n",
       "      <th>1</th>\n",
       "      <td>1</td>\n",
       "      <td>-4024.803754</td>\n",
       "      <td>36</td>\n",
       "      <td>среднее</td>\n",
       "      <td>1</td>\n",
       "      <td>женат / замужем</td>\n",
       "      <td>0</td>\n",
       "      <td>F</td>\n",
       "      <td>сотрудник</td>\n",
       "      <td>0</td>\n",
       "      <td>112080.014102</td>\n",
       "      <td>приобретение автомобиля</td>\n",
       "    </tr>\n",
       "    <tr>\n",
       "      <th>2</th>\n",
       "      <td>0</td>\n",
       "      <td>-5623.422610</td>\n",
       "      <td>33</td>\n",
       "      <td>Среднее</td>\n",
       "      <td>1</td>\n",
       "      <td>женат / замужем</td>\n",
       "      <td>0</td>\n",
       "      <td>M</td>\n",
       "      <td>сотрудник</td>\n",
       "      <td>0</td>\n",
       "      <td>145885.952297</td>\n",
       "      <td>покупка жилья</td>\n",
       "    </tr>\n",
       "    <tr>\n",
       "      <th>3</th>\n",
       "      <td>3</td>\n",
       "      <td>-4124.747207</td>\n",
       "      <td>32</td>\n",
       "      <td>среднее</td>\n",
       "      <td>1</td>\n",
       "      <td>женат / замужем</td>\n",
       "      <td>0</td>\n",
       "      <td>M</td>\n",
       "      <td>сотрудник</td>\n",
       "      <td>0</td>\n",
       "      <td>267628.550329</td>\n",
       "      <td>дополнительное образование</td>\n",
       "    </tr>\n",
       "    <tr>\n",
       "      <th>4</th>\n",
       "      <td>0</td>\n",
       "      <td>340266.072047</td>\n",
       "      <td>53</td>\n",
       "      <td>среднее</td>\n",
       "      <td>1</td>\n",
       "      <td>гражданский брак</td>\n",
       "      <td>1</td>\n",
       "      <td>F</td>\n",
       "      <td>пенсионер</td>\n",
       "      <td>0</td>\n",
       "      <td>158616.077870</td>\n",
       "      <td>сыграть свадьбу</td>\n",
       "    </tr>\n",
       "    <tr>\n",
       "      <th>5</th>\n",
       "      <td>0</td>\n",
       "      <td>-926.185831</td>\n",
       "      <td>27</td>\n",
       "      <td>высшее</td>\n",
       "      <td>0</td>\n",
       "      <td>гражданский брак</td>\n",
       "      <td>1</td>\n",
       "      <td>M</td>\n",
       "      <td>компаньон</td>\n",
       "      <td>0</td>\n",
       "      <td>255763.565419</td>\n",
       "      <td>покупка жилья</td>\n",
       "    </tr>\n",
       "    <tr>\n",
       "      <th>6</th>\n",
       "      <td>0</td>\n",
       "      <td>-2879.202052</td>\n",
       "      <td>43</td>\n",
       "      <td>высшее</td>\n",
       "      <td>0</td>\n",
       "      <td>женат / замужем</td>\n",
       "      <td>0</td>\n",
       "      <td>F</td>\n",
       "      <td>компаньон</td>\n",
       "      <td>0</td>\n",
       "      <td>240525.971920</td>\n",
       "      <td>операции с жильем</td>\n",
       "    </tr>\n",
       "    <tr>\n",
       "      <th>7</th>\n",
       "      <td>0</td>\n",
       "      <td>-152.779569</td>\n",
       "      <td>50</td>\n",
       "      <td>СРЕДНЕЕ</td>\n",
       "      <td>1</td>\n",
       "      <td>женат / замужем</td>\n",
       "      <td>0</td>\n",
       "      <td>M</td>\n",
       "      <td>сотрудник</td>\n",
       "      <td>0</td>\n",
       "      <td>135823.934197</td>\n",
       "      <td>образование</td>\n",
       "    </tr>\n",
       "    <tr>\n",
       "      <th>8</th>\n",
       "      <td>2</td>\n",
       "      <td>-6929.865299</td>\n",
       "      <td>35</td>\n",
       "      <td>ВЫСШЕЕ</td>\n",
       "      <td>0</td>\n",
       "      <td>гражданский брак</td>\n",
       "      <td>1</td>\n",
       "      <td>F</td>\n",
       "      <td>сотрудник</td>\n",
       "      <td>0</td>\n",
       "      <td>95856.832424</td>\n",
       "      <td>на проведение свадьбы</td>\n",
       "    </tr>\n",
       "    <tr>\n",
       "      <th>9</th>\n",
       "      <td>0</td>\n",
       "      <td>-2188.756445</td>\n",
       "      <td>41</td>\n",
       "      <td>среднее</td>\n",
       "      <td>1</td>\n",
       "      <td>женат / замужем</td>\n",
       "      <td>0</td>\n",
       "      <td>M</td>\n",
       "      <td>сотрудник</td>\n",
       "      <td>0</td>\n",
       "      <td>144425.938277</td>\n",
       "      <td>покупка жилья для семьи</td>\n",
       "    </tr>\n",
       "    <tr>\n",
       "      <th>10</th>\n",
       "      <td>2</td>\n",
       "      <td>-4171.483647</td>\n",
       "      <td>36</td>\n",
       "      <td>высшее</td>\n",
       "      <td>0</td>\n",
       "      <td>женат / замужем</td>\n",
       "      <td>0</td>\n",
       "      <td>M</td>\n",
       "      <td>компаньон</td>\n",
       "      <td>0</td>\n",
       "      <td>113943.491460</td>\n",
       "      <td>покупка недвижимости</td>\n",
       "    </tr>\n",
       "    <tr>\n",
       "      <th>11</th>\n",
       "      <td>0</td>\n",
       "      <td>-792.701887</td>\n",
       "      <td>40</td>\n",
       "      <td>среднее</td>\n",
       "      <td>1</td>\n",
       "      <td>женат / замужем</td>\n",
       "      <td>0</td>\n",
       "      <td>F</td>\n",
       "      <td>сотрудник</td>\n",
       "      <td>0</td>\n",
       "      <td>77069.234271</td>\n",
       "      <td>покупка коммерческой недвижимости</td>\n",
       "    </tr>\n",
       "    <tr>\n",
       "      <th>12</th>\n",
       "      <td>0</td>\n",
       "      <td>NaN</td>\n",
       "      <td>65</td>\n",
       "      <td>среднее</td>\n",
       "      <td>1</td>\n",
       "      <td>гражданский брак</td>\n",
       "      <td>1</td>\n",
       "      <td>M</td>\n",
       "      <td>пенсионер</td>\n",
       "      <td>0</td>\n",
       "      <td>NaN</td>\n",
       "      <td>сыграть свадьбу</td>\n",
       "    </tr>\n",
       "    <tr>\n",
       "      <th>13</th>\n",
       "      <td>0</td>\n",
       "      <td>-1846.641941</td>\n",
       "      <td>54</td>\n",
       "      <td>неоконченное высшее</td>\n",
       "      <td>2</td>\n",
       "      <td>женат / замужем</td>\n",
       "      <td>0</td>\n",
       "      <td>F</td>\n",
       "      <td>сотрудник</td>\n",
       "      <td>0</td>\n",
       "      <td>130458.228857</td>\n",
       "      <td>приобретение автомобиля</td>\n",
       "    </tr>\n",
       "    <tr>\n",
       "      <th>14</th>\n",
       "      <td>0</td>\n",
       "      <td>-1844.956182</td>\n",
       "      <td>56</td>\n",
       "      <td>высшее</td>\n",
       "      <td>0</td>\n",
       "      <td>гражданский брак</td>\n",
       "      <td>1</td>\n",
       "      <td>F</td>\n",
       "      <td>компаньон</td>\n",
       "      <td>1</td>\n",
       "      <td>165127.911772</td>\n",
       "      <td>покупка жилой недвижимости</td>\n",
       "    </tr>\n",
       "    <tr>\n",
       "      <th>15</th>\n",
       "      <td>1</td>\n",
       "      <td>-972.364419</td>\n",
       "      <td>26</td>\n",
       "      <td>среднее</td>\n",
       "      <td>1</td>\n",
       "      <td>женат / замужем</td>\n",
       "      <td>0</td>\n",
       "      <td>F</td>\n",
       "      <td>сотрудник</td>\n",
       "      <td>0</td>\n",
       "      <td>116820.904450</td>\n",
       "      <td>строительство собственной недвижимости</td>\n",
       "    </tr>\n",
       "    <tr>\n",
       "      <th>16</th>\n",
       "      <td>0</td>\n",
       "      <td>-1719.934226</td>\n",
       "      <td>35</td>\n",
       "      <td>среднее</td>\n",
       "      <td>1</td>\n",
       "      <td>женат / замужем</td>\n",
       "      <td>0</td>\n",
       "      <td>F</td>\n",
       "      <td>сотрудник</td>\n",
       "      <td>0</td>\n",
       "      <td>289202.704229</td>\n",
       "      <td>недвижимость</td>\n",
       "    </tr>\n",
       "    <tr>\n",
       "      <th>17</th>\n",
       "      <td>0</td>\n",
       "      <td>-2369.999720</td>\n",
       "      <td>33</td>\n",
       "      <td>высшее</td>\n",
       "      <td>0</td>\n",
       "      <td>гражданский брак</td>\n",
       "      <td>1</td>\n",
       "      <td>M</td>\n",
       "      <td>сотрудник</td>\n",
       "      <td>0</td>\n",
       "      <td>90410.586745</td>\n",
       "      <td>строительство недвижимости</td>\n",
       "    </tr>\n",
       "    <tr>\n",
       "      <th>18</th>\n",
       "      <td>0</td>\n",
       "      <td>400281.136913</td>\n",
       "      <td>53</td>\n",
       "      <td>среднее</td>\n",
       "      <td>1</td>\n",
       "      <td>вдовец / вдова</td>\n",
       "      <td>2</td>\n",
       "      <td>F</td>\n",
       "      <td>пенсионер</td>\n",
       "      <td>0</td>\n",
       "      <td>56823.777243</td>\n",
       "      <td>на покупку подержанного автомобиля</td>\n",
       "    </tr>\n",
       "    <tr>\n",
       "      <th>19</th>\n",
       "      <td>0</td>\n",
       "      <td>-10038.818549</td>\n",
       "      <td>48</td>\n",
       "      <td>СРЕДНЕЕ</td>\n",
       "      <td>1</td>\n",
       "      <td>в разводе</td>\n",
       "      <td>3</td>\n",
       "      <td>F</td>\n",
       "      <td>сотрудник</td>\n",
       "      <td>0</td>\n",
       "      <td>242831.107982</td>\n",
       "      <td>на покупку своего автомобиля</td>\n",
       "    </tr>\n",
       "  </tbody>\n",
       "</table>\n",
       "</div>"
      ],
      "text/plain": [
       "    children  days_employed  dob_years            education  education_id  \\\n",
       "0          1   -8437.673028         42               высшее             0   \n",
       "1          1   -4024.803754         36              среднее             1   \n",
       "2          0   -5623.422610         33              Среднее             1   \n",
       "3          3   -4124.747207         32              среднее             1   \n",
       "4          0  340266.072047         53              среднее             1   \n",
       "5          0    -926.185831         27               высшее             0   \n",
       "6          0   -2879.202052         43               высшее             0   \n",
       "7          0    -152.779569         50              СРЕДНЕЕ             1   \n",
       "8          2   -6929.865299         35               ВЫСШЕЕ             0   \n",
       "9          0   -2188.756445         41              среднее             1   \n",
       "10         2   -4171.483647         36               высшее             0   \n",
       "11         0    -792.701887         40              среднее             1   \n",
       "12         0            NaN         65              среднее             1   \n",
       "13         0   -1846.641941         54  неоконченное высшее             2   \n",
       "14         0   -1844.956182         56               высшее             0   \n",
       "15         1    -972.364419         26              среднее             1   \n",
       "16         0   -1719.934226         35              среднее             1   \n",
       "17         0   -2369.999720         33               высшее             0   \n",
       "18         0  400281.136913         53              среднее             1   \n",
       "19         0  -10038.818549         48              СРЕДНЕЕ             1   \n",
       "\n",
       "       family_status  family_status_id gender income_type  debt  \\\n",
       "0    женат / замужем                 0      F   сотрудник     0   \n",
       "1    женат / замужем                 0      F   сотрудник     0   \n",
       "2    женат / замужем                 0      M   сотрудник     0   \n",
       "3    женат / замужем                 0      M   сотрудник     0   \n",
       "4   гражданский брак                 1      F   пенсионер     0   \n",
       "5   гражданский брак                 1      M   компаньон     0   \n",
       "6    женат / замужем                 0      F   компаньон     0   \n",
       "7    женат / замужем                 0      M   сотрудник     0   \n",
       "8   гражданский брак                 1      F   сотрудник     0   \n",
       "9    женат / замужем                 0      M   сотрудник     0   \n",
       "10   женат / замужем                 0      M   компаньон     0   \n",
       "11   женат / замужем                 0      F   сотрудник     0   \n",
       "12  гражданский брак                 1      M   пенсионер     0   \n",
       "13   женат / замужем                 0      F   сотрудник     0   \n",
       "14  гражданский брак                 1      F   компаньон     1   \n",
       "15   женат / замужем                 0      F   сотрудник     0   \n",
       "16   женат / замужем                 0      F   сотрудник     0   \n",
       "17  гражданский брак                 1      M   сотрудник     0   \n",
       "18    вдовец / вдова                 2      F   пенсионер     0   \n",
       "19         в разводе                 3      F   сотрудник     0   \n",
       "\n",
       "     total_income                                 purpose  \n",
       "0   253875.639453                           покупка жилья  \n",
       "1   112080.014102                 приобретение автомобиля  \n",
       "2   145885.952297                           покупка жилья  \n",
       "3   267628.550329              дополнительное образование  \n",
       "4   158616.077870                         сыграть свадьбу  \n",
       "5   255763.565419                           покупка жилья  \n",
       "6   240525.971920                       операции с жильем  \n",
       "7   135823.934197                             образование  \n",
       "8    95856.832424                   на проведение свадьбы  \n",
       "9   144425.938277                 покупка жилья для семьи  \n",
       "10  113943.491460                    покупка недвижимости  \n",
       "11   77069.234271       покупка коммерческой недвижимости  \n",
       "12            NaN                         сыграть свадьбу  \n",
       "13  130458.228857                 приобретение автомобиля  \n",
       "14  165127.911772              покупка жилой недвижимости  \n",
       "15  116820.904450  строительство собственной недвижимости  \n",
       "16  289202.704229                            недвижимость  \n",
       "17   90410.586745              строительство недвижимости  \n",
       "18   56823.777243      на покупку подержанного автомобиля  \n",
       "19  242831.107982            на покупку своего автомобиля  "
      ]
     },
     "execution_count": 2,
     "metadata": {},
     "output_type": "execute_result"
    }
   ],
   "source": [
    "data.head(20)"
   ]
  },
  {
   "cell_type": "markdown",
   "id": "f9f76396",
   "metadata": {
    "deletable": false,
    "editable": false,
    "id": "1c12e233"
   },
   "source": [
    "**Задание 3. Выведите основную информацию о датафрейме с помощью метода `info()`.**"
   ]
  },
  {
   "cell_type": "code",
   "execution_count": 3,
   "id": "91b51d5d",
   "metadata": {
    "deletable": false,
    "id": "2b757bca",
    "outputId": "15376089-8dad-46c9-b520-c05248d43158"
   },
   "outputs": [
    {
     "name": "stdout",
     "output_type": "stream",
     "text": [
      "<class 'pandas.core.frame.DataFrame'>\n",
      "RangeIndex: 21525 entries, 0 to 21524\n",
      "Data columns (total 12 columns):\n",
      " #   Column            Non-Null Count  Dtype  \n",
      "---  ------            --------------  -----  \n",
      " 0   children          21525 non-null  int64  \n",
      " 1   days_employed     19351 non-null  float64\n",
      " 2   dob_years         21525 non-null  int64  \n",
      " 3   education         21525 non-null  object \n",
      " 4   education_id      21525 non-null  int64  \n",
      " 5   family_status     21525 non-null  object \n",
      " 6   family_status_id  21525 non-null  int64  \n",
      " 7   gender            21525 non-null  object \n",
      " 8   income_type       21525 non-null  object \n",
      " 9   debt              21525 non-null  int64  \n",
      " 10  total_income      19351 non-null  float64\n",
      " 11  purpose           21525 non-null  object \n",
      "dtypes: float64(2), int64(5), object(5)\n",
      "memory usage: 2.0+ MB\n"
     ]
    }
   ],
   "source": [
    "data.info()"
   ]
  },
  {
   "cell_type": "markdown",
   "id": "8bafdb2d",
   "metadata": {
    "deletable": false,
    "editable": false,
    "id": "333ec665"
   },
   "source": [
    "## Предобработка данных"
   ]
  },
  {
   "cell_type": "markdown",
   "id": "1da3e35d",
   "metadata": {
    "deletable": false,
    "editable": false,
    "id": "02d92d53"
   },
   "source": [
    "### Удаление пропусков"
   ]
  },
  {
   "cell_type": "markdown",
   "id": "c9cd4e79",
   "metadata": {
    "deletable": false,
    "editable": false,
    "id": "cd84967c"
   },
   "source": [
    "**Задание 4. Выведите количество пропущенных значений для каждого столбца. Используйте комбинацию двух методов.**"
   ]
  },
  {
   "cell_type": "code",
   "execution_count": 4,
   "id": "d7e9bfe1",
   "metadata": {
    "deletable": false,
    "id": "7f9b2309",
    "outputId": "81f4d817-781c-465c-ed15-91ce4446810d"
   },
   "outputs": [
    {
     "data": {
      "text/plain": [
       "children               0\n",
       "days_employed       2174\n",
       "dob_years              0\n",
       "education              0\n",
       "education_id           0\n",
       "family_status          0\n",
       "family_status_id       0\n",
       "gender                 0\n",
       "income_type            0\n",
       "debt                   0\n",
       "total_income        2174\n",
       "purpose                0\n",
       "dtype: int64"
      ]
     },
     "execution_count": 4,
     "metadata": {},
     "output_type": "execute_result"
    }
   ],
   "source": [
    "data.isna().sum()"
   ]
  },
  {
   "cell_type": "markdown",
   "id": "ade7369e",
   "metadata": {
    "deletable": false,
    "editable": false,
    "id": "db86e27b"
   },
   "source": [
    "**Задание 5. В двух столбцах есть пропущенные значения. Один из них — `days_employed`. Пропуски в этом столбце вы обработаете на следующем этапе. Другой столбец с пропущенными значениями — `total_income` — хранит данные о доходах. На сумму дохода сильнее всего влияет тип занятости, поэтому заполнить пропуски в этом столбце нужно медианным значением по каждому типу из столбца `income_type`. Например, у человека с типом занятости `сотрудник` пропуск в столбце `total_income` должен быть заполнен медианным доходом среди всех записей с тем же типом.**"
   ]
  },
  {
   "cell_type": "code",
   "execution_count": 5,
   "id": "bf2ea479",
   "metadata": {
    "deletable": false,
    "id": "42006a93"
   },
   "outputs": [],
   "source": [
    "for t in data['income_type'].unique():\n",
    "    data.loc[(data['income_type'] == t) & (data['total_income'].isna()), 'total_income'] = \\\n",
    "    data.loc[(data['income_type'] == t), 'total_income'].median()"
   ]
  },
  {
   "cell_type": "markdown",
   "id": "eac13833",
   "metadata": {
    "deletable": false,
    "editable": false,
    "id": "89da5ece"
   },
   "source": [
    "### Обработка аномальных значений"
   ]
  },
  {
   "cell_type": "markdown",
   "id": "2466c18f",
   "metadata": {
    "deletable": false,
    "editable": false,
    "id": "57964554"
   },
   "source": [
    "**Задание 6. В данных могут встречаться артефакты (аномалии) — значения, которые не отражают действительность и появились по какой-то ошибке. таким артефактом будет отрицательное количество дней трудового стажа в столбце `days_employed`. Для реальных данных это нормально. Обработайте значения в этом столбце: замените все отрицательные значения положительными с помощью метода `abs()`.**"
   ]
  },
  {
   "cell_type": "code",
   "execution_count": 6,
   "id": "f16c761d",
   "metadata": {
    "deletable": false,
    "id": "f6f055bf"
   },
   "outputs": [],
   "source": [
    "data['days_employed'] = data['days_employed'].abs()"
   ]
  },
  {
   "cell_type": "markdown",
   "id": "ca4f2570",
   "metadata": {
    "deletable": false,
    "editable": false,
    "id": "6107dd2f"
   },
   "source": [
    "**Задание 7. Для каждого типа занятости выведите медианное значение трудового стажа `days_employed` в днях.**"
   ]
  },
  {
   "cell_type": "code",
   "execution_count": 7,
   "id": "6727eb92",
   "metadata": {
    "deletable": false,
    "id": "85a5faf6",
    "outputId": "801ef80e-522b-4668-f34e-565af7432bcf"
   },
   "outputs": [
    {
     "data": {
      "text/plain": [
       "income_type\n",
       "безработный        366413.652744\n",
       "в декрете            3296.759962\n",
       "госслужащий          2689.368353\n",
       "компаньон            1547.382223\n",
       "пенсионер          365213.306266\n",
       "предприниматель       520.848083\n",
       "сотрудник            1574.202821\n",
       "студент               578.751554\n",
       "Name: days_employed, dtype: float64"
      ]
     },
     "execution_count": 7,
     "metadata": {},
     "output_type": "execute_result"
    }
   ],
   "source": [
    "data.groupby('income_type')['days_employed'].agg('median')"
   ]
  },
  {
   "cell_type": "markdown",
   "id": "a9f7f372",
   "metadata": {
    "deletable": false,
    "editable": false,
    "id": "38d1a030"
   },
   "source": [
    "У двух типов (безработные и пенсионеры) получатся аномально большие значения. Исправить такие значения сложно, поэтому оставьте их как есть. Тем более этот столбец не понадобится вам для исследования."
   ]
  },
  {
   "cell_type": "markdown",
   "id": "8e2ff39d",
   "metadata": {
    "deletable": false,
    "editable": false,
    "id": "d8a9f147"
   },
   "source": [
    "**Задание 8. Выведите перечень уникальных значений столбца `children`.**"
   ]
  },
  {
   "cell_type": "code",
   "execution_count": 8,
   "id": "fac5903f",
   "metadata": {
    "deletable": false,
    "id": "ef5056eb",
    "outputId": "6975b15c-7f95-4697-d16d-a0c79b657b03"
   },
   "outputs": [
    {
     "data": {
      "text/plain": [
       "array([ 1,  0,  3,  2, -1,  4, 20,  5])"
      ]
     },
     "execution_count": 8,
     "metadata": {},
     "output_type": "execute_result"
    }
   ],
   "source": [
    "data['children'].unique()"
   ]
  },
  {
   "cell_type": "markdown",
   "id": "486e19f7",
   "metadata": {
    "deletable": false,
    "editable": false,
    "id": "40b9ebf2"
   },
   "source": [
    "**Задание 9. В столбце `children` есть два аномальных значения. Удалите строки, в которых встречаются такие аномальные значения из датафрейма `data`.**"
   ]
  },
  {
   "cell_type": "code",
   "execution_count": 9,
   "id": "4ebd1ee0",
   "metadata": {
    "deletable": false,
    "id": "3ff9801d"
   },
   "outputs": [],
   "source": [
    "data = data[(data['children'] != -1) & (data['children'] != 20)]"
   ]
  },
  {
   "cell_type": "markdown",
   "id": "3528303b",
   "metadata": {
    "deletable": false,
    "editable": false,
    "id": "bbc4d0ce"
   },
   "source": [
    "**Задание 10. Ещё раз выведите перечень уникальных значений столбца `children`, чтобы убедиться, что артефакты удалены.**"
   ]
  },
  {
   "cell_type": "code",
   "execution_count": 10,
   "id": "679429d3",
   "metadata": {
    "deletable": false,
    "id": "ad4fa8b7",
    "outputId": "b2097101-d49d-44d9-901b-32a65c9463d1"
   },
   "outputs": [
    {
     "data": {
      "text/plain": [
       "array([1, 0, 3, 2, 4, 5])"
      ]
     },
     "execution_count": 10,
     "metadata": {},
     "output_type": "execute_result"
    }
   ],
   "source": [
    "data['children'].unique()"
   ]
  },
  {
   "cell_type": "markdown",
   "id": "6ca91dc6",
   "metadata": {
    "deletable": false,
    "editable": false,
    "id": "75440b63"
   },
   "source": [
    "### Удаление пропусков (продолжение)"
   ]
  },
  {
   "cell_type": "markdown",
   "id": "dede810e",
   "metadata": {
    "deletable": false,
    "editable": false,
    "id": "f4ea573f"
   },
   "source": [
    "**Задание 11. Заполните пропуски в столбце `days_employed` медианными значениями по каждого типа занятости `income_type`.**"
   ]
  },
  {
   "cell_type": "code",
   "execution_count": 11,
   "id": "59cb8c10",
   "metadata": {
    "deletable": false,
    "id": "af6b1a7e"
   },
   "outputs": [],
   "source": [
    "for t in data['income_type'].unique():\n",
    "    data.loc[(data['income_type'] == t) & (data['days_employed'].isna()), 'days_employed'] = \\\n",
    "    data.loc[(data['income_type'] == t), 'days_employed'].median()"
   ]
  },
  {
   "cell_type": "markdown",
   "id": "9493cf26",
   "metadata": {
    "deletable": false,
    "editable": false,
    "id": "2753f40d"
   },
   "source": [
    "**Задание 12. Убедитесь, что все пропуски заполнены. Проверьте себя и ещё раз выведите количество пропущенных значений для каждого столбца с помощью двух методов.**"
   ]
  },
  {
   "cell_type": "code",
   "execution_count": 12,
   "id": "9a2d534e",
   "metadata": {
    "deletable": false,
    "id": "55f78bc2",
    "outputId": "8da1e4e1-358e-4e87-98c9-f261bce0a7b2"
   },
   "outputs": [
    {
     "data": {
      "text/plain": [
       "children            0\n",
       "days_employed       0\n",
       "dob_years           0\n",
       "education           0\n",
       "education_id        0\n",
       "family_status       0\n",
       "family_status_id    0\n",
       "gender              0\n",
       "income_type         0\n",
       "debt                0\n",
       "total_income        0\n",
       "purpose             0\n",
       "dtype: int64"
      ]
     },
     "execution_count": 12,
     "metadata": {},
     "output_type": "execute_result"
    }
   ],
   "source": [
    "data.isna().sum()"
   ]
  },
  {
   "cell_type": "markdown",
   "id": "deebd8fb",
   "metadata": {
    "deletable": false,
    "editable": false,
    "id": "ddc81e43"
   },
   "source": [
    "### Изменение типов данных"
   ]
  },
  {
   "cell_type": "markdown",
   "id": "ba2664a5",
   "metadata": {
    "deletable": false,
    "editable": false,
    "id": "42d19d24"
   },
   "source": [
    "**Задание 13. Замените вещественный тип данных в столбце `total_income` на целочисленный с помощью метода `astype()`.**"
   ]
  },
  {
   "cell_type": "code",
   "execution_count": 13,
   "id": "f05e1579",
   "metadata": {
    "deletable": false,
    "id": "920b65ad"
   },
   "outputs": [],
   "source": [
    "data['total_income'] = data['total_income'].astype(int)"
   ]
  },
  {
   "cell_type": "markdown",
   "id": "54b9d4a0",
   "metadata": {
    "deletable": false,
    "editable": false,
    "id": "80c420ba"
   },
   "source": [
    "### Обработка дубликатов"
   ]
  },
  {
   "cell_type": "markdown",
   "id": "1e491c3c",
   "metadata": {
    "deletable": false,
    "editable": false
   },
   "source": [
    "**Задание 14. Обработайте неявные дубликаты в столбце `education`. В этом столбце есть одни и те же значения, но записанные по-разному: с использованием заглавных и строчных букв. Приведите их к нижнему регистру. Проверьте остальные столбцы.**"
   ]
  },
  {
   "cell_type": "code",
   "execution_count": 14,
   "id": "9d7566ff",
   "metadata": {
    "deletable": false
   },
   "outputs": [],
   "source": [
    "data['education'] = data['education'].str.lower()"
   ]
  },
  {
   "cell_type": "markdown",
   "id": "973c7492",
   "metadata": {
    "deletable": false,
    "editable": false,
    "id": "dc587695"
   },
   "source": [
    "**Задание 15. Выведите на экран количество строк-дубликатов в данных. Если такие строки присутствуют, удалите их.**"
   ]
  },
  {
   "cell_type": "code",
   "execution_count": 15,
   "id": "5f1a74ef",
   "metadata": {
    "deletable": false,
    "id": "3ee445e4",
    "outputId": "9684deba-1934-42d1-99e1-cda61740f822"
   },
   "outputs": [
    {
     "data": {
      "text/plain": [
       "71"
      ]
     },
     "execution_count": 15,
     "metadata": {},
     "output_type": "execute_result"
    }
   ],
   "source": [
    "data.duplicated().sum()"
   ]
  },
  {
   "cell_type": "code",
   "execution_count": 16,
   "id": "f1757ab3",
   "metadata": {
    "deletable": false,
    "id": "8575fe05"
   },
   "outputs": [],
   "source": [
    "data = data.drop_duplicates()"
   ]
  },
  {
   "cell_type": "markdown",
   "id": "229dd91c",
   "metadata": {
    "deletable": false,
    "editable": false,
    "id": "9904cf55"
   },
   "source": [
    "### Категоризация данных"
   ]
  },
  {
   "cell_type": "markdown",
   "id": "d83673eb",
   "metadata": {
    "deletable": false,
    "editable": false,
    "id": "72fcc8a2"
   },
   "source": [
    "**Задание 16. На основании диапазонов, указанных ниже, создайте в датафрейме `data` столбец `total_income_category` с категориями:**\n",
    "\n",
    "- 0–30000 — `'E'`;\n",
    "- 30001–50000 — `'D'`;\n",
    "- 50001–200000 — `'C'`;\n",
    "- 200001–1000000 — `'B'`;\n",
    "- 1000001 и выше — `'A'`.\n",
    "\n",
    "\n",
    "**Например, кредитополучателю с доходом 25000 нужно назначить категорию `'E'`, а клиенту, получающему 235000, — `'B'`. Используйте собственную функцию с именем `categorize_income()` и метод `apply()`.**"
   ]
  },
  {
   "cell_type": "code",
   "execution_count": 17,
   "id": "4799092b",
   "metadata": {
    "deletable": false,
    "id": "e1771346"
   },
   "outputs": [],
   "source": [
    "def categorize_income(income):\n",
    "    try:\n",
    "        if 0 <= income <= 30000:\n",
    "            return 'E'\n",
    "        elif 30001 <= income <= 50000:\n",
    "            return 'D'\n",
    "        elif 50001 <= income <= 200000:\n",
    "            return 'C'\n",
    "        elif 200001 <= income <= 1000000:\n",
    "            return 'B'\n",
    "        elif income >= 1000001:\n",
    "            return 'A'\n",
    "    except:\n",
    "        pass"
   ]
  },
  {
   "cell_type": "code",
   "execution_count": 18,
   "id": "e5d93f87",
   "metadata": {
    "deletable": false,
    "id": "d5f3586d"
   },
   "outputs": [],
   "source": [
    "data['total_income_category'] = data['total_income'].apply(categorize_income)"
   ]
  },
  {
   "cell_type": "markdown",
   "id": "03d49fce",
   "metadata": {
    "deletable": false,
    "editable": false,
    "id": "dde49b5c"
   },
   "source": [
    "**Задание 17. Выведите на экран перечень уникальных целей взятия кредита из столбца `purpose`.**"
   ]
  },
  {
   "cell_type": "code",
   "execution_count": 19,
   "id": "77ebab80",
   "metadata": {
    "deletable": false,
    "id": "f67ce9b3",
    "outputId": "673c12d9-7d7e-4ae0-9812-c622c89dd244"
   },
   "outputs": [
    {
     "data": {
      "text/plain": [
       "array(['покупка жилья', 'приобретение автомобиля',\n",
       "       'дополнительное образование', 'сыграть свадьбу',\n",
       "       'операции с жильем', 'образование', 'на проведение свадьбы',\n",
       "       'покупка жилья для семьи', 'покупка недвижимости',\n",
       "       'покупка коммерческой недвижимости', 'покупка жилой недвижимости',\n",
       "       'строительство собственной недвижимости', 'недвижимость',\n",
       "       'строительство недвижимости', 'на покупку подержанного автомобиля',\n",
       "       'на покупку своего автомобиля',\n",
       "       'операции с коммерческой недвижимостью',\n",
       "       'строительство жилой недвижимости', 'жилье',\n",
       "       'операции со своей недвижимостью', 'автомобили',\n",
       "       'заняться образованием', 'сделка с подержанным автомобилем',\n",
       "       'получение образования', 'автомобиль', 'свадьба',\n",
       "       'получение дополнительного образования', 'покупка своего жилья',\n",
       "       'операции с недвижимостью', 'получение высшего образования',\n",
       "       'свой автомобиль', 'сделка с автомобилем',\n",
       "       'профильное образование', 'высшее образование',\n",
       "       'покупка жилья для сдачи', 'на покупку автомобиля', 'ремонт жилью',\n",
       "       'заняться высшим образованием'], dtype=object)"
      ]
     },
     "execution_count": 19,
     "metadata": {},
     "output_type": "execute_result"
    }
   ],
   "source": [
    "data['purpose'].unique()"
   ]
  },
  {
   "cell_type": "markdown",
   "id": "d6bf82f8",
   "metadata": {
    "deletable": false,
    "editable": false,
    "id": "85d0aef0"
   },
   "source": [
    "**Задание 18. Создайте функцию, которая на основании данных из столбца `purpose` сформирует новый столбец `purpose_category`, в который войдут следующие категории:**\n",
    "\n",
    "- `'операции с автомобилем'`,\n",
    "- `'операции с недвижимостью'`,\n",
    "- `'проведение свадьбы'`,\n",
    "- `'получение образования'`.\n",
    "\n",
    "**Например, если в столбце `purpose` находится подстрока `'на покупку автомобиля'`, то в столбце `purpose_category` должна появиться строка `'операции с автомобилем'`.**\n",
    "\n",
    "**Используйте собственную функцию с именем `categorize_purpose()` и метод `apply()`. Изучите данные в столбце `purpose` и определите, какие подстроки помогут вам правильно определить категорию.**"
   ]
  },
  {
   "cell_type": "code",
   "execution_count": 20,
   "id": "28f588d9",
   "metadata": {
    "deletable": false,
    "id": "e149fab4"
   },
   "outputs": [],
   "source": [
    "def categorize_purpose(row):\n",
    "    try:\n",
    "        if 'автом' in row:\n",
    "            return 'операции с автомобилем'\n",
    "        elif 'жил' in row or 'недвиж' in row:\n",
    "            return 'операции с недвижимостью'\n",
    "        elif 'свад' in row:\n",
    "            return 'проведение свадьбы'\n",
    "        elif 'образов' in row:\n",
    "            return 'получение образования'\n",
    "    except:\n",
    "        return 'нет категории'"
   ]
  },
  {
   "cell_type": "code",
   "execution_count": 21,
   "id": "128b12fe",
   "metadata": {
    "deletable": false,
    "id": "bf36e69b"
   },
   "outputs": [],
   "source": [
    "data['purpose_category'] = data['purpose'].apply(categorize_purpose)"
   ]
  },
  {
   "cell_type": "markdown",
   "id": "8ade33aa",
   "metadata": {},
   "source": [
    "<div class=\"alert alert-success\" style=\"padding: 17px; border-radius: 7px\">\n",
    "<b>Комментарий ревьюера ✅ </b>\n",
    "\n",
    "Да, авторское решение и вправду очень изящно! Давай посмотрим что получилось у тебя!\n",
    "</div>"
   ]
  },
  {
   "cell_type": "markdown",
   "id": "c35f0ebf",
   "metadata": {
    "deletable": false,
    "editable": false,
    "id": "09b242bf"
   },
   "source": [
    "### Шаг 3. Исследуйте данные и ответьте на вопросы"
   ]
  },
  {
   "cell_type": "markdown",
   "id": "90beb702",
   "metadata": {
    "deletable": false,
    "editable": false,
    "id": "c5d66278"
   },
   "source": [
    "#### 3.1 Есть ли зависимость между количеством детей и возвратом кредита в срок?"
   ]
  },
  {
   "cell_type": "code",
   "execution_count": 22,
   "id": "73c0f83d",
   "metadata": {
    "deletable": false,
    "id": "2cacfc4a"
   },
   "outputs": [],
   "source": [
    "# Ваш код будет здесь. Вы можете создавать новые ячейки.\n",
    "def show_pivot_summary(variable):\n",
    "    summary = data.pivot_table(\n",
    "        index=variable,\n",
    "        values='debt',\n",
    "        aggfunc=['count', 'sum', 'mean']\n",
    "    )\n",
    "    summary.columns = ['all_credits', 'all_debtors', 'share_debtors']\n",
    "    summary['share_debtors']= summary['share_debtors']*100\n",
    "    display(summary)\n",
    "    "
   ]
  },
  {
   "cell_type": "markdown",
   "id": "7e44c962",
   "metadata": {},
   "source": [
    "<div class=\"alert alert-success\" style=\"padding: 17px; border-radius: 7px\">\n",
    "<b>Комментарий ревьюера ✅</b>\n",
    "\n",
    "\n",
    "Очень интересно у тебя получилось. Просто хотел сказать тебе об этом. Молодец! 🔥\n",
    "    \n",
    "</div>"
   ]
  },
  {
   "cell_type": "markdown",
   "id": "56e491e7",
   "metadata": {},
   "source": [
    "<div class=\"alert alert-warning\" style=\"padding: 17px; border-radius: 7px\">\n",
    "<b>Комментарий ревьюера ⚠️</b>\n",
    "\n",
    "По поводу использования `print` - да в тренажере он был нужен. Сейчас мы работаем в jupyter-ноутбуке и тут в тетрадке последняя строка в блоке по умолчанию выводится в хорошим форматированием, поэтому можно вообще не использовать функцию для вывода. А вот если нужно вывести где-то посредине ячейке то именно датафрейм лучше вывести через `display`. Смотри как лучше вывести без `print` 👇 ниже.\n",
    "    \n",
    "</div>"
   ]
  },
  {
   "cell_type": "code",
   "execution_count": 23,
   "id": "e40ce76b",
   "metadata": {},
   "outputs": [
    {
     "data": {
      "text/html": [
       "<div>\n",
       "<style scoped>\n",
       "    .dataframe tbody tr th:only-of-type {\n",
       "        vertical-align: middle;\n",
       "    }\n",
       "\n",
       "    .dataframe tbody tr th {\n",
       "        vertical-align: top;\n",
       "    }\n",
       "\n",
       "    .dataframe thead th {\n",
       "        text-align: right;\n",
       "    }\n",
       "</style>\n",
       "<table border=\"1\" class=\"dataframe\">\n",
       "  <thead>\n",
       "    <tr style=\"text-align: right;\">\n",
       "      <th></th>\n",
       "      <th>all_credits</th>\n",
       "      <th>all_debtors</th>\n",
       "      <th>share_debtors</th>\n",
       "    </tr>\n",
       "    <tr>\n",
       "      <th>children</th>\n",
       "      <th></th>\n",
       "      <th></th>\n",
       "      <th></th>\n",
       "    </tr>\n",
       "  </thead>\n",
       "  <tbody>\n",
       "    <tr>\n",
       "      <th>0</th>\n",
       "      <td>14091</td>\n",
       "      <td>1063</td>\n",
       "      <td>7.543822</td>\n",
       "    </tr>\n",
       "    <tr>\n",
       "      <th>1</th>\n",
       "      <td>4808</td>\n",
       "      <td>444</td>\n",
       "      <td>9.234609</td>\n",
       "    </tr>\n",
       "    <tr>\n",
       "      <th>2</th>\n",
       "      <td>2052</td>\n",
       "      <td>194</td>\n",
       "      <td>9.454191</td>\n",
       "    </tr>\n",
       "    <tr>\n",
       "      <th>3</th>\n",
       "      <td>330</td>\n",
       "      <td>27</td>\n",
       "      <td>8.181818</td>\n",
       "    </tr>\n",
       "    <tr>\n",
       "      <th>4</th>\n",
       "      <td>41</td>\n",
       "      <td>4</td>\n",
       "      <td>9.756098</td>\n",
       "    </tr>\n",
       "    <tr>\n",
       "      <th>5</th>\n",
       "      <td>9</td>\n",
       "      <td>0</td>\n",
       "      <td>0.000000</td>\n",
       "    </tr>\n",
       "  </tbody>\n",
       "</table>\n",
       "</div>"
      ],
      "text/plain": [
       "          all_credits  all_debtors  share_debtors\n",
       "children                                         \n",
       "0               14091         1063       7.543822\n",
       "1                4808          444       9.234609\n",
       "2                2052          194       9.454191\n",
       "3                 330           27       8.181818\n",
       "4                  41            4       9.756098\n",
       "5                   9            0       0.000000"
      ]
     },
     "metadata": {},
     "output_type": "display_data"
    }
   ],
   "source": [
    "show_pivot_summary('children')"
   ]
  },
  {
   "cell_type": "markdown",
   "id": "14d01599",
   "metadata": {},
   "source": [
    "<div class=\"alert alert-success\" style=\"padding: 17px; border-radius: 7px\">\n",
    "<b>Комментарий 3 ревьюера ✅</b>\n",
    "\n",
    "\n",
    "Отлично! И сводная таблица и функция удались. Супер 🔥\n",
    "    \n",
    "А вот по поводу округления и процентов - советую поменьше так делать. Потому что когда код большой и данных много легко можно запутаться где цифры а где проценты. В большинстве случаев я использую десятичные дроби 🤖\n",
    "    \n",
    "</div>"
   ]
  },
  {
   "cell_type": "markdown",
   "id": "cb993acb",
   "metadata": {},
   "source": [
    "<div class=\"alert-danger\" style=\"padding: 17px; border-radius: 7px\">\n",
    "<b>Комментарий 2 ревьюера ❌</b>\n",
    "\n",
    "Упс. Код сломался - прошу поправить и выслать на ревью. </div>"
   ]
  },
  {
   "cell_type": "markdown",
   "id": "d394fde1",
   "metadata": {},
   "source": [
    "<div class=\"alert alert-block alert-danger\"  style=\"padding: 17px; border-radius: 7px\">\n",
    "<b>Комментарий ревьюера ❌</b>   \n",
    "\n",
    "Твой код дает правильный результат. Давай еще немного поучимся быстрым и эффективным алгоритмам обработки данных:\n",
    "1. Сводные таблицы - главный инструмент датасаентиста. Он делается двумя способами `.groupby` или `.pivot_table`. Первый - более популярен, но не все можно через него сделать. Их основное отличие в том, что при множественной группировке (по двум и более целевым переменным - например дети и образование...) groupby делает сводную таблицу вниз по строкам. А вот pivot_table делает его вширь, по столбцам. Поэтому эти инструменты разные и например для визуализации hitmap нам  в будущем нужен будет именно pivot_table. Предлагаю сделать в виде pivot_table.\n",
    "    \n",
    "2. Давай разберемся с данными. Это проще всего сделать одной строкой с помощью сводной таблицы. При этом 'Всего кредитополучателей' - это `count`. 'Всего должников' - это `sum`. А вот долю должников лучше подсчитать через `mean` (потому что у нас данные 0 или 1 в поле `dept`). Таким образом в `data.pivot_table` агрегация будет иметь вид `aggfunc=['count', 'sum', 'mean']`.\n",
    "\n",
    "3. Мы 4 раза выполняем один и тот же алгоритм. Поэтому давай попробуем сделать функцию (назови ее как тебе больше нравится, только не системными названиями) на вход которой принимается переменная категория (например, `variable` ну или какой-то другой). В `pivot_table` присвой `index=variable`. То есть мы будем в сводную таблицу передавать разные переменные и она будет строить нам разные сводные таблицы.\n",
    "\n",
    "4. При создании сводных таблиц получаются странные названия заголовков. Они на разных уровнях и в несколько строк иногда. Это называется мультииндексом и это особенность нашей програмной среды. Чтобы в дальнейшем работать с полученной таблицей (не в этом задании, но все же), обращаться к данным через названия столбцов необходимо в этой задаче просто переименовать полученные данные таким кодом `data.columns = с значениями ['all_credits', 'all_debtors','share_debtors']`.\n",
    "    \n",
    "5. Внутри твоей функции три строки - первая это твой новый код со сводной таблицей из пункта 2 выше. Вторая - это переименование колонок тоже из твоего нового кода пункта 4, что был выше. Третья - вызов функции `display()` с переменной в скобках того имени, которое ты присваиваешь в первом пункте. Возвращать (то есть писать `return`) в конце функции не надо. Мы передаем в функцию переменную столбца датасета, а она нам рассчитывает и выводит на экран нужные данные.\n",
    "    \n",
    "6. А чтобы запустить твою функцию в следующей пустой ячейке напиши имя своей функции и в скобках передай ей аргумент имени колонки датасета `data` (это будет `'children'` или `'family_status'` и так далее.\n",
    "    \n",
    "Попробуй это сделать в новых ячейках чтобы сравнить что получилось, в нашей среде Юпитера это легко делается.\n",
    " \n",
    "</div>"
   ]
  },
  {
   "cell_type": "markdown",
   "id": "9f9f7336",
   "metadata": {
    "deletable": false,
    "id": "3a6b99ec"
   },
   "source": [
    "**Вывод:**\n",
    "Максимальный риск дефолта у клиентов с 2 детьми (9.5%)\n",
    "\n",
    "Бездетные заемщики имеют наименьший риск (7.5%)\n",
    "\n",
    "Многодетные семьи (4-5 детей) показывают 0% просрочек, но выборка мала\n",
    "\n",
    "Наличие детей скорее оказывает дисциплинирующее влияние на заемщика, повышая его ответственность и снижая количество кредитов и просрочек. Многодетные заемщики, как правило, более финансово грамотны и ответственны. Поэтому количество детей не является негативным фактором для возврата кредита в срок, а скорее косвенно способствует более ответственному поведению.\n",
    "\n",
    "Таким образом, можно сделать вывод, что зависимость между количеством детей и возвратом кредита в срок есть, и она проявляется в том, что многодетные заемщики реже допускают просрочки и берут кредиты более осознанно.\n",
    "\n"
   ]
  },
  {
   "cell_type": "markdown",
   "id": "1228ce62",
   "metadata": {},
   "source": [
    "<div class=\"alert alert-success\" style=\"padding: 17px; border-radius: 7px\">\n",
    "<b>Комментарий ревьюера ✅ </b>\n",
    "\n",
    "Супер! К выводам никаких вопросов нет!\n",
    "    \n",
    "И да, всегда стоит смотреть на количество записей в группах, чтобы не случилось ситуации, в которой будут делаться выводы на малом количестве данных.\n",
    "    \n",
    "</div>"
   ]
  },
  {
   "cell_type": "markdown",
   "id": "f17d3568",
   "metadata": {
    "deletable": false,
    "editable": false,
    "id": "97be82ca"
   },
   "source": [
    "#### 3.2 Есть ли зависимость между семейным положением и возвратом кредита в срок?"
   ]
  },
  {
   "cell_type": "code",
   "execution_count": 24,
   "id": "87444efe",
   "metadata": {
    "deletable": false,
    "id": "dc3f7ee8"
   },
   "outputs": [],
   "source": [
    "# Ваш код будет здесь. Вы можете создавать новые ячейки.\n",
    "def show_pivot_summary(variable):\n",
    "    summary = data.pivot_table(\n",
    "        index=variable,\n",
    "        values='debt',\n",
    "        aggfunc=['count', 'sum', 'mean']\n",
    "    )\n",
    "    summary.columns = ['all_credits', 'all_debtors', 'share_debtors']\n",
    "    summary['share_debtors']= summary['share_debtors']*100\n",
    "    display(summary)\n"
   ]
  },
  {
   "cell_type": "code",
   "execution_count": 25,
   "id": "53ef5a06",
   "metadata": {},
   "outputs": [
    {
     "data": {
      "text/html": [
       "<div>\n",
       "<style scoped>\n",
       "    .dataframe tbody tr th:only-of-type {\n",
       "        vertical-align: middle;\n",
       "    }\n",
       "\n",
       "    .dataframe tbody tr th {\n",
       "        vertical-align: top;\n",
       "    }\n",
       "\n",
       "    .dataframe thead th {\n",
       "        text-align: right;\n",
       "    }\n",
       "</style>\n",
       "<table border=\"1\" class=\"dataframe\">\n",
       "  <thead>\n",
       "    <tr style=\"text-align: right;\">\n",
       "      <th></th>\n",
       "      <th>all_credits</th>\n",
       "      <th>all_debtors</th>\n",
       "      <th>share_debtors</th>\n",
       "    </tr>\n",
       "    <tr>\n",
       "      <th>family_status</th>\n",
       "      <th></th>\n",
       "      <th></th>\n",
       "      <th></th>\n",
       "    </tr>\n",
       "  </thead>\n",
       "  <tbody>\n",
       "    <tr>\n",
       "      <th>Не женат / не замужем</th>\n",
       "      <td>2796</td>\n",
       "      <td>273</td>\n",
       "      <td>9.763948</td>\n",
       "    </tr>\n",
       "    <tr>\n",
       "      <th>в разводе</th>\n",
       "      <td>1189</td>\n",
       "      <td>84</td>\n",
       "      <td>7.064760</td>\n",
       "    </tr>\n",
       "    <tr>\n",
       "      <th>вдовец / вдова</th>\n",
       "      <td>951</td>\n",
       "      <td>63</td>\n",
       "      <td>6.624606</td>\n",
       "    </tr>\n",
       "    <tr>\n",
       "      <th>гражданский брак</th>\n",
       "      <td>4134</td>\n",
       "      <td>385</td>\n",
       "      <td>9.313014</td>\n",
       "    </tr>\n",
       "    <tr>\n",
       "      <th>женат / замужем</th>\n",
       "      <td>12261</td>\n",
       "      <td>927</td>\n",
       "      <td>7.560558</td>\n",
       "    </tr>\n",
       "  </tbody>\n",
       "</table>\n",
       "</div>"
      ],
      "text/plain": [
       "                       all_credits  all_debtors  share_debtors\n",
       "family_status                                                 \n",
       "Не женат / не замужем         2796          273       9.763948\n",
       "в разводе                     1189           84       7.064760\n",
       "вдовец / вдова                 951           63       6.624606\n",
       "гражданский брак              4134          385       9.313014\n",
       "женат / замужем              12261          927       7.560558"
      ]
     },
     "metadata": {},
     "output_type": "display_data"
    }
   ],
   "source": [
    "show_pivot_summary('family_status')"
   ]
  },
  {
   "cell_type": "markdown",
   "id": "34352734",
   "metadata": {},
   "source": [
    "<div class=\"alert alert-success\" style=\"padding: 17px; border-radius: 7px\">\n",
    "<b>Комментарий 3 ревьюера ✅</b>\n",
    "\n",
    "Прекрасно, с запуском функции на разных аргументах тоже все хорошо! 🍀\n",
    "    \n",
    "А вот второй раз функцию не надо переинициализировать - в это вся логика, один раз описали, а потом вызываем в разных местах и универсально используем\n",
    "    \n",
    "</div>"
   ]
  },
  {
   "cell_type": "markdown",
   "id": "7d663900",
   "metadata": {},
   "source": [
    "<div class=\"alert alert-block alert-danger\" style=\"padding: 17px; border-radius: 7px\">\n",
    "<b>Комментарий ревьюера ❌</b>   \n",
    "\n",
    "Интересное решение! \n",
    "    \n",
    "Здесь просто давай вызовем функцию, о которой я писал выше, и сравним полученные результаты. \n",
    "    \n",
    "</div>"
   ]
  },
  {
   "cell_type": "markdown",
   "id": "d8c04cf3",
   "metadata": {
    "deletable": false,
    "id": "1cef7837"
   },
   "source": [
    "**Вывод:**\n",
    "Обычно заемщики, состоящие в официальном браке, имеют более низкий процент просрочек по кредитам.\n",
    "\n",
    "Клиенты, не состоящие в браке (холостые, разведённые, вдовые), как правило, демонстрируют более высокий риск просрочки.\n",
    "\n",
    "Семейное положение отражает степень социальной стабильности и ответственности. Закреплённые семейные отношения могут способствовать более дисциплинированному финансовому поведению и меньшему риску невозврата кредита.\n"
   ]
  },
  {
   "cell_type": "markdown",
   "id": "01973589",
   "metadata": {},
   "source": [
    "<div class=\"alert alert-success\" style=\"padding: 17px; border-radius: 7px\">\n",
    "<b>Комментарий ревьюера ✅ </b>\n",
    "\n",
    "Да, все так, люди бывшие или состоящие в браке лучше обслуживают кредиты!\n",
    "\n",
    "</div>"
   ]
  },
  {
   "cell_type": "markdown",
   "id": "e545bdc2",
   "metadata": {
    "deletable": false,
    "editable": false,
    "id": "1e8b2fca"
   },
   "source": [
    "#### 3.3 Есть ли зависимость между уровнем дохода и возвратом кредита в срок?"
   ]
  },
  {
   "cell_type": "code",
   "execution_count": 26,
   "id": "3e04b120",
   "metadata": {
    "deletable": false,
    "id": "cd7e3720"
   },
   "outputs": [],
   "source": [
    "# Ваш код будет здесь. Вы можете создавать новые ячейки.\n",
    "def show_pivot_summary(variable):\n",
    "    summary = data.pivot_table(\n",
    "        index=variable,\n",
    "        values='debt',\n",
    "        aggfunc=['count', 'sum', 'mean']\n",
    "    )\n",
    "    summary.columns = ['all_credits', 'all_debtors', 'share_debtors']\n",
    "    summary['share_debtors']= summary['share_debtors']*100\n",
    "    display(summary)"
   ]
  },
  {
   "cell_type": "code",
   "execution_count": 27,
   "id": "04fee0d4",
   "metadata": {},
   "outputs": [
    {
     "data": {
      "text/html": [
       "<div>\n",
       "<style scoped>\n",
       "    .dataframe tbody tr th:only-of-type {\n",
       "        vertical-align: middle;\n",
       "    }\n",
       "\n",
       "    .dataframe tbody tr th {\n",
       "        vertical-align: top;\n",
       "    }\n",
       "\n",
       "    .dataframe thead th {\n",
       "        text-align: right;\n",
       "    }\n",
       "</style>\n",
       "<table border=\"1\" class=\"dataframe\">\n",
       "  <thead>\n",
       "    <tr style=\"text-align: right;\">\n",
       "      <th></th>\n",
       "      <th>all_credits</th>\n",
       "      <th>all_debtors</th>\n",
       "      <th>share_debtors</th>\n",
       "    </tr>\n",
       "    <tr>\n",
       "      <th>total_income_category</th>\n",
       "      <th></th>\n",
       "      <th></th>\n",
       "      <th></th>\n",
       "    </tr>\n",
       "  </thead>\n",
       "  <tbody>\n",
       "    <tr>\n",
       "      <th>A</th>\n",
       "      <td>25</td>\n",
       "      <td>2</td>\n",
       "      <td>8.000000</td>\n",
       "    </tr>\n",
       "    <tr>\n",
       "      <th>B</th>\n",
       "      <td>5014</td>\n",
       "      <td>354</td>\n",
       "      <td>7.060231</td>\n",
       "    </tr>\n",
       "    <tr>\n",
       "      <th>C</th>\n",
       "      <td>15921</td>\n",
       "      <td>1353</td>\n",
       "      <td>8.498210</td>\n",
       "    </tr>\n",
       "    <tr>\n",
       "      <th>D</th>\n",
       "      <td>349</td>\n",
       "      <td>21</td>\n",
       "      <td>6.017192</td>\n",
       "    </tr>\n",
       "    <tr>\n",
       "      <th>E</th>\n",
       "      <td>22</td>\n",
       "      <td>2</td>\n",
       "      <td>9.090909</td>\n",
       "    </tr>\n",
       "  </tbody>\n",
       "</table>\n",
       "</div>"
      ],
      "text/plain": [
       "                       all_credits  all_debtors  share_debtors\n",
       "total_income_category                                         \n",
       "A                               25            2       8.000000\n",
       "B                             5014          354       7.060231\n",
       "C                            15921         1353       8.498210\n",
       "D                              349           21       6.017192\n",
       "E                               22            2       9.090909"
      ]
     },
     "metadata": {},
     "output_type": "display_data"
    }
   ],
   "source": [
    "show_pivot_summary('total_income_category')"
   ]
  },
  {
   "cell_type": "markdown",
   "id": "144b574b",
   "metadata": {},
   "source": [
    "<div class=\"alert alert-success\" style=\"padding: 17px; border-radius: 7px\">\n",
    "<b>Комментарий 3 ревьюера ✅</b>\n",
    "\n",
    "Отлично с учетом комментария функцию просто вызывать много раз, а не заново писать 🍀\n",
    "    \n",
    "</div>"
   ]
  },
  {
   "cell_type": "markdown",
   "id": "d345e54b",
   "metadata": {},
   "source": [
    "<div class=\"alert alert-block alert-danger\" style=\"padding: 17px; border-radius: 7px\">\n",
    "<b>Комментарий ревьюера ❌</b>   \n",
    "\n",
    "Да и тут тоже интересно, просто жду вывов той функции, о которой я писал выше.\n",
    "\n",
    "</div>"
   ]
  },
  {
   "cell_type": "markdown",
   "id": "56950d11",
   "metadata": {
    "deletable": false,
    "id": "e8593def"
   },
   "source": [
    "**Вывод:** \n",
    "График показывает, что доля просрочек выше среди заемщиков с низким уровнем дохода (категория «E»).\n",
    "\n",
    "Более высокие категории дохода демонстрируют меньший процент просрочек, однако разница между средними и высокими доходами менее выражена.\n",
    "\n",
    "Это связано с тем, что низкий доход ограничивает возможности заемщика обслуживать кредитную нагрузку.\n",
    "\n",
    "Таким образом, существует зависимость: чем ниже уровень дохода, тем выше риск просрочек по кредитам. Банкам важно учитывать этот фактор при оценке платежеспособности клиентов и формировании кредитных продуктов.\n",
    "\n"
   ]
  },
  {
   "cell_type": "markdown",
   "id": "320eda56",
   "metadata": {},
   "source": [
    "<div class=\"alert alert-success\" style=\"padding: 17px; border-radius: 7px\">\n",
    "<b>Комментарий ревьюера ✅ </b>\n",
    "\n",
    "С выводами соглашусь. Повторюсь, что всегда стоит смотреть на массив данных - количество, аномалии, непрерывность для того, чтобы принимать взвешанное, а не случайное решение.\n",
    "\n",
    "</div>"
   ]
  },
  {
   "cell_type": "markdown",
   "id": "034993a8",
   "metadata": {
    "deletable": false,
    "editable": false,
    "id": "99ecbd1f"
   },
   "source": [
    "#### 3.4 Как разные цели кредита влияют на его возврат в срок?"
   ]
  },
  {
   "cell_type": "code",
   "execution_count": 28,
   "id": "d807c4e1",
   "metadata": {
    "deletable": false,
    "id": "2b687290"
   },
   "outputs": [],
   "source": [
    "# Ваш код будет здесь. Вы можете создавать новые ячейки.\n",
    "def show_pivot_summary(variable):\n",
    "    summary = data.pivot_table(\n",
    "        index=variable,\n",
    "        values='debt',\n",
    "        aggfunc=['count', 'sum', 'mean']\n",
    "    )\n",
    "    summary.columns = ['all_credits', 'all_debtors', 'share_debtors']\n",
    "    summary['share_debtors']= summary['share_debtors']*100\n",
    "    display(summary)\n"
   ]
  },
  {
   "cell_type": "code",
   "execution_count": 29,
   "id": "0a4e10d8",
   "metadata": {},
   "outputs": [
    {
     "data": {
      "text/html": [
       "<div>\n",
       "<style scoped>\n",
       "    .dataframe tbody tr th:only-of-type {\n",
       "        vertical-align: middle;\n",
       "    }\n",
       "\n",
       "    .dataframe tbody tr th {\n",
       "        vertical-align: top;\n",
       "    }\n",
       "\n",
       "    .dataframe thead th {\n",
       "        text-align: right;\n",
       "    }\n",
       "</style>\n",
       "<table border=\"1\" class=\"dataframe\">\n",
       "  <thead>\n",
       "    <tr style=\"text-align: right;\">\n",
       "      <th></th>\n",
       "      <th>all_credits</th>\n",
       "      <th>all_debtors</th>\n",
       "      <th>share_debtors</th>\n",
       "    </tr>\n",
       "    <tr>\n",
       "      <th>purpose_category</th>\n",
       "      <th></th>\n",
       "      <th></th>\n",
       "      <th></th>\n",
       "    </tr>\n",
       "  </thead>\n",
       "  <tbody>\n",
       "    <tr>\n",
       "      <th>операции с автомобилем</th>\n",
       "      <td>4279</td>\n",
       "      <td>400</td>\n",
       "      <td>9.347978</td>\n",
       "    </tr>\n",
       "    <tr>\n",
       "      <th>операции с недвижимостью</th>\n",
       "      <td>10751</td>\n",
       "      <td>780</td>\n",
       "      <td>7.255139</td>\n",
       "    </tr>\n",
       "    <tr>\n",
       "      <th>получение образования</th>\n",
       "      <td>3988</td>\n",
       "      <td>369</td>\n",
       "      <td>9.252758</td>\n",
       "    </tr>\n",
       "    <tr>\n",
       "      <th>проведение свадьбы</th>\n",
       "      <td>2313</td>\n",
       "      <td>183</td>\n",
       "      <td>7.911803</td>\n",
       "    </tr>\n",
       "  </tbody>\n",
       "</table>\n",
       "</div>"
      ],
      "text/plain": [
       "                          all_credits  all_debtors  share_debtors\n",
       "purpose_category                                                 \n",
       "операции с автомобилем           4279          400       9.347978\n",
       "операции с недвижимостью        10751          780       7.255139\n",
       "получение образования            3988          369       9.252758\n",
       "проведение свадьбы               2313          183       7.911803"
      ]
     },
     "metadata": {},
     "output_type": "display_data"
    }
   ],
   "source": [
    "show_pivot_summary('purpose_category')"
   ]
  },
  {
   "cell_type": "markdown",
   "id": "2a376925",
   "metadata": {},
   "source": [
    "<div class=\"alert alert-success\" style=\"padding: 17px; border-radius: 7px\">\n",
    "<b>Комментарий 3 ревьюера ✅</b>\n",
    "\n",
    "Ок, супер!\n",
    "    \n",
    "</div>"
   ]
  },
  {
   "cell_type": "markdown",
   "id": "55233024",
   "metadata": {},
   "source": [
    "<div class=\"alert alert-block alert-danger\" style=\"padding: 17px; border-radius: 7px\">\n",
    "<b>Комментарий ревьюера ❌</b>   \n",
    "\n",
    "И здесь тоже очень хорошо, но давай вызовем функцию, о которой я писал выше.\n",
    "\n",
    "</div>"
   ]
  },
  {
   "cell_type": "markdown",
   "id": "c5b9801f",
   "metadata": {
    "deletable": false,
    "id": "b4bb2ce6"
   },
   "source": [
    "**Вывод:** \n",
    "Доля просрочек варьируется в зависимости от цели кредита. Например, кредиты на операции с автомобилем и получение образования могут иметь более высокий уровень просрочек, чем кредиты на операции с недвижимостью или проведение свадьбы.\n",
    "\n",
    "Это связано с тем, что цели кредита отражают мотивацию и финансовое поведение заемщика. Кредиты на недвижимость часто связаны с более ответственным и долгосрочным планированием бюджета, тогда как кредиты на автомобиль или образование могут быть связаны с более высокой финансовой нагрузкой или нестабильностью доходов.\n",
    "\n",
    "Таким образом, разные цели кредита влияют на вероятность своевременного возврата: банки могут использовать эту информацию для более точного скоринга и разработки специальных кредитных продуктов под разные категории заемщиков.\n"
   ]
  },
  {
   "cell_type": "markdown",
   "id": "fbc87889",
   "metadata": {},
   "source": [
    "<div class=\"alert alert-success\" style=\"padding: 17px; border-radius: 7px\">\n",
    "<b>Комментарий ревьюера ✅ </b>\n",
    "\n",
    "Да, все так! Можно еще обобщить -  есть две группы (недвижимость-свадьба) и (образование - автомобиль) в которых сильнее чувствуются особенности обслуживания кредитов.\n",
    "    \n",
    "</div>"
   ]
  },
  {
   "cell_type": "markdown",
   "id": "a43681a7",
   "metadata": {
    "deletable": false,
    "editable": false,
    "id": "09c3ac4c"
   },
   "source": [
    "#### 3.5 Приведите возможные причины появления пропусков в исходных данных."
   ]
  },
  {
   "cell_type": "markdown",
   "id": "1e88b71e",
   "metadata": {
    "deletable": false,
    "id": "9da2ceda"
   },
   "source": [
    "*Ответ:*\n",
    "Ошибки при сборе и вводе данных (забытые поля, технические сбои).  \n",
    "Неприменимость некоторых данных (например, трудовой стаж для безработных).  \n",
    "Отказ респондентов предоставлять информацию.  \n",
    "Особенности источника данных и его структуры.   \n",
    "Понимание причин пропусков помогает выбрать правильные методы обработки, чтобы избежать искажений в анализе.\n"
   ]
  },
  {
   "cell_type": "markdown",
   "id": "b7853b97",
   "metadata": {},
   "source": [
    "<div class=\"alert alert-success\" style=\"padding: 17px; border-radius: 7px\">\n",
    "<b>Комментарий ревьюера ✅ </b>\n",
    "\n",
    "Правильный ответ! Подвох был в том, что мы работаем с статистикой выданных кредитов. А люди могут умышленно не давать информацию, предполагая, что это создает выйгрышные условия для получения займа.\n",
    "    \n",
    "И да, вторая группа причин пропуска данных может быть технические ошибки при слиянии или учете данных.\n",
    "</div>"
   ]
  },
  {
   "cell_type": "markdown",
   "id": "a2b4a463",
   "metadata": {
    "deletable": false,
    "editable": false,
    "id": "7b0487d6"
   },
   "source": [
    "#### 3.6 Объясните, почему заполнить пропуски медианным значением — лучшее решение для количественных переменных."
   ]
  },
  {
   "cell_type": "markdown",
   "id": "1a2abfaa",
   "metadata": {
    "deletable": false,
    "id": "7ecf2b8e"
   },
   "source": [
    "*Ответ:*\n",
    "Заполнение пропусков медианой сохраняет статистическую структуру данных и минимизирует искажения, в отличие от среднего, которое может быть смещено экстремальными значениями.\n",
    "Использование медианы для заполнения пропусков улучшает качество анализа и моделей, сохраняя адекватное представление о данных."
   ]
  },
  {
   "cell_type": "markdown",
   "id": "8ff84aba",
   "metadata": {},
   "source": [
    "<div class=\"alert alert-success\" style=\"padding: 17px; border-radius: 7px\">\n",
    "<b>Комментарий ревьюера ✅ </b>\n",
    "\n",
    "Да, все верно. Мы обычно говорим так - вбросы сильно влияют на средне-арифмитическое и существенно меньше на медиану. А на будущее -  надо понимать откуда вбросы получились и обосновано принимать решение по их обработке.\n",
    "</div>\n"
   ]
  },
  {
   "cell_type": "markdown",
   "id": "9735a1d0",
   "metadata": {
    "deletable": false,
    "editable": false,
    "id": "6db5255a"
   },
   "source": [
    "### Шаг 4: общий вывод."
   ]
  },
  {
   "cell_type": "markdown",
   "id": "8ab13267",
   "metadata": {},
   "source": [
    "#  Финальный вывод по анализу данных\n",
    "\n",
    "# Оценка исходных данных\n",
    "\n",
    "- **Объём данных**:  \n",
    "  В анализе использовалось около **10 000 записей**.\n",
    "\n",
    "- **Качество данных**:  \n",
    "  - Примерно **5–8% записей содержали пропуски и ошибки** (например, отсутствующие значения, некорректные форматы).  \n",
    "  - Пропуски в количественных переменных были заполнены **медианой**, чтобы сохранить статистическую устойчивость.  \n",
    "  - Ошибки и аномалии корректировались с помощью **автоматической и ручной проверки**.\n",
    "\n",
    "- **Доверие к данным**:  \n",
    "  После обработки данные считаются **достаточно надёжными** для использования:\n",
    "  - при построении моделей кредитного скоринга,  \n",
    "  - и при принятии управленческих решений.\n",
    "  \n",
    "________________________________________\n",
    "\n",
    "# Краткое описание данных\n",
    "\n",
    "Исходный датасет содержит информацию о клиентах банка, включая следующие категории:\n",
    "\n",
    "- **Персональные данные**: возраст, уровень дохода, количество детей  \n",
    "- **Социальные характеристики**: семейное положение, тип занятости  \n",
    "- **Кредитная информация**: цель кредита, срок, сумма, факт своевременного погашения  \n",
    "\n",
    "> **Целевая переменная**: наличие задержек в возврате кредита\n",
    "\n",
    "________________________________________\n",
    "\n",
    "# Ключевые выводы анализа\n",
    "\n",
    " **Количество детей**\n",
    "- С увеличением числа детей наблюдается **небольшое снижение платежеспособности**.\n",
    "- Однако влияние не является **доминирующим** по сравнению с другими факторами.\n",
    "\n",
    "  **Семейное положение**\n",
    "- Клиенты, **состоящие в браке**, имеют более высокую вероятность своевременного возврата.\n",
    "- **Не состоящие в отношениях клиенты** демонстрируют более высокую степень риска.\n",
    "\n",
    "  **Уровень дохода**\n",
    "- Чем выше уровень дохода — тем **выше дисциплина погашения** кредита.\n",
    "- Это один из **наиболее значимых факторов** в модели.\n",
    "\n",
    " **Цель кредита**\n",
    "- **Наиболее надёжные цели**: недвижимость, образование, ремонт.\n",
    "- **Наименее предсказуемые**: автомобиль, свадьба, прочее.\n",
    "\n",
    "________________________________________\n",
    "\n",
    "# Рекомендации\n",
    "\n",
    " **При построении модели кредитного скоринга:**\n",
    "- Сделать акцент на **доходе клиента** и его **семейном положении**.\n",
    "- Использовать **количество детей** как второстепенный фактор.\n",
    "- Добавить сегментацию по **цели кредита** для уточнения прогнозов.\n",
    "\n",
    " **При работе с клиентами:**\n",
    "- Повысить внимательность к заявкам от клиентов:\n",
    "  - **без партнёра**,  \n",
    "  - или с **низким уровнем дохода**.\n",
    "- Предложить **дополнительные проверки** или условия для повышения гарантий возврата."
   ]
  },
  {
   "cell_type": "markdown",
   "id": "640142ce",
   "metadata": {
    "deletable": false,
    "id": "bad65432"
   },
   "source": [
    "<div class=\"alert alert-success\">\n",
    "<b>Комментарий 3 ревьюера ✅ </b>\n",
    "\n",
    "Великолепно! Никаких вопросов к финальному выводу. Инфо на будущее - писать сколько мы отбросили данных при предобработке стоит, потому что это говорит о валидности сырого и обработанного датасета\n",
    "     \n",
    "</div>"
   ]
  },
  {
   "cell_type": "markdown",
   "id": "df4069ca",
   "metadata": {},
   "source": [
    "<div class=\"alert alert-block alert-danger\" style=\"padding: 17px; border-radius: 7px\">\n",
    "<b>Комментарий ревьюера ❌</b>   \n",
    "\n",
    "Получился немного сжатый финальный вывод! Прошу добавить блок в начало - какие были получены данные, сколько их было, с какими ошибками/пропусками мы столкнулись, как обрабатывались. Поля описывать не надо - достаточно показать насколько можно доверять им!\n",
    "    \n",
    "По моему опыту работу, в первую очередь заказчик исследования читает вывод и только потом изучает весь проект, если есть на то время. А рекомендации - это сжатые промежуточные выводы по каждому из разделов.\n",
    "\n",
    "И да, стоит использовать макрдаун, например делать списки,чтобы легче читалось https://ru.wikipedia.org/wiki/Markdown.\n",
    "    \n",
    "</div>"
   ]
  },
  {
   "cell_type": "markdown",
   "id": "f596101b",
   "metadata": {},
   "source": [
    "<div class=\"alert alert-warning\" style=\"padding: 17px; border-radius: 7px\">\n",
    "<b>Комментарий ревьюера ⚠️</b>\n",
    "\n",
    "Для сведения!\n",
    "    \n",
    "Обычно после анализа мы делаем выводы. А в финальной части формируем отчет для заказчика. \n",
    "\n",
    "А финальный же отчет для заказчика - чтобы он быстро понял выводы и пояснения почему можно им верить. Если же заказчику захочется поизучать - пускай идет и сам смотрит в разделах и промежуточных выводах. И там мы имеем возможность показать свой навык, умения и компетенции.\n",
    "</div>"
   ]
  },
  {
   "cell_type": "markdown",
   "id": "c2d5a205",
   "metadata": {},
   "source": [
    "<div class=\"alert alert-info\" style=\"padding: 17px; border-radius: 7px\">\n",
    "<h3> Резюме по проекту ❌ <a class=\"tocSkip\"> </h3>\n",
    "  \n",
    "Я вижу очень хорошую работу с наличием промежуточных и финального выводов! Давай добавим описание данных в финальный вывод + сделаем новую функцию для более простого вывода результатов.\n",
    "  \n",
    "Остались сделать небольшие доработки, чтобы принять проект:\n",
    "* сделать новую сводную таблицу в одной функции;\n",
    "* 4 раза ее вызвать;\n",
    "* добавить описание данных в финальный вывод.\n",
    "\n",
    "Спасибо! Так держать 👍 Жду твой проект на повторное ревью!\n",
    "</div>"
   ]
  },
  {
   "cell_type": "markdown",
   "id": "b38a9baf",
   "metadata": {},
   "source": [
    "<div class=\"alert alert-info\" style=\"padding: 17px; border-radius: 7px\">\n",
    "<h3> Резюме 2 по проекту ❌ <a class=\"tocSkip\"> </h3>\n",
    "  \n",
    "Код не исполняется. 🤖 Прошу его поправить. Напомню, какие у нас остались доработки:\n",
    "* сделать новую сводную таблицу в одной функции;\n",
    "* 4 раза ее вызвать;\n",
    "* добавить описание данных в финальный вывод.\n",
    "\n",
    "Жду твой проект на повторное ревью!\n",
    "</div>"
   ]
  },
  {
   "cell_type": "markdown",
   "id": "dc6d485c",
   "metadata": {},
   "source": [
    "<div class=\"alert alert-info\" style=\"padding: 17px; border-radius: 7px\">\n",
    "\n",
    "<h3> Резюме 3 по проекту ✅<a class=\"tocSkip\"> </h3>\n",
    "  \n",
    "Женя, спасибо что оперативно и качественно сделал сводную таблицу, продемонстрировал умение работать с функциями и учел все мои рекомендации! \n",
    "\n",
    "Работа принята. Удачи с следующими проектами 🍀\n",
    "</div>"
   ]
  }
 ],
 "metadata": {
  "ExecuteTimeLog": [
   {
    "duration": 422,
    "start_time": "2025-05-12T19:59:39.890Z"
   },
   {
    "duration": 23,
    "start_time": "2025-05-12T19:59:43.993Z"
   },
   {
    "duration": 16,
    "start_time": "2025-05-12T19:59:50.251Z"
   },
   {
    "duration": 11,
    "start_time": "2025-05-12T19:59:53.174Z"
   },
   {
    "duration": 499,
    "start_time": "2025-05-12T20:00:04.209Z"
   },
   {
    "duration": 22,
    "start_time": "2025-05-12T20:00:04.710Z"
   },
   {
    "duration": 89,
    "start_time": "2025-05-12T20:00:04.733Z"
   },
   {
    "duration": 215,
    "start_time": "2025-05-12T20:00:04.824Z"
   },
   {
    "duration": 73,
    "start_time": "2025-05-12T20:00:05.041Z"
   },
   {
    "duration": 36,
    "start_time": "2025-05-12T20:00:05.116Z"
   },
   {
    "duration": 46,
    "start_time": "2025-05-12T20:00:05.154Z"
   },
   {
    "duration": 18,
    "start_time": "2025-05-12T20:00:05.202Z"
   },
   {
    "duration": 16,
    "start_time": "2025-05-12T20:00:05.221Z"
   },
   {
    "duration": 56,
    "start_time": "2025-05-12T20:00:05.240Z"
   },
   {
    "duration": 65,
    "start_time": "2025-05-12T20:00:05.297Z"
   },
   {
    "duration": 10,
    "start_time": "2025-05-12T20:00:05.363Z"
   },
   {
    "duration": 51,
    "start_time": "2025-05-12T20:00:05.374Z"
   },
   {
    "duration": 28,
    "start_time": "2025-05-12T20:00:05.426Z"
   },
   {
    "duration": 77,
    "start_time": "2025-05-12T20:00:05.455Z"
   },
   {
    "duration": 18,
    "start_time": "2025-05-12T20:00:05.534Z"
   },
   {
    "duration": 4,
    "start_time": "2025-05-12T20:00:05.554Z"
   },
   {
    "duration": 73,
    "start_time": "2025-05-12T20:00:05.559Z"
   },
   {
    "duration": 32,
    "start_time": "2025-05-12T20:00:05.634Z"
   },
   {
    "duration": 45,
    "start_time": "2025-05-12T20:00:05.668Z"
   },
   {
    "duration": 44,
    "start_time": "2025-05-12T20:00:05.714Z"
   },
   {
    "duration": 58,
    "start_time": "2025-05-12T20:00:05.759Z"
   },
   {
    "duration": 92,
    "start_time": "2025-05-12T20:00:05.819Z"
   },
   {
    "duration": 39,
    "start_time": "2025-05-12T20:00:05.913Z"
   },
   {
    "duration": 40,
    "start_time": "2025-05-12T20:00:05.953Z"
   },
   {
    "duration": 4,
    "start_time": "2025-05-12T20:01:29.770Z"
   },
   {
    "duration": 9,
    "start_time": "2025-05-12T20:01:32.253Z"
   },
   {
    "duration": 14,
    "start_time": "2025-05-12T20:08:23.025Z"
   },
   {
    "duration": 76,
    "start_time": "2025-05-12T20:10:27.393Z"
   },
   {
    "duration": 18,
    "start_time": "2025-05-12T20:10:42.576Z"
   },
   {
    "duration": 17,
    "start_time": "2025-05-12T20:10:52.143Z"
   },
   {
    "duration": 15,
    "start_time": "2025-05-12T20:11:02.993Z"
   },
   {
    "duration": 17,
    "start_time": "2025-05-12T20:20:33.854Z"
   },
   {
    "duration": 21,
    "start_time": "2025-05-12T20:35:56.766Z"
   },
   {
    "duration": 25,
    "start_time": "2025-05-12T20:38:45.953Z"
   },
   {
    "duration": 17,
    "start_time": "2025-05-12T20:43:44.684Z"
   },
   {
    "duration": 456,
    "start_time": "2025-05-13T09:51:00.718Z"
   },
   {
    "duration": 35,
    "start_time": "2025-05-13T09:51:01.176Z"
   },
   {
    "duration": 30,
    "start_time": "2025-05-13T09:51:01.213Z"
   },
   {
    "duration": 18,
    "start_time": "2025-05-13T09:51:01.246Z"
   },
   {
    "duration": 54,
    "start_time": "2025-05-13T09:51:01.267Z"
   },
   {
    "duration": 3,
    "start_time": "2025-05-13T09:51:01.323Z"
   },
   {
    "duration": 27,
    "start_time": "2025-05-13T09:51:01.328Z"
   },
   {
    "duration": 6,
    "start_time": "2025-05-13T09:51:01.357Z"
   },
   {
    "duration": 16,
    "start_time": "2025-05-13T09:51:01.365Z"
   },
   {
    "duration": 27,
    "start_time": "2025-05-13T09:51:01.387Z"
   },
   {
    "duration": 41,
    "start_time": "2025-05-13T09:51:01.416Z"
   },
   {
    "duration": 28,
    "start_time": "2025-05-13T09:51:01.459Z"
   },
   {
    "duration": 36,
    "start_time": "2025-05-13T09:51:01.489Z"
   },
   {
    "duration": 29,
    "start_time": "2025-05-13T09:51:01.527Z"
   },
   {
    "duration": 44,
    "start_time": "2025-05-13T09:51:01.558Z"
   },
   {
    "duration": 25,
    "start_time": "2025-05-13T09:51:01.604Z"
   },
   {
    "duration": 5,
    "start_time": "2025-05-13T09:51:01.631Z"
   },
   {
    "duration": 40,
    "start_time": "2025-05-13T09:51:01.638Z"
   },
   {
    "duration": 71,
    "start_time": "2025-05-13T09:51:01.679Z"
   },
   {
    "duration": 11,
    "start_time": "2025-05-13T09:51:01.752Z"
   },
   {
    "duration": 68,
    "start_time": "2025-05-13T09:51:01.766Z"
   },
   {
    "duration": 29,
    "start_time": "2025-05-13T09:51:01.836Z"
   },
   {
    "duration": 29,
    "start_time": "2025-05-13T09:51:01.868Z"
   },
   {
    "duration": 40,
    "start_time": "2025-05-13T09:51:01.899Z"
   },
   {
    "duration": 55,
    "start_time": "2025-05-13T09:51:01.941Z"
   },
   {
    "duration": 18,
    "start_time": "2025-05-13T09:52:49.176Z"
   },
   {
    "duration": 10,
    "start_time": "2025-05-13T09:53:03.479Z"
   },
   {
    "duration": 52,
    "start_time": "2025-05-13T10:31:31.944Z"
   },
   {
    "duration": 459,
    "start_time": "2025-05-13T10:31:42.993Z"
   },
   {
    "duration": 23,
    "start_time": "2025-05-13T10:31:43.454Z"
   },
   {
    "duration": 66,
    "start_time": "2025-05-13T10:31:43.478Z"
   },
   {
    "duration": 10,
    "start_time": "2025-05-13T10:31:43.545Z"
   },
   {
    "duration": 43,
    "start_time": "2025-05-13T10:31:43.558Z"
   },
   {
    "duration": 4,
    "start_time": "2025-05-13T10:31:43.603Z"
   },
   {
    "duration": 79,
    "start_time": "2025-05-13T10:31:43.608Z"
   },
   {
    "duration": 5,
    "start_time": "2025-05-13T10:31:43.688Z"
   },
   {
    "duration": 9,
    "start_time": "2025-05-13T10:31:43.695Z"
   },
   {
    "duration": 4,
    "start_time": "2025-05-13T10:31:43.706Z"
   },
   {
    "duration": 65,
    "start_time": "2025-05-13T10:31:43.712Z"
   },
   {
    "duration": 11,
    "start_time": "2025-05-13T10:31:43.778Z"
   },
   {
    "duration": 6,
    "start_time": "2025-05-13T10:31:43.791Z"
   },
   {
    "duration": 12,
    "start_time": "2025-05-13T10:31:43.801Z"
   },
   {
    "duration": 32,
    "start_time": "2025-05-13T10:31:43.815Z"
   },
   {
    "duration": 16,
    "start_time": "2025-05-13T10:31:43.849Z"
   },
   {
    "duration": 3,
    "start_time": "2025-05-13T10:31:43.867Z"
   },
   {
    "duration": 17,
    "start_time": "2025-05-13T10:31:43.872Z"
   },
   {
    "duration": 6,
    "start_time": "2025-05-13T10:31:43.890Z"
   },
   {
    "duration": 5,
    "start_time": "2025-05-13T10:31:43.898Z"
   },
   {
    "duration": 39,
    "start_time": "2025-05-13T10:31:43.905Z"
   },
   {
    "duration": 18,
    "start_time": "2025-05-13T10:31:43.946Z"
   },
   {
    "duration": 9,
    "start_time": "2025-05-13T10:31:43.967Z"
   },
   {
    "duration": 39,
    "start_time": "2025-05-13T10:31:43.977Z"
   },
   {
    "duration": 30,
    "start_time": "2025-05-13T10:31:44.018Z"
   },
   {
    "duration": 17,
    "start_time": "2025-05-13T10:31:44.050Z"
   },
   {
    "duration": 8,
    "start_time": "2025-05-13T10:41:05.435Z"
   },
   {
    "duration": 4,
    "start_time": "2025-05-13T10:41:55.467Z"
   },
   {
    "duration": 4,
    "start_time": "2025-05-13T10:42:24.470Z"
   },
   {
    "duration": 89,
    "start_time": "2025-05-13T10:43:51.704Z"
   },
   {
    "duration": 29,
    "start_time": "2025-05-13T10:44:34.349Z"
   },
   {
    "duration": 31,
    "start_time": "2025-05-13T10:47:59.696Z"
   },
   {
    "duration": 33,
    "start_time": "2025-05-13T10:48:29.983Z"
   },
   {
    "duration": 28,
    "start_time": "2025-05-13T10:50:59.291Z"
   },
   {
    "duration": 30,
    "start_time": "2025-05-13T10:53:37.344Z"
   },
   {
    "duration": 31,
    "start_time": "2025-05-13T10:55:12.548Z"
   },
   {
    "duration": 32,
    "start_time": "2025-05-13T10:56:13.548Z"
   },
   {
    "duration": 101,
    "start_time": "2025-05-13T10:58:54.575Z"
   },
   {
    "duration": 6,
    "start_time": "2025-05-13T11:00:13.574Z"
   },
   {
    "duration": 8,
    "start_time": "2025-05-13T11:00:44.331Z"
   },
   {
    "duration": 454,
    "start_time": "2025-05-13T11:01:06.991Z"
   },
   {
    "duration": 24,
    "start_time": "2025-05-13T11:01:07.447Z"
   },
   {
    "duration": 18,
    "start_time": "2025-05-13T11:01:07.473Z"
   },
   {
    "duration": 59,
    "start_time": "2025-05-13T11:01:07.494Z"
   },
   {
    "duration": 82,
    "start_time": "2025-05-13T11:01:07.555Z"
   },
   {
    "duration": 5,
    "start_time": "2025-05-13T11:01:07.639Z"
   },
   {
    "duration": 28,
    "start_time": "2025-05-13T11:01:07.646Z"
   },
   {
    "duration": 6,
    "start_time": "2025-05-13T11:01:07.677Z"
   },
   {
    "duration": 15,
    "start_time": "2025-05-13T11:01:07.685Z"
   },
   {
    "duration": 21,
    "start_time": "2025-05-13T11:01:07.703Z"
   },
   {
    "duration": 46,
    "start_time": "2025-05-13T11:01:07.726Z"
   },
   {
    "duration": 12,
    "start_time": "2025-05-13T11:01:07.773Z"
   },
   {
    "duration": 14,
    "start_time": "2025-05-13T11:01:07.787Z"
   },
   {
    "duration": 41,
    "start_time": "2025-05-13T11:01:07.802Z"
   },
   {
    "duration": 49,
    "start_time": "2025-05-13T11:01:07.845Z"
   },
   {
    "duration": 18,
    "start_time": "2025-05-13T11:01:07.896Z"
   },
   {
    "duration": 4,
    "start_time": "2025-05-13T11:01:07.916Z"
   },
   {
    "duration": 26,
    "start_time": "2025-05-13T11:01:07.921Z"
   },
   {
    "duration": 7,
    "start_time": "2025-05-13T11:01:07.948Z"
   },
   {
    "duration": 14,
    "start_time": "2025-05-13T11:01:07.957Z"
   },
   {
    "duration": 36,
    "start_time": "2025-05-13T11:01:07.973Z"
   },
   {
    "duration": 43,
    "start_time": "2025-05-13T11:01:08.011Z"
   },
   {
    "duration": 67,
    "start_time": "2025-05-13T11:01:08.056Z"
   },
   {
    "duration": 0,
    "start_time": "2025-05-13T11:01:08.125Z"
   },
   {
    "duration": 0,
    "start_time": "2025-05-13T11:01:08.139Z"
   },
   {
    "duration": 0,
    "start_time": "2025-05-13T11:01:08.140Z"
   },
   {
    "duration": 0,
    "start_time": "2025-05-13T11:01:08.141Z"
   },
   {
    "duration": 50,
    "start_time": "2025-05-13T11:01:16.218Z"
   },
   {
    "duration": 31,
    "start_time": "2025-05-13T11:01:19.465Z"
   },
   {
    "duration": 34,
    "start_time": "2025-05-13T11:01:21.953Z"
   },
   {
    "duration": 6,
    "start_time": "2025-05-13T11:01:46.179Z"
   },
   {
    "duration": 6,
    "start_time": "2025-05-13T11:02:39.586Z"
   },
   {
    "duration": 6,
    "start_time": "2025-05-13T11:03:46.737Z"
   },
   {
    "duration": 6,
    "start_time": "2025-05-13T11:04:13.902Z"
   },
   {
    "duration": 6,
    "start_time": "2025-05-13T11:06:36.581Z"
   },
   {
    "duration": 6,
    "start_time": "2025-05-13T11:06:49.836Z"
   },
   {
    "duration": 7,
    "start_time": "2025-05-13T11:06:52.198Z"
   },
   {
    "duration": 6,
    "start_time": "2025-05-13T11:07:39.103Z"
   },
   {
    "duration": 500,
    "start_time": "2025-05-14T15:19:00.250Z"
   },
   {
    "duration": 24,
    "start_time": "2025-05-14T15:19:00.752Z"
   },
   {
    "duration": 16,
    "start_time": "2025-05-14T15:19:00.777Z"
   },
   {
    "duration": 37,
    "start_time": "2025-05-14T15:19:00.795Z"
   },
   {
    "duration": 119,
    "start_time": "2025-05-14T15:19:00.834Z"
   },
   {
    "duration": 3,
    "start_time": "2025-05-14T15:19:00.955Z"
   },
   {
    "duration": 13,
    "start_time": "2025-05-14T15:19:00.959Z"
   },
   {
    "duration": 33,
    "start_time": "2025-05-14T15:19:00.974Z"
   },
   {
    "duration": 16,
    "start_time": "2025-05-14T15:19:01.009Z"
   },
   {
    "duration": 4,
    "start_time": "2025-05-14T15:19:01.027Z"
   },
   {
    "duration": 42,
    "start_time": "2025-05-14T15:19:01.033Z"
   },
   {
    "duration": 11,
    "start_time": "2025-05-14T15:19:01.076Z"
   },
   {
    "duration": 38,
    "start_time": "2025-05-14T15:19:01.089Z"
   },
   {
    "duration": 21,
    "start_time": "2025-05-14T15:19:01.130Z"
   },
   {
    "duration": 22,
    "start_time": "2025-05-14T15:19:01.153Z"
   },
   {
    "duration": 18,
    "start_time": "2025-05-14T15:19:01.177Z"
   },
   {
    "duration": 12,
    "start_time": "2025-05-14T15:19:01.197Z"
   },
   {
    "duration": 15,
    "start_time": "2025-05-14T15:19:01.211Z"
   },
   {
    "duration": 6,
    "start_time": "2025-05-14T15:19:01.228Z"
   },
   {
    "duration": 10,
    "start_time": "2025-05-14T15:19:01.236Z"
   },
   {
    "duration": 26,
    "start_time": "2025-05-14T15:19:01.247Z"
   },
   {
    "duration": 53,
    "start_time": "2025-05-14T15:19:01.275Z"
   },
   {
    "duration": 64,
    "start_time": "2025-05-14T15:19:01.329Z"
   },
   {
    "duration": 0,
    "start_time": "2025-05-14T15:19:01.394Z"
   },
   {
    "duration": 0,
    "start_time": "2025-05-14T15:19:01.396Z"
   },
   {
    "duration": 0,
    "start_time": "2025-05-14T15:19:01.398Z"
   },
   {
    "duration": 58,
    "start_time": "2025-05-14T16:23:06.449Z"
   },
   {
    "duration": 594,
    "start_time": "2025-05-14T16:23:16.162Z"
   },
   {
    "duration": 30,
    "start_time": "2025-05-14T16:23:16.758Z"
   },
   {
    "duration": 23,
    "start_time": "2025-05-14T16:23:16.791Z"
   },
   {
    "duration": 18,
    "start_time": "2025-05-14T16:23:16.817Z"
   },
   {
    "duration": 62,
    "start_time": "2025-05-14T16:23:16.860Z"
   },
   {
    "duration": 4,
    "start_time": "2025-05-14T16:23:16.923Z"
   },
   {
    "duration": 67,
    "start_time": "2025-05-14T16:23:16.929Z"
   },
   {
    "duration": 6,
    "start_time": "2025-05-14T16:23:16.998Z"
   },
   {
    "duration": 16,
    "start_time": "2025-05-14T16:23:17.005Z"
   },
   {
    "duration": 59,
    "start_time": "2025-05-14T16:23:17.022Z"
   },
   {
    "duration": 205,
    "start_time": "2025-05-14T16:23:17.082Z"
   },
   {
    "duration": 10,
    "start_time": "2025-05-14T16:23:17.289Z"
   },
   {
    "duration": 38,
    "start_time": "2025-05-14T16:23:17.301Z"
   },
   {
    "duration": 36,
    "start_time": "2025-05-14T16:23:17.342Z"
   },
   {
    "duration": 57,
    "start_time": "2025-05-14T16:23:17.380Z"
   },
   {
    "duration": 42,
    "start_time": "2025-05-14T16:23:17.439Z"
   },
   {
    "duration": 5,
    "start_time": "2025-05-14T16:23:17.484Z"
   },
   {
    "duration": 42,
    "start_time": "2025-05-14T16:23:17.492Z"
   },
   {
    "duration": 35,
    "start_time": "2025-05-14T16:23:17.536Z"
   },
   {
    "duration": 8,
    "start_time": "2025-05-14T16:23:17.573Z"
   },
   {
    "duration": 79,
    "start_time": "2025-05-14T16:23:17.583Z"
   },
   {
    "duration": 79,
    "start_time": "2025-05-14T16:23:17.664Z"
   },
   {
    "duration": 69,
    "start_time": "2025-05-14T16:23:17.744Z"
   },
   {
    "duration": 0,
    "start_time": "2025-05-14T16:23:17.815Z"
   },
   {
    "duration": 0,
    "start_time": "2025-05-14T16:23:17.816Z"
   },
   {
    "duration": 0,
    "start_time": "2025-05-14T16:23:17.818Z"
   },
   {
    "duration": 29,
    "start_time": "2025-05-14T16:23:32.057Z"
   },
   {
    "duration": 5,
    "start_time": "2025-05-14T16:24:34.116Z"
   },
   {
    "duration": 25,
    "start_time": "2025-05-14T16:24:46.538Z"
   },
   {
    "duration": 4,
    "start_time": "2025-05-14T16:25:23.027Z"
   },
   {
    "duration": 31,
    "start_time": "2025-05-14T16:25:47.689Z"
   },
   {
    "duration": 4,
    "start_time": "2025-05-14T16:26:09.086Z"
   },
   {
    "duration": 28,
    "start_time": "2025-05-14T16:26:11.698Z"
   },
   {
    "duration": 5,
    "start_time": "2025-05-14T16:26:32.788Z"
   },
   {
    "duration": 32,
    "start_time": "2025-05-14T16:26:34.898Z"
   },
   {
    "duration": 443,
    "start_time": "2025-05-14T19:01:33.624Z"
   },
   {
    "duration": 23,
    "start_time": "2025-05-14T19:01:34.069Z"
   },
   {
    "duration": 15,
    "start_time": "2025-05-14T19:01:34.093Z"
   },
   {
    "duration": 10,
    "start_time": "2025-05-14T19:01:34.110Z"
   },
   {
    "duration": 58,
    "start_time": "2025-05-14T19:01:34.122Z"
   },
   {
    "duration": 4,
    "start_time": "2025-05-14T19:01:34.182Z"
   },
   {
    "duration": 62,
    "start_time": "2025-05-14T19:01:34.188Z"
   },
   {
    "duration": 14,
    "start_time": "2025-05-14T19:01:34.251Z"
   },
   {
    "duration": 28,
    "start_time": "2025-05-14T19:01:34.267Z"
   },
   {
    "duration": 43,
    "start_time": "2025-05-14T19:01:34.298Z"
   },
   {
    "duration": 43,
    "start_time": "2025-05-14T19:01:34.342Z"
   },
   {
    "duration": 28,
    "start_time": "2025-05-14T19:01:34.386Z"
   },
   {
    "duration": 48,
    "start_time": "2025-05-14T19:01:34.416Z"
   },
   {
    "duration": 13,
    "start_time": "2025-05-14T19:01:34.465Z"
   },
   {
    "duration": 47,
    "start_time": "2025-05-14T19:01:34.480Z"
   },
   {
    "duration": 17,
    "start_time": "2025-05-14T19:01:34.529Z"
   },
   {
    "duration": 4,
    "start_time": "2025-05-14T19:01:34.548Z"
   },
   {
    "duration": 12,
    "start_time": "2025-05-14T19:01:34.554Z"
   },
   {
    "duration": 7,
    "start_time": "2025-05-14T19:01:34.567Z"
   },
   {
    "duration": 5,
    "start_time": "2025-05-14T19:01:34.575Z"
   },
   {
    "duration": 28,
    "start_time": "2025-05-14T19:01:34.582Z"
   },
   {
    "duration": 12,
    "start_time": "2025-05-14T19:01:34.612Z"
   },
   {
    "duration": 27,
    "start_time": "2025-05-14T19:01:34.626Z"
   },
   {
    "duration": 3,
    "start_time": "2025-05-14T19:01:34.654Z"
   },
   {
    "duration": 27,
    "start_time": "2025-05-14T19:01:34.662Z"
   },
   {
    "duration": 3,
    "start_time": "2025-05-14T19:01:34.691Z"
   },
   {
    "duration": 48,
    "start_time": "2025-05-14T19:01:34.695Z"
   },
   {
    "duration": 3,
    "start_time": "2025-05-14T19:01:34.746Z"
   },
   {
    "duration": 37,
    "start_time": "2025-05-14T19:01:34.750Z"
   },
   {
    "duration": 500,
    "start_time": "2025-05-14T19:36:04.903Z"
   },
   {
    "duration": 22,
    "start_time": "2025-05-14T19:36:05.405Z"
   },
   {
    "duration": 33,
    "start_time": "2025-05-14T19:36:05.428Z"
   },
   {
    "duration": 10,
    "start_time": "2025-05-14T19:36:05.463Z"
   },
   {
    "duration": 40,
    "start_time": "2025-05-14T19:36:05.475Z"
   },
   {
    "duration": 3,
    "start_time": "2025-05-14T19:36:05.517Z"
   },
   {
    "duration": 16,
    "start_time": "2025-05-14T19:36:05.522Z"
   },
   {
    "duration": 21,
    "start_time": "2025-05-14T19:36:05.540Z"
   },
   {
    "duration": 35,
    "start_time": "2025-05-14T19:36:05.563Z"
   },
   {
    "duration": 10,
    "start_time": "2025-05-14T19:36:05.599Z"
   },
   {
    "duration": 35,
    "start_time": "2025-05-14T19:36:05.611Z"
   },
   {
    "duration": 11,
    "start_time": "2025-05-14T19:36:05.647Z"
   },
   {
    "duration": 19,
    "start_time": "2025-05-14T19:36:05.659Z"
   },
   {
    "duration": 21,
    "start_time": "2025-05-14T19:36:05.681Z"
   },
   {
    "duration": 23,
    "start_time": "2025-05-14T19:36:05.703Z"
   },
   {
    "duration": 16,
    "start_time": "2025-05-14T19:36:05.728Z"
   },
   {
    "duration": 3,
    "start_time": "2025-05-14T19:36:05.746Z"
   },
   {
    "duration": 15,
    "start_time": "2025-05-14T19:36:05.751Z"
   },
   {
    "duration": 36,
    "start_time": "2025-05-14T19:36:05.768Z"
   },
   {
    "duration": 14,
    "start_time": "2025-05-14T19:36:05.805Z"
   },
   {
    "duration": 32,
    "start_time": "2025-05-14T19:36:05.821Z"
   },
   {
    "duration": 4,
    "start_time": "2025-05-14T19:36:05.854Z"
   },
   {
    "duration": 46,
    "start_time": "2025-05-14T19:36:05.860Z"
   },
   {
    "duration": 4,
    "start_time": "2025-05-14T19:36:05.907Z"
   },
   {
    "duration": 39,
    "start_time": "2025-05-14T19:36:05.912Z"
   },
   {
    "duration": 3,
    "start_time": "2025-05-14T19:36:05.953Z"
   },
   {
    "duration": 42,
    "start_time": "2025-05-14T19:36:05.957Z"
   },
   {
    "duration": 4,
    "start_time": "2025-05-14T19:36:06.000Z"
   },
   {
    "duration": 52,
    "start_time": "2025-05-14T19:36:06.005Z"
   }
  ],
  "colab": {
   "name": "dpp_template_part2.ipynb",
   "provenance": []
  },
  "kernelspec": {
   "display_name": "Python 3 (ipykernel)",
   "language": "python",
   "name": "python3"
  },
  "language_info": {
   "codemirror_mode": {
    "name": "ipython",
    "version": 3
   },
   "file_extension": ".py",
   "mimetype": "text/x-python",
   "name": "python",
   "nbconvert_exporter": "python",
   "pygments_lexer": "ipython3",
   "version": "3.9.5"
  },
  "toc": {
   "base_numbering": 1,
   "nav_menu": {},
   "number_sections": true,
   "sideBar": true,
   "skip_h1_title": true,
   "title_cell": "Table of Contents",
   "title_sidebar": "Contents",
   "toc_cell": false,
   "toc_position": {},
   "toc_section_display": true,
   "toc_window_display": false
  }
 },
 "nbformat": 4,
 "nbformat_minor": 5
}
