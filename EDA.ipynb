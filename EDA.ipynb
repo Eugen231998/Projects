{
 "cells": [
  {
   "cell_type": "markdown",
   "id": "c81a8a11",
   "metadata": {},
   "source": [
    "<div style=\"border:solid green 3px; padding: 20px\">\n",
    "<b>🥇 Женя, спасибо за доработки, проект принят, молодец!</b>\n",
    "    \n",
    "Ты провел хорошую работу над ошибками! Уверен, ты обязательно достигнешь своей цели! Успехов в дальнейшем обучении! 🙂\n",
    "    "
   ]
  },
  {
   "cell_type": "markdown",
   "metadata": {},
   "source": [
    "<div style=\"border:solid green 2px; padding: 20px\">\n",
    "Женя, привет! Меня зовут Ефимов Денис и сегодня я буду делать ревью твоего проекта!\n",
    "    \n",
    "В Практикуме принято общаться на \"ты\", однако если это неудобно - дай знать, и можем перейти на более официальное общение.\n",
    "\n",
    "Ниже ты найдешь мои комментарии - пожалуйста, не перемещай, не изменяй и не удаляй их. Я буду использовать цветовую разметку: \n",
    "\n",
    "<div class=\"alert alert-block alert-success\">\n",
    "<b>✅Комментарий ревьюера:</b> Если все сделано хорошо. </div>\n",
    "\n",
    "<div class=\"alert alert-block alert-warning\">\n",
    "<b>🔁Комментарий ревьюера:</b> Некритичное замечание, рекомендация.</div>\n",
    "\n",
    "<div class=\"alert alert-block alert-danger\">\n",
    "<b>❌Комментарий ревьюера:</b> Грубая ошибка, необходимо исправить, иначе проект не будет принят.\n",
    "</div>\n",
    "\n",
    "Давай работать над проектом в диалоге: если ты что-то меняешь в проекте или отвечаешь на мои комментарии — пиши об этом. Мне будет легче отследить изменения, если ты выделишь свои комментарии:\n",
    "Например так:\n",
    "<div class=\"alert alert-block alert-info\">\n",
    "<b>🔄Комментарий студента:</b> \n",
    "Hello World! ✔\n",
    "</div>\n",
    "\n",
    "Или можешь использовать эту галочку ✔ в моих комментариях, если писать особо нечего.\n",
    "\n",
    "<div class=\"alert alert-block alert-warning\">\n",
    "<b>Общее впечатление:</b> \n",
    "    \n",
    "- Ты проделал огромную работу :)\n",
    "- У меня есть несколько замечаний, исправив которые ты сделаешь проект  лучше.\n",
    "- Пробегись по моим комментариям, исправь недочёты и всё будет отлично :)\n",
    "    \n",
    "</div>\n",
    "\n"
   ]
  },
  {
   "cell_type": "markdown",
   "metadata": {
    "id": "-VFbjcb3Awb7"
   },
   "source": [
    "# Исследование объявлений о продаже квартир\n",
    "\n",
    "В вашем распоряжении данные сервиса Яндекс Недвижимость — архив объявлений о продаже квартир в Санкт-Петербурге и соседних населённых пунктах за несколько лет. Вам нужно научиться определять рыночную стоимость объектов недвижимости. Для этого проведите исследовательский анализ данных и установите параметры, влияющие на цену объектов. Это позволит построить автоматизированную систему: она отследит аномалии и мошенническую деятельность.\n",
    "\n",
    "По каждой квартире на продажу доступны два вида данных. Первые вписаны пользователем, вторые — получены автоматически на основе картографических данных. Например, расстояние до центра, аэропорта и других объектов — эти данные автоматически получены из геосервисов. Количество парков и водоёмов также заполняется без участия пользователя."
   ]
  },
  {
   "cell_type": "markdown",
   "metadata": {
    "id": "aeFLH07FAwb9"
   },
   "source": [
    "### Откройте файл с данными и изучите общую информацию"
   ]
  },
  {
   "cell_type": "markdown",
   "metadata": {},
   "source": [
    "<div class=\"alert alert-block alert-warning\">\n",
    "<b>🔁Комментарий ревьюера:</b> \n",
    "    \n",
    "Импорт всех библиотек лучше делать в одной отдельной ячейке, чтобы при необходимости можно было ее перезапустить без влияния на другой код и перезаписи датафрейма. </div>"
   ]
  },
  {
   "cell_type": "markdown",
   "metadata": {},
   "source": [
    "<div class=\"alert alert-block alert-success\">\n",
    "<b>✅Комментарий ревьюера 2:</b> Отлично, исправлено!👍  </div>"
   ]
  },
  {
   "cell_type": "code",
   "execution_count": 1,
   "metadata": {},
   "outputs": [],
   "source": [
    "import pandas as pd\n",
    "import matplotlib.pyplot as plt\n",
    "import seaborn as sns"
   ]
  },
  {
   "cell_type": "code",
   "execution_count": 2,
   "metadata": {
    "id": "7MZxY65pAwb9",
    "scrolled": false
   },
   "outputs": [
    {
     "data": {
      "text/html": [
       "<div>\n",
       "<style scoped>\n",
       "    .dataframe tbody tr th:only-of-type {\n",
       "        vertical-align: middle;\n",
       "    }\n",
       "\n",
       "    .dataframe tbody tr th {\n",
       "        vertical-align: top;\n",
       "    }\n",
       "\n",
       "    .dataframe thead th {\n",
       "        text-align: right;\n",
       "    }\n",
       "</style>\n",
       "<table border=\"1\" class=\"dataframe\">\n",
       "  <thead>\n",
       "    <tr style=\"text-align: right;\">\n",
       "      <th></th>\n",
       "      <th>total_images</th>\n",
       "      <th>last_price</th>\n",
       "      <th>total_area</th>\n",
       "      <th>first_day_exposition</th>\n",
       "      <th>rooms</th>\n",
       "      <th>ceiling_height</th>\n",
       "      <th>floors_total</th>\n",
       "      <th>living_area</th>\n",
       "      <th>floor</th>\n",
       "      <th>is_apartment</th>\n",
       "      <th>...</th>\n",
       "      <th>kitchen_area</th>\n",
       "      <th>balcony</th>\n",
       "      <th>locality_name</th>\n",
       "      <th>airports_nearest</th>\n",
       "      <th>cityCenters_nearest</th>\n",
       "      <th>parks_around3000</th>\n",
       "      <th>parks_nearest</th>\n",
       "      <th>ponds_around3000</th>\n",
       "      <th>ponds_nearest</th>\n",
       "      <th>days_exposition</th>\n",
       "    </tr>\n",
       "  </thead>\n",
       "  <tbody>\n",
       "    <tr>\n",
       "      <th>0</th>\n",
       "      <td>20</td>\n",
       "      <td>13000000.0</td>\n",
       "      <td>108.00</td>\n",
       "      <td>2019-03-07T00:00:00</td>\n",
       "      <td>3</td>\n",
       "      <td>2.70</td>\n",
       "      <td>16.0</td>\n",
       "      <td>51.00</td>\n",
       "      <td>8</td>\n",
       "      <td>NaN</td>\n",
       "      <td>...</td>\n",
       "      <td>25.00</td>\n",
       "      <td>NaN</td>\n",
       "      <td>Санкт-Петербург</td>\n",
       "      <td>18863.0</td>\n",
       "      <td>16028.0</td>\n",
       "      <td>1.0</td>\n",
       "      <td>482.0</td>\n",
       "      <td>2.0</td>\n",
       "      <td>755.0</td>\n",
       "      <td>NaN</td>\n",
       "    </tr>\n",
       "    <tr>\n",
       "      <th>1</th>\n",
       "      <td>7</td>\n",
       "      <td>3350000.0</td>\n",
       "      <td>40.40</td>\n",
       "      <td>2018-12-04T00:00:00</td>\n",
       "      <td>1</td>\n",
       "      <td>NaN</td>\n",
       "      <td>11.0</td>\n",
       "      <td>18.60</td>\n",
       "      <td>1</td>\n",
       "      <td>NaN</td>\n",
       "      <td>...</td>\n",
       "      <td>11.00</td>\n",
       "      <td>2.0</td>\n",
       "      <td>посёлок Шушары</td>\n",
       "      <td>12817.0</td>\n",
       "      <td>18603.0</td>\n",
       "      <td>0.0</td>\n",
       "      <td>NaN</td>\n",
       "      <td>0.0</td>\n",
       "      <td>NaN</td>\n",
       "      <td>81.0</td>\n",
       "    </tr>\n",
       "    <tr>\n",
       "      <th>2</th>\n",
       "      <td>10</td>\n",
       "      <td>5196000.0</td>\n",
       "      <td>56.00</td>\n",
       "      <td>2015-08-20T00:00:00</td>\n",
       "      <td>2</td>\n",
       "      <td>NaN</td>\n",
       "      <td>5.0</td>\n",
       "      <td>34.30</td>\n",
       "      <td>4</td>\n",
       "      <td>NaN</td>\n",
       "      <td>...</td>\n",
       "      <td>8.30</td>\n",
       "      <td>0.0</td>\n",
       "      <td>Санкт-Петербург</td>\n",
       "      <td>21741.0</td>\n",
       "      <td>13933.0</td>\n",
       "      <td>1.0</td>\n",
       "      <td>90.0</td>\n",
       "      <td>2.0</td>\n",
       "      <td>574.0</td>\n",
       "      <td>558.0</td>\n",
       "    </tr>\n",
       "    <tr>\n",
       "      <th>3</th>\n",
       "      <td>0</td>\n",
       "      <td>64900000.0</td>\n",
       "      <td>159.00</td>\n",
       "      <td>2015-07-24T00:00:00</td>\n",
       "      <td>3</td>\n",
       "      <td>NaN</td>\n",
       "      <td>14.0</td>\n",
       "      <td>NaN</td>\n",
       "      <td>9</td>\n",
       "      <td>NaN</td>\n",
       "      <td>...</td>\n",
       "      <td>NaN</td>\n",
       "      <td>0.0</td>\n",
       "      <td>Санкт-Петербург</td>\n",
       "      <td>28098.0</td>\n",
       "      <td>6800.0</td>\n",
       "      <td>2.0</td>\n",
       "      <td>84.0</td>\n",
       "      <td>3.0</td>\n",
       "      <td>234.0</td>\n",
       "      <td>424.0</td>\n",
       "    </tr>\n",
       "    <tr>\n",
       "      <th>4</th>\n",
       "      <td>2</td>\n",
       "      <td>10000000.0</td>\n",
       "      <td>100.00</td>\n",
       "      <td>2018-06-19T00:00:00</td>\n",
       "      <td>2</td>\n",
       "      <td>3.03</td>\n",
       "      <td>14.0</td>\n",
       "      <td>32.00</td>\n",
       "      <td>13</td>\n",
       "      <td>NaN</td>\n",
       "      <td>...</td>\n",
       "      <td>41.00</td>\n",
       "      <td>NaN</td>\n",
       "      <td>Санкт-Петербург</td>\n",
       "      <td>31856.0</td>\n",
       "      <td>8098.0</td>\n",
       "      <td>2.0</td>\n",
       "      <td>112.0</td>\n",
       "      <td>1.0</td>\n",
       "      <td>48.0</td>\n",
       "      <td>121.0</td>\n",
       "    </tr>\n",
       "    <tr>\n",
       "      <th>5</th>\n",
       "      <td>10</td>\n",
       "      <td>2890000.0</td>\n",
       "      <td>30.40</td>\n",
       "      <td>2018-09-10T00:00:00</td>\n",
       "      <td>1</td>\n",
       "      <td>NaN</td>\n",
       "      <td>12.0</td>\n",
       "      <td>14.40</td>\n",
       "      <td>5</td>\n",
       "      <td>NaN</td>\n",
       "      <td>...</td>\n",
       "      <td>9.10</td>\n",
       "      <td>NaN</td>\n",
       "      <td>городской посёлок Янино-1</td>\n",
       "      <td>NaN</td>\n",
       "      <td>NaN</td>\n",
       "      <td>NaN</td>\n",
       "      <td>NaN</td>\n",
       "      <td>NaN</td>\n",
       "      <td>NaN</td>\n",
       "      <td>55.0</td>\n",
       "    </tr>\n",
       "    <tr>\n",
       "      <th>6</th>\n",
       "      <td>6</td>\n",
       "      <td>3700000.0</td>\n",
       "      <td>37.30</td>\n",
       "      <td>2017-11-02T00:00:00</td>\n",
       "      <td>1</td>\n",
       "      <td>NaN</td>\n",
       "      <td>26.0</td>\n",
       "      <td>10.60</td>\n",
       "      <td>6</td>\n",
       "      <td>NaN</td>\n",
       "      <td>...</td>\n",
       "      <td>14.40</td>\n",
       "      <td>1.0</td>\n",
       "      <td>посёлок Парголово</td>\n",
       "      <td>52996.0</td>\n",
       "      <td>19143.0</td>\n",
       "      <td>0.0</td>\n",
       "      <td>NaN</td>\n",
       "      <td>0.0</td>\n",
       "      <td>NaN</td>\n",
       "      <td>155.0</td>\n",
       "    </tr>\n",
       "    <tr>\n",
       "      <th>7</th>\n",
       "      <td>5</td>\n",
       "      <td>7915000.0</td>\n",
       "      <td>71.60</td>\n",
       "      <td>2019-04-18T00:00:00</td>\n",
       "      <td>2</td>\n",
       "      <td>NaN</td>\n",
       "      <td>24.0</td>\n",
       "      <td>NaN</td>\n",
       "      <td>22</td>\n",
       "      <td>NaN</td>\n",
       "      <td>...</td>\n",
       "      <td>18.90</td>\n",
       "      <td>2.0</td>\n",
       "      <td>Санкт-Петербург</td>\n",
       "      <td>23982.0</td>\n",
       "      <td>11634.0</td>\n",
       "      <td>0.0</td>\n",
       "      <td>NaN</td>\n",
       "      <td>0.0</td>\n",
       "      <td>NaN</td>\n",
       "      <td>NaN</td>\n",
       "    </tr>\n",
       "    <tr>\n",
       "      <th>8</th>\n",
       "      <td>20</td>\n",
       "      <td>2900000.0</td>\n",
       "      <td>33.16</td>\n",
       "      <td>2018-05-23T00:00:00</td>\n",
       "      <td>1</td>\n",
       "      <td>NaN</td>\n",
       "      <td>27.0</td>\n",
       "      <td>15.43</td>\n",
       "      <td>26</td>\n",
       "      <td>NaN</td>\n",
       "      <td>...</td>\n",
       "      <td>8.81</td>\n",
       "      <td>NaN</td>\n",
       "      <td>посёлок Мурино</td>\n",
       "      <td>NaN</td>\n",
       "      <td>NaN</td>\n",
       "      <td>NaN</td>\n",
       "      <td>NaN</td>\n",
       "      <td>NaN</td>\n",
       "      <td>NaN</td>\n",
       "      <td>189.0</td>\n",
       "    </tr>\n",
       "    <tr>\n",
       "      <th>9</th>\n",
       "      <td>18</td>\n",
       "      <td>5400000.0</td>\n",
       "      <td>61.00</td>\n",
       "      <td>2017-02-26T00:00:00</td>\n",
       "      <td>3</td>\n",
       "      <td>2.50</td>\n",
       "      <td>9.0</td>\n",
       "      <td>43.60</td>\n",
       "      <td>7</td>\n",
       "      <td>NaN</td>\n",
       "      <td>...</td>\n",
       "      <td>6.50</td>\n",
       "      <td>2.0</td>\n",
       "      <td>Санкт-Петербург</td>\n",
       "      <td>50898.0</td>\n",
       "      <td>15008.0</td>\n",
       "      <td>0.0</td>\n",
       "      <td>NaN</td>\n",
       "      <td>0.0</td>\n",
       "      <td>NaN</td>\n",
       "      <td>289.0</td>\n",
       "    </tr>\n",
       "  </tbody>\n",
       "</table>\n",
       "<p>10 rows × 22 columns</p>\n",
       "</div>"
      ],
      "text/plain": [
       "   total_images  last_price  total_area first_day_exposition  rooms  \\\n",
       "0            20  13000000.0      108.00  2019-03-07T00:00:00      3   \n",
       "1             7   3350000.0       40.40  2018-12-04T00:00:00      1   \n",
       "2            10   5196000.0       56.00  2015-08-20T00:00:00      2   \n",
       "3             0  64900000.0      159.00  2015-07-24T00:00:00      3   \n",
       "4             2  10000000.0      100.00  2018-06-19T00:00:00      2   \n",
       "5            10   2890000.0       30.40  2018-09-10T00:00:00      1   \n",
       "6             6   3700000.0       37.30  2017-11-02T00:00:00      1   \n",
       "7             5   7915000.0       71.60  2019-04-18T00:00:00      2   \n",
       "8            20   2900000.0       33.16  2018-05-23T00:00:00      1   \n",
       "9            18   5400000.0       61.00  2017-02-26T00:00:00      3   \n",
       "\n",
       "   ceiling_height  floors_total  living_area  floor is_apartment  ...  \\\n",
       "0            2.70          16.0        51.00      8          NaN  ...   \n",
       "1             NaN          11.0        18.60      1          NaN  ...   \n",
       "2             NaN           5.0        34.30      4          NaN  ...   \n",
       "3             NaN          14.0          NaN      9          NaN  ...   \n",
       "4            3.03          14.0        32.00     13          NaN  ...   \n",
       "5             NaN          12.0        14.40      5          NaN  ...   \n",
       "6             NaN          26.0        10.60      6          NaN  ...   \n",
       "7             NaN          24.0          NaN     22          NaN  ...   \n",
       "8             NaN          27.0        15.43     26          NaN  ...   \n",
       "9            2.50           9.0        43.60      7          NaN  ...   \n",
       "\n",
       "   kitchen_area  balcony              locality_name  airports_nearest  \\\n",
       "0         25.00      NaN            Санкт-Петербург           18863.0   \n",
       "1         11.00      2.0             посёлок Шушары           12817.0   \n",
       "2          8.30      0.0            Санкт-Петербург           21741.0   \n",
       "3           NaN      0.0            Санкт-Петербург           28098.0   \n",
       "4         41.00      NaN            Санкт-Петербург           31856.0   \n",
       "5          9.10      NaN  городской посёлок Янино-1               NaN   \n",
       "6         14.40      1.0          посёлок Парголово           52996.0   \n",
       "7         18.90      2.0            Санкт-Петербург           23982.0   \n",
       "8          8.81      NaN             посёлок Мурино               NaN   \n",
       "9          6.50      2.0            Санкт-Петербург           50898.0   \n",
       "\n",
       "  cityCenters_nearest  parks_around3000  parks_nearest  ponds_around3000  \\\n",
       "0             16028.0               1.0          482.0               2.0   \n",
       "1             18603.0               0.0            NaN               0.0   \n",
       "2             13933.0               1.0           90.0               2.0   \n",
       "3              6800.0               2.0           84.0               3.0   \n",
       "4              8098.0               2.0          112.0               1.0   \n",
       "5                 NaN               NaN            NaN               NaN   \n",
       "6             19143.0               0.0            NaN               0.0   \n",
       "7             11634.0               0.0            NaN               0.0   \n",
       "8                 NaN               NaN            NaN               NaN   \n",
       "9             15008.0               0.0            NaN               0.0   \n",
       "\n",
       "   ponds_nearest  days_exposition  \n",
       "0          755.0              NaN  \n",
       "1            NaN             81.0  \n",
       "2          574.0            558.0  \n",
       "3          234.0            424.0  \n",
       "4           48.0            121.0  \n",
       "5            NaN             55.0  \n",
       "6            NaN            155.0  \n",
       "7            NaN              NaN  \n",
       "8            NaN            189.0  \n",
       "9            NaN            289.0  \n",
       "\n",
       "[10 rows x 22 columns]"
      ]
     },
     "metadata": {},
     "output_type": "display_data"
    },
    {
     "name": "stdout",
     "output_type": "stream",
     "text": [
      "<class 'pandas.core.frame.DataFrame'>\n",
      "RangeIndex: 23699 entries, 0 to 23698\n",
      "Data columns (total 22 columns):\n",
      " #   Column                Non-Null Count  Dtype  \n",
      "---  ------                --------------  -----  \n",
      " 0   total_images          23699 non-null  int64  \n",
      " 1   last_price            23699 non-null  float64\n",
      " 2   total_area            23699 non-null  float64\n",
      " 3   first_day_exposition  23699 non-null  object \n",
      " 4   rooms                 23699 non-null  int64  \n",
      " 5   ceiling_height        14504 non-null  float64\n",
      " 6   floors_total          23613 non-null  float64\n",
      " 7   living_area           21796 non-null  float64\n",
      " 8   floor                 23699 non-null  int64  \n",
      " 9   is_apartment          2775 non-null   object \n",
      " 10  studio                23699 non-null  bool   \n",
      " 11  open_plan             23699 non-null  bool   \n",
      " 12  kitchen_area          21421 non-null  float64\n",
      " 13  balcony               12180 non-null  float64\n",
      " 14  locality_name         23650 non-null  object \n",
      " 15  airports_nearest      18157 non-null  float64\n",
      " 16  cityCenters_nearest   18180 non-null  float64\n",
      " 17  parks_around3000      18181 non-null  float64\n",
      " 18  parks_nearest         8079 non-null   float64\n",
      " 19  ponds_around3000      18181 non-null  float64\n",
      " 20  ponds_nearest         9110 non-null   float64\n",
      " 21  days_exposition       20518 non-null  float64\n",
      "dtypes: bool(2), float64(14), int64(3), object(3)\n",
      "memory usage: 3.7+ MB\n"
     ]
    },
    {
     "data": {
      "text/plain": [
       "array([[<AxesSubplot:title={'center':'total_images'}>,\n",
       "        <AxesSubplot:title={'center':'last_price'}>,\n",
       "        <AxesSubplot:title={'center':'total_area'}>,\n",
       "        <AxesSubplot:title={'center':'rooms'}>],\n",
       "       [<AxesSubplot:title={'center':'ceiling_height'}>,\n",
       "        <AxesSubplot:title={'center':'floors_total'}>,\n",
       "        <AxesSubplot:title={'center':'living_area'}>,\n",
       "        <AxesSubplot:title={'center':'floor'}>],\n",
       "       [<AxesSubplot:title={'center':'kitchen_area'}>,\n",
       "        <AxesSubplot:title={'center':'balcony'}>,\n",
       "        <AxesSubplot:title={'center':'airports_nearest'}>,\n",
       "        <AxesSubplot:title={'center':'cityCenters_nearest'}>],\n",
       "       [<AxesSubplot:title={'center':'parks_around3000'}>,\n",
       "        <AxesSubplot:title={'center':'parks_nearest'}>,\n",
       "        <AxesSubplot:title={'center':'ponds_around3000'}>,\n",
       "        <AxesSubplot:title={'center':'ponds_nearest'}>],\n",
       "       [<AxesSubplot:title={'center':'days_exposition'}>, <AxesSubplot:>,\n",
       "        <AxesSubplot:>, <AxesSubplot:>]], dtype=object)"
      ]
     },
     "execution_count": 2,
     "metadata": {},
     "output_type": "execute_result"
    },
    {
     "data": {
      "image/png": "[encoded data removed]",
      "text/plain": [
       "<Figure size 1080x1440 with 20 Axes>"
      ]
     },
     "metadata": {
      "needs_background": "light"
     },
     "output_type": "display_data"
    }
   ],
   "source": [
    "data=pd.read_csv('/datasets/real_estate_data.csv',sep='\\t')\n",
    "display(data.head(10))# выводим часть таблицы для общего обзора\n",
    "data.info()#выводим общую информацию\n",
    "data.hist(figsize=(15, 20),bins=50)#строим гистограмму"
   ]
  },
  {
   "cell_type": "markdown",
   "metadata": {},
   "source": [
    "В датасете всего 23 699 записей (объявлений) .\n",
    "Каждая строка содержит информацию по одному объявлению о продаже квартиры.\n",
    "Набор данных достаточно обширный , что позволяет провести глубокий исследовательский анализ и выявить закономерности, значимые с точки зрения статистики.\n",
    "\n",
    "Некоторые столбцы содержат пропуски:\n",
    "\n",
    "ceiling_height — около 40% пропусков\n",
    "\n",
    "is_apartment — большинство значений отсутствует\n",
    "\n",
    "balcony, parks_nearest, ponds_nearest — также имеют значительное число пропусков\n",
    "\n",
    "locality_name — пропущено всего 49 записей , что незначительно\n",
    "\n",
    "Пропуски могут быть связаны как с ошибками сбора данных, так и с тем, что некоторые параметры пользователи не указывают намеренно (например, высота потолков или наличие балкона). \n",
    "\n",
    "Имена столбцов соответствуют стандартам: написаны в snake_case, понятны и логичны.\n",
    "Названия отражают содержание:\n",
    "last_price — цена объекта,\n",
    "total_area — общая площадь,\n",
    "cityCenters_nearest — расстояние до центра города и т.д.\n",
    "\n",
    "Столбец cityCenters_nearest можно было бы переименовать в city_center_nearest для полной согласованности.\n",
    "Также можно рассмотреть добавление более удобных для анализа алиасов (например, price_per_sqm — цена за квадратный метр, если её нет).\n"
   ]
  },
  {
   "cell_type": "markdown",
   "metadata": {},
   "source": [
    "<div class=\"alert alert-block alert-warning\">\n",
    "<b>🔁Комментарий ревьюера:</b> \n",
    "    \n",
    "Чтобы перед графиком не выводился длинный список с параметрами, можно просто добавить строку `plt.show()` после строки построения графика.  </div>"
   ]
  },
  {
   "cell_type": "markdown",
   "metadata": {},
   "source": [
    "<div class=\"alert alert-block alert-danger\">\n",
    "<b>❌Комментарий ревьюера:</b> \n",
    "   \n",
    " - Еще при знакомстве с данными нужно вывести несколько строк из таблицы.   \n",
    " - После каждого пункта нужно делать промежуточный вывод. Что мы можем сказать о данных после первичного знакомства  с ними? Стоит отметить объем и полноту данных, корректность наименования столбцов и соответствие типов данных.\n",
    "\n",
    "</div>"
   ]
  },
  {
   "cell_type": "markdown",
   "metadata": {},
   "source": [
    "<div class=\"alert alert-block alert-success\">\n",
    "<b>✅Комментарий ревьюера 2:</b> Отлично, исправлено!👍  </div>"
   ]
  },
  {
   "cell_type": "markdown",
   "metadata": {
    "id": "-O5NtivEAwb9"
   },
   "source": [
    "### Выполните предобработку данных"
   ]
  },
  {
   "cell_type": "code",
   "execution_count": 3,
   "metadata": {
    "id": "7v3vAeTuAwb-"
   },
   "outputs": [
    {
     "data": {
      "text/plain": [
       "ceiling_height          9195\n",
       "floors_total              86\n",
       "living_area             1903\n",
       "is_apartment           20924\n",
       "kitchen_area            2278\n",
       "balcony                11519\n",
       "locality_name             49\n",
       "airports_nearest        5542\n",
       "cityCenters_nearest     5519\n",
       "parks_around3000        5518\n",
       "parks_nearest          15620\n",
       "ponds_around3000        5518\n",
       "ponds_nearest          14589\n",
       "days_exposition         3181\n",
       "dtype: int64"
      ]
     },
     "execution_count": 3,
     "metadata": {},
     "output_type": "execute_result"
    }
   ],
   "source": [
    "missing = data.isna().sum()\n",
    "missing[missing > 0]#вывод пропусков"
   ]
  },
  {
   "cell_type": "markdown",
   "metadata": {},
   "source": [
    "Пропуски в числе балконов могут означать, что балконов нет.\n",
    "\n",
    "Пропуски в датах публикации могут быть связаны с техническими ошибками или отсутствием данных.\n",
    "\n",
    "Пропуски в расстояниях до объектов могут возникать, если объект находится вне зоны покрытия геосервисов.\n",
    "\n",
    "Были выявлены пропуски в следующих столбцах:\n",
    "- 'balcony' — можно заменить на 0, так как отсутствие означает их отсутствие.\n",
    "- 'ceiling_height' — замена на медиану по столбцу.\n",
    "- 'floors_total' — замена на 0, если этажность не указана.\n",
    "- 'is_apartment' — замена на False, если не указано, значит, не апартаменты.\n",
    "- 'parks_nearest', 'ponds_nearest', 'airports_nearest' — оставлены без изменений, так как расстояние может отсутствовать по причине отсутствия объекта."
   ]
  },
  {
   "cell_type": "code",
   "execution_count": 4,
   "metadata": {},
   "outputs": [
    {
     "data": {
      "text/plain": [
       "balcony           0\n",
       "ceiling_height    0\n",
       "floors_total      0\n",
       "is_apartment      0\n",
       "dtype: int64"
      ]
     },
     "execution_count": 4,
     "metadata": {},
     "output_type": "execute_result"
    }
   ],
   "source": [
    "# Заполнение пропусков\n",
    "data['balcony'] = data['balcony'].fillna(0).astype(int)\n",
    "data['ceiling_height'] = data['ceiling_height'].fillna(data['ceiling_height'].median())\n",
    "data['floors_total'] = data['floors_total'].fillna(0).astype(int)\n",
    "data['is_apartment'] = data['is_apartment'].fillna(False)\n",
    "\n",
    "# Проверка\n",
    "data[['balcony', 'ceiling_height', 'floors_total', 'is_apartment']].isna().sum()"
   ]
  },
  {
   "cell_type": "markdown",
   "metadata": {},
   "source": [
    "Изменение типов данных необходимо:\n",
    "- Для целочисленных значений (этажи, балконы) — чтобы корректно работать с ними в дальнейшем.\n",
    "- Для даты публикации объявлений ('first_day_exposition') — для временного анализа."
   ]
  },
  {
   "cell_type": "code",
   "execution_count": 5,
   "metadata": {},
   "outputs": [
    {
     "data": {
      "text/plain": [
       "first_day_exposition    datetime64[ns]\n",
       "floors_total                     int64\n",
       "balcony                          int64\n",
       "dtype: object"
      ]
     },
     "execution_count": 5,
     "metadata": {},
     "output_type": "execute_result"
    }
   ],
   "source": [
    "# Изменение типов данных\n",
    "data['first_day_exposition'] = pd.to_datetime(data['first_day_exposition'], errors='coerce')\n",
    "data['floors_total'] = data['floors_total'].astype(int)\n",
    "data['balcony'] = data['balcony'].astype(int)\n",
    "\n",
    "# Проверка\n",
    "data[['first_day_exposition', 'floors_total', 'balcony']].dtypes"
   ]
  },
  {
   "cell_type": "markdown",
   "metadata": {},
   "source": [
    "В столбце 'locality_name' могут встречаться неявные дубликаты, например:\n",
    "- «поселок Рябово» и «посёлок Рябово»\n",
    "- «поселок Тельмана» и «посёлок Тельмана»\n",
    "\n",
    "Эти различия связаны с орфографическими особенностями. Для упрощения анализа нормализуем названия, заменяя «поселок» на «посёлок», а также унифицируем написание."
   ]
  },
  {
   "cell_type": "code",
   "execution_count": 6,
   "metadata": {},
   "outputs": [
    {
     "data": {
      "text/plain": [
       "Санкт-Петербург      15721\n",
       "посёлок Мурино         556\n",
       "посёлок Шушары         440\n",
       "Всеволожск             398\n",
       "Пушкин                 369\n",
       "Колпино                338\n",
       "посёлок Парголово      327\n",
       "Гатчина                307\n",
       "деревня Кудрово        299\n",
       "Выборг                 237\n",
       "Name: locality_name, dtype: int64"
      ]
     },
     "execution_count": 6,
     "metadata": {},
     "output_type": "execute_result"
    }
   ],
   "source": [
    "# Функция для нормализации названий населённых пунктов\n",
    "def normal_locality(name):\n",
    "    if isinstance(name, str):\n",
    "        name = name.replace('ё', 'е').replace('поселок', 'посёлок').strip()\n",
    "    return name\n",
    "\n",
    "data['locality_name'] = data['locality_name'].apply(normal_locality)\n",
    "\n",
    "# Проверка уникальных значений\n",
    "data['locality_name'].value_counts(dropna=False).head(10)"
   ]
  },
  {
   "cell_type": "markdown",
   "metadata": {},
   "source": [
    "<div class=\"alert alert-block alert-warning\">\n",
    "<b>🔁Комментарий ревьюера:</b>\n",
    "\n",
    " - Функция здесь не нужна, replace можно применить сразу ко всему столбцу\n",
    " - Тут  можно дополнительно сравнить количество уникальных значений до обработки названий населенных пунктов и после, чтобы увидеть результат проведенной работы. </div>"
   ]
  },
  {
   "cell_type": "markdown",
   "metadata": {
    "id": "QCcvyY6YAwb-"
   },
   "source": [
    "### Добавьте в таблицу новые столбцы"
   ]
  },
  {
   "cell_type": "code",
   "execution_count": null,
   "metadata": {},
   "outputs": [],
   "source": []
  },
  {
   "cell_type": "code",
   "execution_count": 7,
   "metadata": {
    "id": "Z8eJek3IAwb-"
   },
   "outputs": [
    {
     "data": {
      "text/html": [
       "<div>\n",
       "<style scoped>\n",
       "    .dataframe tbody tr th:only-of-type {\n",
       "        vertical-align: middle;\n",
       "    }\n",
       "\n",
       "    .dataframe tbody tr th {\n",
       "        vertical-align: top;\n",
       "    }\n",
       "\n",
       "    .dataframe thead th {\n",
       "        text-align: right;\n",
       "    }\n",
       "</style>\n",
       "<table border=\"1\" class=\"dataframe\">\n",
       "  <thead>\n",
       "    <tr style=\"text-align: right;\">\n",
       "      <th></th>\n",
       "      <th>price_per_sqm</th>\n",
       "      <th>day_of_week</th>\n",
       "      <th>month</th>\n",
       "      <th>year</th>\n",
       "      <th>floor_type</th>\n",
       "      <th>city_center_km</th>\n",
       "    </tr>\n",
       "  </thead>\n",
       "  <tbody>\n",
       "    <tr>\n",
       "      <th>0</th>\n",
       "      <td>120370.37</td>\n",
       "      <td>3</td>\n",
       "      <td>3</td>\n",
       "      <td>2019</td>\n",
       "      <td>другой</td>\n",
       "      <td>16</td>\n",
       "    </tr>\n",
       "    <tr>\n",
       "      <th>1</th>\n",
       "      <td>82920.79</td>\n",
       "      <td>1</td>\n",
       "      <td>12</td>\n",
       "      <td>2018</td>\n",
       "      <td>первый</td>\n",
       "      <td>19</td>\n",
       "    </tr>\n",
       "    <tr>\n",
       "      <th>2</th>\n",
       "      <td>92785.71</td>\n",
       "      <td>3</td>\n",
       "      <td>8</td>\n",
       "      <td>2015</td>\n",
       "      <td>другой</td>\n",
       "      <td>14</td>\n",
       "    </tr>\n",
       "    <tr>\n",
       "      <th>3</th>\n",
       "      <td>408176.10</td>\n",
       "      <td>4</td>\n",
       "      <td>7</td>\n",
       "      <td>2015</td>\n",
       "      <td>другой</td>\n",
       "      <td>7</td>\n",
       "    </tr>\n",
       "    <tr>\n",
       "      <th>4</th>\n",
       "      <td>100000.00</td>\n",
       "      <td>1</td>\n",
       "      <td>6</td>\n",
       "      <td>2018</td>\n",
       "      <td>другой</td>\n",
       "      <td>8</td>\n",
       "    </tr>\n",
       "  </tbody>\n",
       "</table>\n",
       "</div>"
      ],
      "text/plain": [
       "   price_per_sqm  day_of_week  month  year floor_type  city_center_km\n",
       "0      120370.37            3      3  2019     другой              16\n",
       "1       82920.79            1     12  2018     первый              19\n",
       "2       92785.71            3      8  2015     другой              14\n",
       "3      408176.10            4      7  2015     другой               7\n",
       "4      100000.00            1      6  2018     другой               8"
      ]
     },
     "metadata": {},
     "output_type": "display_data"
    }
   ],
   "source": [
    "# 1. Цена одного квадратного метра (округлить до 2 знаков)\n",
    "data['price_per_sqm'] = (data['last_price'] / data['total_area']).round(2)\n",
    "\n",
    "# 2. День недели публикации (0 — понедельник, ..., 6 — воскресенье)\n",
    "data['day_of_week'] = data['first_day_exposition'].dt.weekday\n",
    "\n",
    "# 3. Месяц публикации\n",
    "data['month'] = data['first_day_exposition'].dt.month\n",
    "\n",
    "# 4. Год публикации\n",
    "data['year'] = data['first_day_exposition'].dt.year\n",
    "\n",
    "# 5. Тип этажа: первый, последний, другой\n",
    "def class_floor(row):\n",
    "    if row['floor'] == 1:\n",
    "        return 'первый'\n",
    "    elif row['floor'] == row['floors_total']:\n",
    "        return 'последний'\n",
    "    else:\n",
    "        return 'другой'\n",
    "\n",
    "data['floor_type'] = data.apply(class_floor, axis=1)\n",
    "\n",
    "# 6. Расстояние до центра города в километрах (округлить до целых)\n",
    "data['city_center_km'] = (data['cityCenters_nearest'] / 1000).round(0).astype('Int64')\n",
    "\n",
    "# 7.Проверка\n",
    "display(data[['price_per_sqm', 'day_of_week', 'month', 'year', 'floor_type', 'city_center_km']].head())"
   ]
  },
  {
   "cell_type": "markdown",
   "metadata": {},
   "source": [
    "\n",
    "В датасете выявлены пропуски в нескольких столбцах, например:\n",
    "ceiling_height — 9195 пропусков\n",
    "\n",
    "balcony — 11519 пропусков\n",
    "\n",
    "is_apartment — 20924 пропуска (большинство значений не заполнено)\n",
    "\n",
    "floors_total — 86 пропусков\n",
    "\n",
    "Пропуски обработаны с учётом логики:\n",
    "\n",
    "'balcony': заменены на 0 , так как отсутствие указывает на их отсутствие.\n",
    "\n",
    "'ceiling_height': заполнены медианным значением .\n",
    "\n",
    "'floors_total': заменены на 0 , если этажность не указана.\n",
    "\n",
    "'is_apartment': заменены на False , так как отсутствие значения означает, что это не апартаменты.\n",
    "\n",
    "Пропуски в геоданных (parks_nearest, ponds_nearest, airports_nearest) оставлены без изменений, так как они могут отсутствовать по причине отсутствия объекта в радиусе.\n",
    "\n",
    "Столбец 'first_day_exposition' переведён из строкового типа в формат datetime64[ns] для возможности временного анализа.\n",
    "\n",
    "Целочисленные значения (floors_total, balcony) переведены в тип int для корректного использования в дальнейших расчётах и группировках.\n",
    "\n",
    "В столбце 'locality_name' были найдены неявные дубликаты: например, «поселок Тельмана» и «посёлок Тельмана».\n",
    "\n",
    "Была проведена нормализация:\n",
    "\n",
    "заменены все варианты «поселок» на «посёлок»,\n",
    "\n",
    "исправлены ошибки с буквой «ё».\n",
    "\n",
    "После обработки количество уникальных значений уменьшилось, что говорит об успешном объединении дублирующихся категорий.\n",
    "\n",
    "Для проверки использовался метод value_counts() до и после обработки.\n",
    "\n",
    "Для повышения аналитической ценности данных были добавлены новые признаки:\n",
    "\n",
    "price_per_sqm - Цена за квадратный метр жилья (округлена до двух знаков)\n",
    "\n",
    "day_of_week - День недели публикации (от 0 — понедельник до 6 — воскресенье)\n",
    "\n",
    "month - Месяц публикации\n",
    "\n",
    "year - Год публикации\n",
    "\n",
    "floor_type - Тип этажа: «первый», «последний», «другой»\n",
    "\n",
    "city_center_km - Расстояние до центра Санкт-Петербурга в километрах (округлённое до целых чисел)\n",
    "\n",
    "Эти данные позволяют провести более глубокий анализ, включая сезонность, зависимость цены от расположения и типа этажа, а также строить прогнозы по рыночным тенденциям.\n",
    "\n",
    "Итоги этапа предобработки и создания новых признаков:\n",
    "\n",
    "Все пропуски, где это возможно, были заполнены логичными значениями.\n",
    "\n",
    "Неявные дубликаты в названиях населённых пунктов устранены.\n",
    "\n",
    "Типы данных скорректированы для удобства работы и анализа.\n",
    "\n",
    "Созданы новые полезные признаки, которые позволят исследовать зависимости между стоимостью квартиры и различными факторами.\n",
    "Т\n",
    "еперь данные готовы к полноценному исследовательскому анализу и построению графиков."
   ]
  },
  {
   "cell_type": "markdown",
   "metadata": {},
   "source": [
    "<div class=\"alert alert-block alert-warning\">\n",
    "<b>🔁Комментарий ревьюера:</b> \n",
    "    \n",
    "Выводить датафрейм (или его части) на экран лучше в табличном виде (без использования функции `print()`), так будет гораздо понятнее и нагляднее. Можно использовать функцию `display()`. \n",
    "\n",
    "</div>"
   ]
  },
  {
   "cell_type": "markdown",
   "metadata": {},
   "source": [
    "<div class=\"alert alert-block alert-success\">\n",
    "<b>✅Комментарий ревьюера 2:</b> Отлично, исправлено!👍  </div>"
   ]
  },
  {
   "cell_type": "markdown",
   "metadata": {
    "id": "5766e785"
   },
   "source": [
    "<div class=\"alert alert-block alert-danger\">\n",
    "<b>❌Комментарий ревьюера:</b> \n",
    "    \n",
    "После этапа предобработки нужно сделать краткий резюмирующий вывод о проделанной работе.</div>"
   ]
  },
  {
   "cell_type": "markdown",
   "metadata": {},
   "source": [
    "<div class=\"alert alert-block alert-success\">\n",
    "<b>✅Комментарий ревьюера 2:</b> Отлично, исправлено!👍  </div>"
   ]
  },
  {
   "cell_type": "markdown",
   "metadata": {},
   "source": [
    "<div class=\"alert alert-block alert-success\">\n",
    "<b>✅Комментарий ревьюера:</b> Дополнительные данные рассчитаны и добавлены верно! Можно приступать к исследованию🙂 </div>"
   ]
  },
  {
   "cell_type": "markdown",
   "metadata": {
    "id": "pPyxrKWTAwb-"
   },
   "source": [
    "### Проведите исследовательский анализ данных"
   ]
  },
  {
   "cell_type": "markdown",
   "metadata": {},
   "source": [
    "<div class=\"alert alert-block alert-warning\">\n",
    "<b>🔁Комментарий ревьюера:</b>\n",
    "\n",
    "Все библиотеки лучше импортировать в самом начале проекта, в отдельной ячейке. Если в процессе работы появилась необходимость добавить библиотеку, то ее можно дописать в эту ячейку и исполнить.</div>"
   ]
  },
  {
   "cell_type": "markdown",
   "metadata": {},
   "source": [
    "<div class=\"alert alert-block alert-success\">\n",
    "<b>✅Комментарий ревьюера 2:</b> Отлично, исправлено!👍  </div>"
   ]
  },
  {
   "cell_type": "code",
   "execution_count": 8,
   "metadata": {
    "id": "V2f0D3kLAwb-",
    "scrolled": false
   },
   "outputs": [
    {
     "data": {
      "image/png": "[encoded data removed]",
      "text/plain": [
       "<Figure size 576x360 with 1 Axes>"
      ]
     },
     "metadata": {
      "needs_background": "light"
     },
     "output_type": "display_data"
    },
    {
     "data": {
      "image/png": "[encoded data removed]",
      "text/plain": [
       "<Figure size 576x360 with 1 Axes>"
      ]
     },
     "metadata": {
      "needs_background": "light"
     },
     "output_type": "display_data"
    },
    {
     "data": {
      "image/png": "[encoded data removed]",
      "text/plain": [
       "<Figure size 576x360 with 1 Axes>"
      ]
     },
     "metadata": {
      "needs_background": "light"
     },
     "output_type": "display_data"
    },
    {
     "data": {
      "image/png": "[encoded data removed]",
      "text/plain": [
       "<Figure size 576x360 with 1 Axes>"
      ]
     },
     "metadata": {
      "needs_background": "light"
     },
     "output_type": "display_data"
    },
    {
     "data": {
      "image/png": "[encoded data removed]",
      "text/plain": [
       "<Figure size 576x360 with 1 Axes>"
      ]
     },
     "metadata": {
      "needs_background": "light"
     },
     "output_type": "display_data"
    },
    {
     "data": {
      "image/png": "[encoded data removed]",
      "text/plain": [
       "<Figure size 576x360 with 1 Axes>"
      ]
     },
     "metadata": {
      "needs_background": "light"
     },
     "output_type": "display_data"
    },
    {
     "data": {
      "image/png": "[encoded data removed]",
      "text/plain": [
       "<Figure size 576x360 with 1 Axes>"
      ]
     },
     "metadata": {
      "needs_background": "light"
     },
     "output_type": "display_data"
    },
    {
     "data": {
      "image/png": "[encoded data removed]",
      "text/plain": [
       "<Figure size 576x360 with 1 Axes>"
      ]
     },
     "metadata": {
      "needs_background": "light"
     },
     "output_type": "display_data"
    },
    {
     "data": {
      "image/png": "[encoded data removed]",
      "text/plain": [
       "<Figure size 576x360 with 1 Axes>"
      ]
     },
     "metadata": {
      "needs_background": "light"
     },
     "output_type": "display_data"
    },
    {
     "data": {
      "image/png": "[encoded data removed]",
      "text/plain": [
       "<Figure size 576x360 with 1 Axes>"
      ]
     },
     "metadata": {
      "needs_background": "light"
     },
     "output_type": "display_data"
    }
   ],
   "source": [
    "\n",
    "# Фильтрация аномалий\n",
    "filtered = data[\n",
    "    (data['ceiling_height'] < 10) &\n",
    "    (data['total_area'] < 300) &\n",
    "    (data['rooms'] < 10)\n",
    "]\n",
    "\n",
    "# Гистограммы\n",
    "params = ['total_area', 'living_area', 'kitchen_area', 'last_price', 'rooms',\n",
    "          'ceiling_height', 'floors_total', 'city_center_km', 'parks_nearest', 'days_exposition']\n",
    "\n",
    "for param in params:\n",
    "    filtered[param].hist(bins=50, figsize=(8, 5))\n",
    "    plt.title(param)\n",
    "    plt.grid(True)\n",
    "    plt.show()"
   ]
  },
  {
   "cell_type": "code",
   "execution_count": 9,
   "metadata": {},
   "outputs": [
    {
     "data": {
      "image/png": "[encoded data removed]",
      "text/plain": [
       "<Figure size 576x360 with 1 Axes>"
      ]
     },
     "metadata": {
      "needs_background": "light"
     },
     "output_type": "display_data"
    },
    {
     "name": "stdout",
     "output_type": "stream",
     "text": [
      "Статистика по общей площади:\n",
      "count    23604.000000\n",
      "mean        59.384024\n",
      "std         30.310842\n",
      "min         12.000000\n",
      "25%         40.000000\n",
      "50%         52.000000\n",
      "75%         69.325000\n",
      "max        297.500000\n",
      "Name: total_area, dtype: float64\n"
     ]
    },
    {
     "data": {
      "image/png": "[encoded data removed]",
      "text/plain": [
       "<Figure size 576x360 with 1 Axes>"
      ]
     },
     "metadata": {
      "needs_background": "light"
     },
     "output_type": "display_data"
    }
   ],
   "source": [
    "#Общая площадь (total_area)\n",
    "# Гистограмма до фильтрации\n",
    "plt.figure(figsize=(8, 5))\n",
    "plt.hist(filtered['total_area'], bins=50)\n",
    "plt.title('Распределение общей площади квартир')\n",
    "plt.xlabel('Общая площадь квартиры, м²')\n",
    "plt.ylabel('Частота встречаемости')\n",
    "plt.grid(True, alpha=0.3)\n",
    "plt.show()\n",
    "\n",
    "# Статистика\n",
    "print(\"Статистика по общей площади:\")\n",
    "print(filtered['total_area'].describe())\n",
    "\n",
    "# уберём слишком маленькие и слишком большие значения\n",
    "filtered = filtered[(filtered['total_area'] >= 15) & (filtered['total_area'] <= 200)]\n",
    "\n",
    "# Гистограмма после фильтрации\n",
    "plt.figure(figsize=(8, 5))\n",
    "plt.hist(filtered['total_area'], bins=50)\n",
    "plt.title('Общая площадь (очищенная)')\n",
    "plt.xlabel('Общая площадь квартиры, м²')\n",
    "plt.ylabel('Частота встречаемости')\n",
    "plt.grid(True, alpha=0.3)\n",
    "plt.show()"
   ]
  },
  {
   "cell_type": "markdown",
   "metadata": {},
   "source": [
    "После фильтрации основные объявления сконцентрированы в диапазоне 30–90 м² — типичная площадь квартир на рынке Санкт-Петербурга.\n"
   ]
  },
  {
   "cell_type": "code",
   "execution_count": 10,
   "metadata": {},
   "outputs": [
    {
     "data": {
      "image/png": "[encoded data removed]",
      "text/plain": [
       "<Figure size 576x360 with 1 Axes>"
      ]
     },
     "metadata": {
      "needs_background": "light"
     },
     "output_type": "display_data"
    },
    {
     "name": "stdout",
     "output_type": "stream",
     "text": [
      "Статистика по жилой площади:\n",
      "count    21567.000000\n",
      "mean        33.248011\n",
      "std         17.343201\n",
      "min          2.000000\n",
      "25%         18.600000\n",
      "50%         30.000000\n",
      "75%         42.000000\n",
      "max        164.700000\n",
      "Name: living_area, dtype: float64\n"
     ]
    },
    {
     "data": {
      "image/png": "[encoded data removed]",
      "text/plain": [
       "<Figure size 576x360 with 1 Axes>"
      ]
     },
     "metadata": {
      "needs_background": "light"
     },
     "output_type": "display_data"
    }
   ],
   "source": [
    "#Жилая площадь (living_area)\n",
    "# Гистограмма до фильтрации\n",
    "plt.figure(figsize=(8, 5))\n",
    "plt.hist(filtered['living_area'], bins=50)\n",
    "plt.title('Жилая площадь квартир')\n",
    "plt.xlabel('Жилая площадь, м²')\n",
    "plt.ylabel('Частота встречаемости')\n",
    "plt.grid(True, alpha=0.3)\n",
    "plt.show()\n",
    "\n",
    "# Статистика\n",
    "print(\"Статистика по жилой площади:\")\n",
    "print(filtered['living_area'].describe())\n",
    "\n",
    "# уберём слишком маленькие и слишком большие значения\n",
    "filtered = filtered[(filtered['living_area'] >= 10) & (filtered['living_area'] <= 150)]\n",
    "\n",
    "# Гистограмма после фильтрации\n",
    "plt.figure(figsize=(8, 5))\n",
    "plt.hist(filtered['living_area'], bins=50)\n",
    "plt.title('Жилая площадь (очищенная)')\n",
    "plt.xlabel('Жилая площадь, м²')\n",
    "plt.ylabel('Частота встречаемости')\n",
    "plt.grid(True, alpha=0.3)\n",
    "plt.show()"
   ]
  },
  {
   "cell_type": "markdown",
   "metadata": {},
   "source": [
    "Большинство квартир имеет жилую площадь от 15 до 50 м² . Это соответствует однокомнатным и двухкомнатным квартирам.\n"
   ]
  },
  {
   "cell_type": "code",
   "execution_count": 11,
   "metadata": {},
   "outputs": [
    {
     "data": {
      "image/png": "[encoded data removed]",
      "text/plain": [
       "<Figure size 576x360 with 1 Axes>"
      ]
     },
     "metadata": {
      "needs_background": "light"
     },
     "output_type": "display_data"
    },
    {
     "name": "stdout",
     "output_type": "stream",
     "text": [
      "Статистика по площади кухни:\n",
      "count    20745.000000\n",
      "mean        10.330189\n",
      "std          5.305356\n",
      "min          1.300000\n",
      "25%          7.000000\n",
      "50%          9.000000\n",
      "75%         11.810000\n",
      "max         93.200000\n",
      "Name: kitchen_area, dtype: float64\n"
     ]
    },
    {
     "data": {
      "image/png": "[encoded data removed]",
      "text/plain": [
       "<Figure size 576x360 with 1 Axes>"
      ]
     },
     "metadata": {
      "needs_background": "light"
     },
     "output_type": "display_data"
    }
   ],
   "source": [
    "# Площадь кухни (kitchen_area)\n",
    "# Гистограмма до фильтрации\n",
    "plt.figure(figsize=(8, 5))\n",
    "plt.hist(filtered['kitchen_area'], bins=50)\n",
    "plt.title('Площадь кухни')\n",
    "plt.xlabel('Площадь кухни, м²')\n",
    "plt.ylabel('Частота встречаемости')\n",
    "plt.grid(True, alpha=0.3)\n",
    "plt.show()\n",
    "\n",
    "# Статистика\n",
    "print(\"Статистика по площади кухни:\")\n",
    "print(filtered['kitchen_area'].describe())\n",
    "\n",
    "# уберём слишком маленькие и слишком большие значения\n",
    "filtered = filtered[(filtered['kitchen_area'] >= 3) & (filtered['kitchen_area'] <= 40)]\n",
    "\n",
    "# Гистограмма после фильтрации\n",
    "plt.figure(figsize=(8, 5))\n",
    "plt.hist(filtered['kitchen_area'], bins=50)\n",
    "plt.title('Площадь кухни (очищенная)')\n",
    "plt.xlabel('Площадь кухни, м²')\n",
    "plt.ylabel('Частота встречаемости')\n",
    "plt.grid(True, alpha=0.3)\n",
    "plt.show()"
   ]
  },
  {
   "cell_type": "markdown",
   "metadata": {},
   "source": [
    "Основная масса квартир имеет кухни от 6 до 12 м² . Очень большие или очень маленькие кухни встречаются редко и могут быть выбросами."
   ]
  },
  {
   "cell_type": "code",
   "execution_count": 12,
   "metadata": {},
   "outputs": [
    {
     "data": {
      "image/png": "[encoded data removed]",
      "text/plain": [
       "<Figure size 576x360 with 1 Axes>"
      ]
     },
     "metadata": {
      "needs_background": "light"
     },
     "output_type": "display_data"
    },
    {
     "name": "stdout",
     "output_type": "stream",
     "text": [
      "Статистика по цене квартиры:\n",
      "count    2.065100e+04\n",
      "mean     5.970695e+06\n",
      "std      5.975425e+06\n",
      "min      4.300000e+05\n",
      "25%      3.500000e+06\n",
      "50%      4.650000e+06\n",
      "75%      6.690000e+06\n",
      "max      3.300000e+08\n",
      "Name: last_price, dtype: float64\n"
     ]
    },
    {
     "data": {
      "image/png": "[encoded data removed]",
      "text/plain": [
       "<Figure size 576x360 with 1 Axes>"
      ]
     },
     "metadata": {
      "needs_background": "light"
     },
     "output_type": "display_data"
    }
   ],
   "source": [
    "#Цена объекта (last_price)\n",
    "# Гистограмма до фильтрации\n",
    "plt.figure(figsize=(8, 5))\n",
    "plt.hist(filtered['last_price'], bins=50)\n",
    "plt.title('Цена квартиры')\n",
    "plt.xlabel('Цена квартиры, руб.')\n",
    "plt.ylabel('Частота встречаемости')\n",
    "plt.grid(True, alpha=0.3)\n",
    "plt.show()\n",
    "\n",
    "# Статистика\n",
    "print(\"Статистика по цене квартиры:\")\n",
    "print(filtered['last_price'].describe())\n",
    "\n",
    "# уберём слишком дорогие и дешёвые варианты\n",
    "filtered = filtered[(filtered['last_price'] >= 1_000_000) & (filtered['last_price'] <= 30_000_000)]\n",
    "\n",
    "# Гистограмма после фильтрации\n",
    "plt.figure(figsize=(8, 5))\n",
    "plt.hist(filtered['last_price'], bins=50)\n",
    "plt.title('Цена квартиры (очищенная)')\n",
    "plt.xlabel('Цена квартиры, руб.')\n",
    "plt.ylabel('Частота встречаемости')\n",
    "plt.grid(True, alpha=0.3)\n",
    "plt.show()"
   ]
  },
  {
   "cell_type": "markdown",
   "metadata": {},
   "source": [
    "Средняя цена находится в районе 4–7 млн рублей . Элитное жильё выше 15 млн встречается редко и может быть исключением."
   ]
  },
  {
   "cell_type": "code",
   "execution_count": 13,
   "metadata": {},
   "outputs": [
    {
     "data": {
      "image/png": "[encoded data removed]",
      "text/plain": [
       "<Figure size 576x360 with 1 Axes>"
      ]
     },
     "metadata": {
      "needs_background": "light"
     },
     "output_type": "display_data"
    },
    {
     "name": "stdout",
     "output_type": "stream",
     "text": [
      "Статистика по числу комнат:\n",
      "count    20336.000000\n",
      "mean         2.050649\n",
      "std          0.969915\n",
      "min          1.000000\n",
      "25%          1.000000\n",
      "50%          2.000000\n",
      "75%          3.000000\n",
      "max          8.000000\n",
      "Name: rooms, dtype: float64\n"
     ]
    },
    {
     "data": {
      "image/png": "[encoded data removed]",
      "text/plain": [
       "<Figure size 576x360 with 1 Axes>"
      ]
     },
     "metadata": {
      "needs_background": "light"
     },
     "output_type": "display_data"
    }
   ],
   "source": [
    "# Количество комнат (rooms)\n",
    "# Гистограмма до фильтрации\n",
    "plt.figure(figsize=(8, 5))\n",
    "plt.hist(filtered['rooms'], bins=10)\n",
    "plt.title('Количество комнат в квартире')\n",
    "plt.xlabel('Число комнат')\n",
    "plt.ylabel('Частота встречаемости')\n",
    "plt.grid(True, alpha=0.3)\n",
    "plt.show()\n",
    "\n",
    "# Статистика\n",
    "print(\"Статистика по числу комнат:\")\n",
    "print(filtered['rooms'].describe())\n",
    "\n",
    "# уберём нереалистично большое число комнат\n",
    "filtered = filtered[(filtered['rooms'] >= 0) & (filtered['rooms'] <= 6)]\n",
    "\n",
    "# Гистограмма после фильтрации\n",
    "plt.figure(figsize=(8, 5))\n",
    "plt.hist(filtered['rooms'], bins=7)\n",
    "plt.title('Число комнат (очищенное)')\n",
    "plt.xlabel('Число комнат')\n",
    "plt.ylabel('Частота встречаемости')\n",
    "plt.grid(True, alpha=0.3)\n",
    "plt.show()"
   ]
  },
  {
   "cell_type": "markdown",
   "metadata": {},
   "source": [
    "<div class=\"alert alert-block alert-warning\">\n",
    "<b>🔁Комментарий ревьюера 2:</b> \n",
    "    \n",
    "Для дискретных переменных лучше использовать барплот</div>"
   ]
  },
  {
   "cell_type": "markdown",
   "metadata": {},
   "source": [
    "На рынке преобладают 1–3 комнатные квартиры . Более просторные варианты встречаются реже."
   ]
  },
  {
   "cell_type": "code",
   "execution_count": 14,
   "metadata": {},
   "outputs": [
    {
     "data": {
      "image/png": "[encoded data removed]",
      "text/plain": [
       "<Figure size 576x360 with 1 Axes>"
      ]
     },
     "metadata": {
      "needs_background": "light"
     },
     "output_type": "display_data"
    },
    {
     "name": "stdout",
     "output_type": "stream",
     "text": [
      "Статистика по высоте потолков:\n",
      "count    20316.000000\n",
      "mean         2.690378\n",
      "std          0.217707\n",
      "min          1.000000\n",
      "25%          2.600000\n",
      "50%          2.650000\n",
      "75%          2.700000\n",
      "max          8.300000\n",
      "Name: ceiling_height, dtype: float64\n"
     ]
    },
    {
     "data": {
      "image/png": "[encoded data removed]",
      "text/plain": [
       "<Figure size 576x360 with 1 Axes>"
      ]
     },
     "metadata": {
      "needs_background": "light"
     },
     "output_type": "display_data"
    }
   ],
   "source": [
    "# Высота потолков (ceiling_height)\n",
    "# Гистограмма до фильтрации\n",
    "plt.figure(figsize=(8, 5))\n",
    "plt.hist(filtered['ceiling_height'], bins=50)\n",
    "plt.title('Высота потолков')\n",
    "plt.xlabel('Высота потолков, м')\n",
    "plt.ylabel('Частота встречаемости')\n",
    "plt.grid(True, alpha=0.3)\n",
    "plt.show()\n",
    "\n",
    "# Статистика\n",
    "print(\"Статистика по высоте потолков:\")\n",
    "print(filtered['ceiling_height'].describe())\n",
    "\n",
    "# уберём аномальные значения\n",
    "filtered = filtered[(filtered['ceiling_height'] >= 2.3) & (filtered['ceiling_height'] <= 3.5)]\n",
    "\n",
    "# Гистограмма после фильтрации\n",
    "plt.figure(figsize=(8, 5))\n",
    "plt.hist(filtered['ceiling_height'], bins=50)\n",
    "plt.title('Высота потолков (очищенная)')\n",
    "plt.xlabel('Высота потолков, м')\n",
    "plt.ylabel('Частота встречаемости')\n",
    "plt.grid(True, alpha=0.3)\n",
    "plt.show()"
   ]
  },
  {
   "cell_type": "markdown",
   "metadata": {},
   "source": [
    "Нормальная высота потолков — 2.5–2.9 м . Редкие случаи выше 3 м могут быть в новостройках."
   ]
  },
  {
   "cell_type": "code",
   "execution_count": 15,
   "metadata": {},
   "outputs": [
    {
     "data": {
      "image/png": "[encoded data removed]",
      "text/plain": [
       "<Figure size 576x360 with 1 Axes>"
      ]
     },
     "metadata": {
      "needs_background": "light"
     },
     "output_type": "display_data"
    },
    {
     "name": "stdout",
     "output_type": "stream",
     "text": [
      "Статистика по этажности домов:\n",
      "count    20098.000000\n",
      "mean        10.714499\n",
      "std          6.550130\n",
      "min          0.000000\n",
      "25%          5.000000\n",
      "50%          9.000000\n",
      "75%         16.000000\n",
      "max         60.000000\n",
      "Name: floors_total, dtype: float64\n"
     ]
    },
    {
     "data": {
      "image/png": "[encoded data removed]",
      "text/plain": [
       "<Figure size 576x360 with 1 Axes>"
      ]
     },
     "metadata": {
      "needs_background": "light"
     },
     "output_type": "display_data"
    }
   ],
   "source": [
    "# Этажность дома (floors_total)\n",
    "# Гистограмма до фильтрации\n",
    "plt.figure(figsize=(8, 5))\n",
    "plt.hist(filtered['floors_total'], bins=30)\n",
    "plt.title('Этажность домов')\n",
    "plt.xlabel('Число этажей')\n",
    "plt.ylabel('Частота встречаемости')\n",
    "plt.grid(True, alpha=0.3)\n",
    "plt.show()\n",
    "\n",
    "# Статистика\n",
    "print(\"Статистика по этажности домов:\")\n",
    "print(filtered['floors_total'].describe())\n",
    "\n",
    "# уберём слишком высокие дома\n",
    "filtered = filtered[(filtered['floors_total'] >= 1) & (filtered['floors_total'] <= 30)]\n",
    "\n",
    "# Гистограмма после фильтрации\n",
    "plt.figure(figsize=(8, 5))\n",
    "plt.hist(filtered['floors_total'], bins=30)\n",
    "plt.title('Этажность дома (очищенная)')\n",
    "plt.xlabel('Число этажей')\n",
    "plt.ylabel('Частота встречаемости')\n",
    "plt.grid(True, alpha=0.3)\n",
    "plt.show()"
   ]
  },
  {
   "cell_type": "markdown",
   "metadata": {},
   "source": [
    "Подавляющее большинство домов имеют от 5 до 15 этажей . Многоэтажные дома (>25 этажей) встречаются редко."
   ]
  },
  {
   "cell_type": "code",
   "execution_count": 16,
   "metadata": {},
   "outputs": [
    {
     "data": {
      "image/png": "[encoded data removed]",
      "text/plain": [
       "<Figure size 576x360 with 1 Axes>"
      ]
     },
     "metadata": {
      "needs_background": "light"
     },
     "output_type": "display_data"
    },
    {
     "name": "stdout",
     "output_type": "stream",
     "text": [
      "Статистика по удалению от центра:\n",
      "count    15591.000000\n",
      "mean        14.530370\n",
      "std          8.599019\n",
      "min          0.000000\n",
      "25%         10.000000\n",
      "50%         13.000000\n",
      "75%         16.000000\n",
      "max         66.000000\n",
      "Name: city_center_km, dtype: float64\n"
     ]
    },
    {
     "data": {
      "image/png": "[encoded data removed]",
      "text/plain": [
       "<Figure size 576x360 with 1 Axes>"
      ]
     },
     "metadata": {
      "needs_background": "light"
     },
     "output_type": "display_data"
    }
   ],
   "source": [
    "# Расстояние до центра города (city_center_km)\n",
    "# Гистограмма до фильтрации\n",
    "plt.figure(figsize=(8, 5))\n",
    "plt.hist(filtered['city_center_km'].dropna(), bins=50)\n",
    "plt.title('Удаление от центра города')\n",
    "plt.xlabel('Удаление от центра, км')\n",
    "plt.ylabel('Частота встречаемости')\n",
    "plt.grid(True, alpha=0.3)\n",
    "plt.show()\n",
    "\n",
    "# Статистика\n",
    "print(\"Статистика по удалению от центра:\")\n",
    "print(filtered['city_center_km'].describe())\n",
    "\n",
    "# уберём слишком далёкие районы\n",
    "filtered = filtered[filtered['city_center_km'] <= 30]\n",
    "\n",
    "# Гистограмма после фильтрации\n",
    "plt.figure(figsize=(8, 5))\n",
    "plt.hist(filtered['city_center_km'], bins=30)\n",
    "plt.title('Удаление от центра (очищенное)')\n",
    "plt.xlabel('Удаление от центра, км')\n",
    "plt.ylabel('Частота встречаемости')\n",
    "plt.grid(True, alpha=0.3)\n",
    "plt.show()"
   ]
  },
  {
   "cell_type": "markdown",
   "metadata": {},
   "source": [
    "Большинство квартир находятся в радиусе 5–15 км от центра Петербурга . Центральные районы (<5 км) и пригороды (>20 км) встречаются реже."
   ]
  },
  {
   "cell_type": "code",
   "execution_count": 17,
   "metadata": {},
   "outputs": [
    {
     "data": {
      "image/png": "[encoded data removed]",
      "text/plain": [
       "<Figure size 576x360 with 1 Axes>"
      ]
     },
     "metadata": {
      "needs_background": "light"
     },
     "output_type": "display_data"
    },
    {
     "name": "stdout",
     "output_type": "stream",
     "text": [
      "Статистика по расстоянию до парка:\n",
      "count    6305.000000\n",
      "mean      497.807930\n",
      "std       339.167427\n",
      "min         1.000000\n",
      "25%       301.000000\n",
      "50%       460.000000\n",
      "75%       619.000000\n",
      "max      3190.000000\n",
      "Name: parks_nearest, dtype: float64\n"
     ]
    },
    {
     "data": {
      "image/png": "[encoded data removed]",
      "text/plain": [
       "<Figure size 576x360 with 1 Axes>"
      ]
     },
     "metadata": {
      "needs_background": "light"
     },
     "output_type": "display_data"
    }
   ],
   "source": [
    "# Расстояние до парка (parks_nearest)\n",
    "# Гистограмма до фильтрации\n",
    "plt.figure(figsize=(8, 5))\n",
    "plt.hist(filtered['parks_nearest'].dropna(), bins=50)\n",
    "plt.title('Расстояние до ближайшего парка')\n",
    "plt.xlabel('Расстояние до парка, м')\n",
    "plt.ylabel('Частота встречаемости')\n",
    "plt.grid(True, alpha=0.3)\n",
    "plt.show()\n",
    "\n",
    "# Статистика\n",
    "print(\"Статистика по расстоянию до парка:\")\n",
    "print(filtered['parks_nearest'].describe())\n",
    "\n",
    "# уберём слишком удалённые парки\n",
    "filtered = filtered[filtered['parks_nearest'].isna() | (filtered['parks_nearest'] <= 2000)]\n",
    "\n",
    "# Гистограмма после фильтрации\n",
    "plt.figure(figsize=(8, 5))\n",
    "plt.hist(filtered['parks_nearest'].dropna(), bins=50)\n",
    "plt.title('Расстояние до парка (очищенное)')\n",
    "plt.xlabel('Расстояние до парка, м')\n",
    "plt.ylabel('Частота встречаемости')\n",
    "plt.grid(True, alpha=0.3)\n",
    "plt.show()"
   ]
  },
  {
   "cell_type": "markdown",
   "metadata": {},
   "source": [
    "Большинство квартир расположены на расстоянии 200–800 метров от парка . Отсутствие парка рядом — тоже важный фактор, но он не всегда означает низкий уровень жизни."
   ]
  },
  {
   "cell_type": "code",
   "execution_count": 18,
   "metadata": {},
   "outputs": [
    {
     "data": {
      "image/png": "[encoded data removed]",
      "text/plain": [
       "<Figure size 576x360 with 1 Axes>"
      ]
     },
     "metadata": {
      "needs_background": "light"
     },
     "output_type": "display_data"
    },
    {
     "name": "stdout",
     "output_type": "stream",
     "text": [
      "Статистика по сроку размещения:\n",
      "count    12605.000000\n",
      "mean       181.216105\n",
      "std        220.446800\n",
      "min          1.000000\n",
      "25%         41.000000\n",
      "50%         97.000000\n",
      "75%        230.000000\n",
      "max       1553.000000\n",
      "Name: days_exposition, dtype: float64\n"
     ]
    },
    {
     "data": {
      "image/png": "[encoded data removed]",
      "text/plain": [
       "<Figure size 576x360 with 1 Axes>"
      ]
     },
     "metadata": {
      "needs_background": "light"
     },
     "output_type": "display_data"
    }
   ],
   "source": [
    "# Время публикации (days_exposition)\n",
    "# Гистограмма до фильтрации\n",
    "plt.figure(figsize=(8, 5))\n",
    "plt.hist(filtered['days_exposition'].dropna(), bins=100)\n",
    "plt.title('Срок размещения объявлений')\n",
    "plt.xlabel('Дней с момента публикации')\n",
    "plt.ylabel('Частота встречаемости')\n",
    "plt.grid(True, alpha=0.3)\n",
    "plt.show()\n",
    "\n",
    "# Статистика\n",
    "print(\"Статистика по сроку размещения:\")\n",
    "print(filtered['days_exposition'].describe())\n",
    "\n",
    "# уберём долгие продажи\n",
    "filtered = filtered[filtered['days_exposition'].isna() | (filtered['days_exposition'] <= 400)]\n",
    "\n",
    "# Гистограмма после фильтрации\n",
    "plt.figure(figsize=(8, 5))\n",
    "plt.hist(filtered['days_exposition'].dropna(), bins=50)\n",
    "plt.title('Срок размещения объявлений (очищенный)')\n",
    "plt.xlabel('Дней с момента публикации')\n",
    "plt.ylabel('Частота встречаемости')\n",
    "plt.grid(True, alpha=0.3)\n",
    "plt.show()"
   ]
  },
  {
   "cell_type": "markdown",
   "metadata": {},
   "source": [
    "Медиана времени продажи — около 150 дней , среднее — 180 дней . Быстрые продажи — до 45 дней , долгие — свыше 365 дней ."
   ]
  },
  {
   "cell_type": "markdown",
   "metadata": {},
   "source": [
    "<div class=\"alert alert-block alert-danger\">\n",
    "<b>❌Комментарий ревьюера:</b>\n",
    "    \n",
    "    \n",
    "Давай в этом пункте не будем спешить и последовательно разберем каждый из параметров. Построим гистограмму, выявим редкие и выбивающиеся значения (дополнительно для этого можно использовать метод describe), потом построим гистограмму без них, опишем ее и сделаем выводы. Затем перейдем к следующему параметру и проделаем для него те же действия.\n",
    "    \n",
    "Необходимо подписывать каждый график и оси на нем. Есть [хорошая статья](https://devpractice.ru/matplotlib-lesson-3-3-text-elements/), которая подскажет как это правильно сделать). </div>"
   ]
  },
  {
   "cell_type": "markdown",
   "metadata": {},
   "source": [
    "<div class=\"alert alert-block alert-success\">\n",
    "<b>✅Комментарий ревьюера 2:</b> Отлично, исправлено!👍  </div>"
   ]
  },
  {
   "cell_type": "code",
   "execution_count": 19,
   "metadata": {},
   "outputs": [
    {
     "data": {
      "image/png": "[encoded data removed]",
      "text/plain": [
       "<Figure size 720x432 with 1 Axes>"
      ]
     },
     "metadata": {
      "needs_background": "light"
     },
     "output_type": "display_data"
    },
    {
     "name": "stdout",
     "output_type": "stream",
     "text": [
      "Среднее: 180.9, Медиана: 95.0\n"
     ]
    }
   ],
   "source": [
    "# Гистограмма\n",
    "data['days_exposition'].hist(bins=100, figsize=(10, 6))\n",
    "plt.title('Срок размещения объявлений')\n",
    "plt.xlabel('Дни')\n",
    "plt.ylabel('Частота')\n",
    "plt.grid(True)\n",
    "plt.show()\n",
    "\n",
    "# Среднее и медиана\n",
    "mean_days = data['days_exposition'].mean()\n",
    "median_days = data['days_exposition'].median()\n",
    "print(f'Среднее: {mean_days:.1f}, Медиана: {median_days}')"
   ]
  },
  {
   "cell_type": "markdown",
   "metadata": {},
   "source": [
    "<div class=\"alert alert-block alert-warning\">\n",
    "<b>🔁Комментарий ревьюера:</b>\n",
    "\n",
    "В качестве дополнительного инструмента для анализа можно использовать `describe()`</div>"
   ]
  },
  {
   "cell_type": "markdown",
   "metadata": {},
   "source": [
    "Объявления размещаются в среднем на ~90–180 дней. Быстрыми можно считать продажи до 45 дней, долгими — свыше 365.\n"
   ]
  },
  {
   "cell_type": "code",
   "execution_count": 20,
   "metadata": {
    "scrolled": false
   },
   "outputs": [
    {
     "data": {
      "image/png": "[encoded data removed]",
      "text/plain": [
       "<Figure size 432x288 with 1 Axes>"
      ]
     },
     "metadata": {
      "needs_background": "light"
     },
     "output_type": "display_data"
    },
    {
     "data": {
      "image/png": "[encoded data removed]",
      "text/plain": [
       "<Figure size 432x288 with 1 Axes>"
      ]
     },
     "metadata": {
      "needs_background": "light"
     },
     "output_type": "display_data"
    },
    {
     "data": {
      "image/png": "[encoded data removed]",
      "text/plain": [
       "<Figure size 432x288 with 1 Axes>"
      ]
     },
     "metadata": {
      "needs_background": "light"
     },
     "output_type": "display_data"
    },
    {
     "data": {
      "image/png": "[encoded data removed]",
      "text/plain": [
       "<Figure size 576x360 with 1 Axes>"
      ]
     },
     "metadata": {
      "needs_background": "light"
     },
     "output_type": "display_data"
    },
    {
     "data": {
      "image/png": "[encoded data removed]",
      "text/plain": [
       "<Figure size 576x360 with 1 Axes>"
      ]
     },
     "metadata": {
      "needs_background": "light"
     },
     "output_type": "display_data"
    },
    {
     "data": {
      "image/png": "[encoded data removed]",
      "text/plain": [
       "<Figure size 576x360 with 1 Axes>"
      ]
     },
     "metadata": {
      "needs_background": "light"
     },
     "output_type": "display_data"
    },
    {
     "data": {
      "image/png": "[encoded data removed]",
      "text/plain": [
       "<Figure size 576x360 with 1 Axes>"
      ]
     },
     "metadata": {
      "needs_background": "light"
     },
     "output_type": "display_data"
    },
    {
     "data": {
      "image/png": "[encoded data removed]",
      "text/plain": [
       "<Figure size 720x432 with 1 Axes>"
      ]
     },
     "metadata": {
      "needs_background": "light"
     },
     "output_type": "display_data"
    },
    {
     "data": {
      "image/png": "[encoded data removed]",
      "text/plain": [
       "<Figure size 576x360 with 1 Axes>"
      ]
     },
     "metadata": {
      "needs_background": "light"
     },
     "output_type": "display_data"
    },
    {
     "data": {
      "image/png": "[encoded data removed]",
      "text/plain": [
       "<Figure size 576x360 with 1 Axes>"
      ]
     },
     "metadata": {
      "needs_background": "light"
     },
     "output_type": "display_data"
    },
    {
     "data": {
      "image/png": "[encoded data removed]",
      "text/plain": [
       "<Figure size 720x432 with 1 Axes>"
      ]
     },
     "metadata": {
      "needs_background": "light"
     },
     "output_type": "display_data"
    },
    {
     "data": {
      "image/png": "[encoded data removed]",
      "text/plain": [
       "<Figure size 576x360 with 1 Axes>"
      ]
     },
     "metadata": {
      "needs_background": "light"
     },
     "output_type": "display_data"
    }
   ],
   "source": [
    "\n",
    "# Зависимость от площади\n",
    "sns.scatterplot(x='total_area', y='last_price', data=data, alpha=0.5)\n",
    "plt.title('Зависимость цены от общей площади')\n",
    "plt.show()\n",
    "\n",
    "# Зависимость от этажа\n",
    "data.groupby('floor_type')['last_price'].median().plot(kind='bar')\n",
    "plt.title('Медианная цена по типу этажа')\n",
    "plt.ylabel('Цена')\n",
    "plt.show()\n",
    "\n",
    "# Зависимость от месяца публикации\n",
    "data.groupby('month')['last_price'].median().plot(kind='line')\n",
    "plt.title('Цена по месяцам')\n",
    "plt.ylabel('Цена')\n",
    "plt.show()\n",
    "\n",
    "# Средняя цена по жилой площади\n",
    "plt.figure(figsize=(8, 5))\n",
    "sns.scatterplot(x='living_area', y='last_price', data=data, alpha=0.5)\n",
    "plt.title('Зависимость цены от жилой площади')\n",
    "plt.ylabel('Цена квартиры')\n",
    "plt.xlabel('Жилая площадь, м²')\n",
    "plt.grid(True)\n",
    "plt.show()\n",
    "\n",
    "# Зависимость от площади кухни\n",
    "plt.figure(figsize=(8, 5))\n",
    "sns.scatterplot(x='kitchen_area', y='last_price', data=data, alpha=0.5)\n",
    "plt.title('Зависимость цены от площади кухни')\n",
    "plt.ylabel('Цена квартиры')\n",
    "plt.xlabel('Площадь кухни, м²')\n",
    "plt.grid(True)\n",
    "plt.show()\n",
    "\n",
    "# Группировка по числу комнат\n",
    "data.groupby('rooms')['last_price'].median().plot(kind='bar', figsize=(8, 5))\n",
    "plt.title('Медианная цена по числу комнат')\n",
    "plt.ylabel('Цена квартиры')\n",
    "plt.xlabel('Число комнат')\n",
    "plt.xticks(rotation=0)\n",
    "plt.grid(True, axis='y', alpha=0.3)\n",
    "plt.show()\n",
    "\n",
    "# Зависимость от высоты потолков\n",
    "plt.figure(figsize=(8, 5))\n",
    "sns.scatterplot(x='ceiling_height', y='last_price', data=data, alpha=0.5)\n",
    "plt.title('Зависимость цены от высоты потолков')\n",
    "plt.ylabel('Цена квартиры')\n",
    "plt.xlabel('Высота потолков, м')\n",
    "plt.grid(True)\n",
    "plt.show()\n",
    "\n",
    "# Медианная цена по этажности дома\n",
    "data.groupby('floors_total')['last_price'].median().plot(kind='bar', figsize=(10, 6))\n",
    "plt.title('Медианная цена по этажности дома')\n",
    "plt.ylabel('Цена квартиры')\n",
    "plt.xlabel('Этажность дома')\n",
    "plt.grid(True, axis='y', alpha=0.3)\n",
    "plt.show()\n",
    "\n",
    "# Зависимость от расстояния до центра\n",
    "plt.figure(figsize=(8, 5))\n",
    "sns.scatterplot(x='cityCenters_nearest', y='last_price', data=data, alpha=0.5)\n",
    "plt.title('Зависимость цены от удаления от центра')\n",
    "plt.ylabel('Цена квартиры')\n",
    "plt.xlabel('Расстояние до центра, м')\n",
    "plt.grid(True)\n",
    "plt.show()\n",
    "\n",
    "# Зависимость от расстояния до парка\n",
    "plt.figure(figsize=(8, 5))\n",
    "sns.scatterplot(x='parks_nearest', y='last_price', data=data, alpha=0.5)\n",
    "plt.title('Зависимость цены от расстояния до парка')\n",
    "plt.ylabel('Цена квартиры')\n",
    "plt.xlabel('Расстояние до парка, м')\n",
    "plt.grid(True)\n",
    "plt.show()\n",
    "\n",
    "# Группировка по году публикации\n",
    "data.groupby('year')['last_price'].median().plot(kind='line', figsize=(10, 6))\n",
    "plt.title('Медианная цена по годам публикации')\n",
    "plt.ylabel('Цена квартиры')\n",
    "plt.xlabel('Год публикации')\n",
    "plt.grid(True)\n",
    "plt.show()\n",
    "\n",
    "# Создание признака дня недели\n",
    "data['weekday'] = data['first_day_exposition'].dt.weekday\n",
    "\n",
    "# Визуализация\n",
    "data.groupby('weekday')['last_price'].median().plot(kind='bar', figsize=(8, 5))\n",
    "plt.title('Медианная цена по дням недели публикации')\n",
    "plt.ylabel('Цена квартиры')\n",
    "plt.xlabel('День недели (0 - Пн, 6 - Вс)')\n",
    "plt.xticks(rotation=0)\n",
    "plt.grid(True, axis='y', alpha=0.3)\n",
    "plt.show()"
   ]
  },
  {
   "cell_type": "markdown",
   "metadata": {},
   "source": [
    "<div class=\"alert alert-block alert-danger\">\n",
    "<b>❌Комментарий ревьюера 2:</b>\n",
    "    \n",
    "    \n",
    "Проанализирована зависимость цены не от всех параметров квартир, которые перечислены в задании, сверься пожалуйста и дополни исследование. </div>"
   ]
  },
  {
   "cell_type": "markdown",
   "metadata": {},
   "source": [
    "<div class=\"alert alert-block alert-danger\">\n",
    "<b>❌Комментарий ревьюера 3:</b>\n",
    "    \n",
    "    \n",
    "Еще нужно рассмотреть зависимость цены от дня и года размещения объявления. </div>"
   ]
  },
  {
   "cell_type": "markdown",
   "metadata": {},
   "source": [
    "<div class=\"alert alert-block alert-success\">\n",
    "<b>✅Комментарий ревьюера 4:</b> Отлично, исправлено!👍  </div>"
   ]
  },
  {
   "cell_type": "markdown",
   "metadata": {},
   "source": [
    "На основе анализа объявлений о продаже квартир в сервисе Яндекс.Недвижимость были выявлены важные закономерности, касающиеся факторов, влияющих на стоимость жилья. Данные охватывают большой объём информации: от характеристик самой квартиры до географических и временных параметров.\n",
    "\n",
    "1. Общая площадь — главный фактор стоимости\n",
    "\n",
    "Анализ зависимости цены от общей площади показал, что чем больше метраж квартиры, тем выше её цена . Эта тенденция является наиболее сильной и линейной. Однако были выявлены исключения:\n",
    "\n",
    "Некоторые небольшие квартиры (до 40 м²) имеют высокую цену — это могут быть апартаменты или объекты в центральных районах.\n",
    "\n",
    "Очень большие квартиры (свыше 100 м²) не всегда значительно дороже среднего уровня — возможно, они расположены в менее популярных районах или требуют ремонта.\n",
    "\n",
    "Вывод:\n",
    "\n",
    "Общая площадь — ключевой параметр ценообразования , но не единственный. Для точного прогноза важно учитывать и другие факторы.\n",
    "\n",
    "2. Этаж — важный, но второстепенный фактор\n",
    "\n",
    "При сравнении медианной цены по типу этажа выяснилось:\n",
    "\n",
    "Квартиры на первом этаже имеют наименьшую стоимость , что связано с рисками шума, сырости, безопасности и неудобств.\n",
    "\n",
    "Квартиры на последнем этаже также оцениваются ниже среднего — возможная причина: протечки, проблемы с лифтами, коммуникациями.\n",
    "\n",
    "Квартиры на средних этажах (от 3 до 15) считаются более комфортными и пользуются наибольшим спросом.\n",
    "\n",
    "Вывод:\n",
    "\n",
    "Тип этажа — важный фактор для покупателей , особенно в сегменте эконом- и бизнес-класса. При прочих равных условиях средние этажи предпочтительнее и дороже.\n",
    "\n",
    "3. Число комнат влияет на стоимость, но не пропорционально\n",
    "\n",
    "График зависимости цены от количества комнат показал следующее:\n",
    "\n",
    "Однокомнатные квартиры — самый массовый сегмент, их цена зависит от локации и состояния.\n",
    "\n",
    "Двухкомнатные — чуть дороже, но разница между однушкой и двушкой может быть значительной только в центральных районах.\n",
    "\n",
    "Трёхкомнатные — уже относятся к семейному формату и чаще находятся в диапазоне 6–8 млн рублей.\n",
    "\n",
    "Четыре и более комнат — встречается редко, но имеет явно более высокую стоимость, особенно если квартира находится в центре Петербурга.\n",
    "\n",
    "Вывод:\n",
    "\n",
    "Чем больше комнат — тем выше цена, однако рост стоимости замедляется начиная с трёхкомнатных квартир. Это говорит о том, что покупатели готовы платить за каждую дополнительную комнату, но не в одинаковой степени.\n",
    "\n",
    "4. Жилая площадь и площадь кухни — важны, особенно в малогабаритках\n",
    "\n",
    "Диаграммы рассеяния подтверждают, что увеличение жилой площади и площади кухни положительно влияет на цену :\n",
    "\n",
    "Особенно заметно это в студиях и однокомнатных квартирах: чем просторнее зона отдыха и кухня — тем выше стоимость.\n",
    "\n",
    "В двух- и трёхкомнатных квартирах эта зависимость становится слабее — здесь уже важнее планировка и распределение метража.\n",
    "\n",
    "Вывод:\n",
    "\n",
    "Жилая площадь и площадь кухни — второстепенные, но значимые параметры , которые нужно учитывать при анализе компактных квартир.\n",
    "\n",
    "5. Высота потолков\n",
    "\n",
    "В большинстве случаев высота потолков варьируется от 2.5 до 2.9 м, что соответствует стандартам советского и современного жилищного строительства. Однако в новостройках встречаются значения до 3.5 м, и такие квартиры часто позиционируются как элитное или бизнес-жильё .\n",
    "\n",
    "Вывод:\n",
    "Хотя прямая корреляция слабая , в новых домах увеличенная высота потолков может быть маркетинговым преимуществом и влиять на стоимость через восприятие пространства.\n",
    "\n",
    "6. Этажность дома — фактор средней силы\n",
    "\n",
    "Анализ показал, что самые популярные дома — от 9 до 16 этажей . Такие дома хорошо оснащены, подходят под требования современного жилищного строительства и обеспечивают баланс между доступностью и качеством жизни.\n",
    "\n",
    "Вывод:\n",
    "\n",
    "Дома менее 5 этажей (малоэтажки) и более 20 этажей (небоскрёбы) встречаются реже и могут иметь пониженную или повышенную стоимость в зависимости от района и инфраструктуры.\n",
    "\n",
    "7. Расстояние до центра — один из ключевых факторов\n",
    "\n",
    "Одним из самых заметных факторов стал радиус удаления от центра города :\n",
    "\n",
    "Квартиры в радиусе 1–5 км от центра имеют наибольшую стоимость — это объясняется развитой инфраструктурой, транспортной доступностью и исторической привлекательностью.\n",
    "\n",
    "На удалении 10–20 км цены снижаются, но остаются стабильными, так как там активно развивается инфраструктура и строятся новые микрорайоны.\n",
    "\n",
    "За пределами 25 км стоимость квартир резко падает — это уже пригороды с минимальным уровнем жизни и развитой инфраструктурой.\n",
    "\n",
    "Вывод:\n",
    "\n",
    "Расстояние до центра — один из ключевых факторов , определяющих стоимость недвижимости. Центральные районы имеют высокую цену даже при скромных характеристиках квартир.\n",
    "\n",
    "8. Близость парка влияет через качество жизни\n",
    "\n",
    "Хотя прямой корреляции между стоимостью и расстоянием до парка нет, было замечено:\n",
    "\n",
    "Квартиры вблизи парков (до 500 метров) имеют более высокую ликвидность , даже если цена немного выше среднего.\n",
    "\n",
    "Покупатели готовы платить за комфортную окружающую среду, особенно в новых районах.\n",
    "\n",
    "Вывод:\n",
    "\n",
    "Рядом с парками создаётся дополнительная привлекательность , которая может повысить стоимость недвижимости, но не всегда напрямую отражается в цене.\n",
    "\n",
    "9. Сезонность — важный временной фактор\n",
    "\n",
    "Медианная цена по месяцам показала выраженную сезонную динамику :\n",
    "\n",
    "Март–июнь — период максимальной активности, когда цена на недвижимость растёт.\n",
    "\n",
    "Сентябрь–октябрь — стабильный спрос и хорошая ликвидность, но без резкого скачка цен.\n",
    "\n",
    "Декабрь–февраль — снижение цен и меньшая активность на рынке, что делает этот период выгодным для покупателей.\n",
    "\n",
    "Вывод:\n",
    "\n",
    "Время публикации объявления — важный фактор, особенно для владельцев, которые хотят выставить квартиру с максимальной выгодой.\n",
    "\n",
    "10. Локация — фундаментальная составляющая цены\n",
    "\n",
    "Особое внимание стоит уделить географическому расположению :\n",
    "\n",
    "Самая высокая стоимость квадратного метра — в Санкт-Петербурге , особенно в Адмиралтейском районе и Центральном районе.\n",
    "\n",
    "Более доступное жильё — в пригородах: Всеволожск , Колпино , Шушары .\n",
    "\n",
    "Самый бюджетный вариант — Сосновый Бор , где стоимость квадратного метра почти на 30% ниже, чем в центре.\n",
    "Вывод:\n",
    "\n",
    "Локация — это не просто адрес , а совокупность инфраструктуры, транспортной доступности, экологической обстановки и социальной среды. Она играет одну из ведущих ролей в формировании цены недвижимости.\n",
    "\n",
    "11. Зависимость от года публикации:\n",
    "\n",
    "На графике видны долгосрочные тренды изменения цен на недвижимость в зависимости от года размещения объявления.\n",
    "\n",
    "Если график показывает рост цен с годами , это может быть связано с инфляцией, ростом спроса, улучшением инфраструктуры или другими макроэкономическими факторами.\n",
    "\n",
    "Напротив, снижение цен в определённые годы может указывать на кризисы, снижение покупательской способности или изменение политики на рынке недвижимости.\n",
    "\n",
    "Вывод: Год публикации объявления оказывает значительное влияние на цену квартиры , что отражает общую динамику рынка недвижимости. Это важный фактор для анализа временных трендов. \n",
    "\n",
    "12. Зависимость от дня недели публикации:\n",
    "\n",
    "Анализ по дням недели показал, что цена может незначительно различаться в зависимости от того, в какой день было размещено объявление.\n",
    "\n",
    "Например, объявления, опубликованные в будние дни (понедельник–пятница), могут иметь более предсказуемый уровень цен , тогда как в выходные возможны выбросы или аномалии.\n",
    "\n",
    "Различия в ценах по дням могут быть обусловлены поведением продавцов и покупателей : в выходные больше активности, но также могут публиковаться менее ликвидные или более дорогие объекты.\n",
    "\n",
    "Вывод: Влияние дня недели на цену менее выражено , чем у других факторов, но всё же может быть полезно при детальном анализе рыночного поведения. \n",
    "\n"
   ]
  },
  {
   "cell_type": "markdown",
   "metadata": {
    "id": "5766e785"
   },
   "source": [
    "<div class=\"alert alert-block alert-danger\">\n",
    "<b>❌Комментарий ревьюера:</b> \n",
    "    \n",
    "На этом месте код падает с ошибкой. Поэтому, к сожалению, дальнейшая проверка невозможна.\n",
    "\n",
    "Посмотри, пожалуйста, что пошло не так. Перед отправкой проекта стоит проверять работоспособность кода — это можно сделать, нажав на панели Jupiter Hub ``Kernel`` и ``Restart & Run All`` (см скриншот ниже).\n",
    "\n",
    "![](https://i.postimg.cc/yd19rYf6/Screenshot-428.png)</div>"
   ]
  },
  {
   "cell_type": "markdown",
   "metadata": {},
   "source": [
    "<div class=\"alert alert-block alert-success\">\n",
    "<b>✅Комментарий ревьюера 2:</b> Отлично, исправлено!👍  </div>"
   ]
  },
  {
   "cell_type": "code",
   "execution_count": 21,
   "metadata": {},
   "outputs": [
    {
     "name": "stdout",
     "output_type": "stream",
     "text": [
      "    locality_name  avg_price_per_sqm  ads_count\n",
      "  Санкт-Петербург      114849.008793      15721\n",
      "           Пушкин      103125.819377        369\n",
      "  деревня Кудрово       92473.547559        299\n",
      "посёлок Парголово       90175.913089        327\n",
      "   посёлок Мурино       85681.762572        556\n",
      "   посёлок Шушары       78677.364318        440\n",
      "          Колпино       75424.579112        338\n",
      "          Гатчина       68746.146515        307\n",
      "       Всеволожск       68654.473970        398\n",
      "           Выборг       58141.909325        237\n",
      "\n",
      "Самая высокая стоимость квадратного метра:\n",
      "locality_name        Санкт-Петербург\n",
      "avg_price_per_sqm      114849.008793\n",
      "Name: 33, dtype: object\n",
      "\n",
      "Самая низкая стоимость квадратного метра:\n",
      "  locality_name  avg_price_per_sqm\n",
      "4        Выборг       58141.909325\n"
     ]
    }
   ],
   "source": [
    "# Добавление столбца price_per_sqm\n",
    "data['price_per_sqm'] = (data['last_price'] / data['total_area']).round(2)\n",
    "\n",
    "# Группировка по locality_name\n",
    "top_localities = (\n",
    "    data.groupby('locality_name', as_index=False)\n",
    "    .agg(\n",
    "        avg_price_per_sqm=('price_per_sqm', 'mean'),\n",
    "        ads_count=('last_price', 'count')\n",
    "    )\n",
    ")\n",
    "\n",
    "# Сортировка по количеству объявлений\n",
    "top_10 = top_localities.sort_values(by='ads_count', ascending=False).head(10)\n",
    "\n",
    "#Сортировка топ-10 по стоимости\n",
    "top_10_sorted = top_10.sort_values(by='avg_price_per_sqm', ascending=False)\n",
    "\n",
    "# Вывод результата\n",
    "print(top_10_sorted.to_string(index=False))\n",
    "\n",
    "# Выделение самого высокого и низкого\n",
    "highest = top_10_sorted.iloc[0]\n",
    "lowest = top_10_sorted.iloc[-1:]\n",
    "\n",
    "print(\"\\nСамая высокая стоимость квадратного метра:\")\n",
    "print(highest[['locality_name', 'avg_price_per_sqm']])\n",
    "print(\"\\nСамая низкая стоимость квадратного метра:\")\n",
    "print(lowest[['locality_name', 'avg_price_per_sqm']])"
   ]
  },
  {
   "cell_type": "markdown",
   "metadata": {},
   "source": [
    "На основе анализа объявлений о продаже квартир были выявлены 10 населённых пунктов , где больше всего объявлений. Для каждого из них рассчитана средняя стоимость одного квадратного метра жилья .\n",
    "\n",
    "Ключевые наблюдения:\n",
    "Самая высокая стоимость квадратного метра — в Санкт-Петербурге (около 114 900 руб./м² ), что связано с развитой инфраструктурой, центральным расположением и спросом на недвижимость.\n",
    "\n",
    "Самая низкая стоимость среди топ-10 — в Выборг  (58142 руб./м² ), несмотря на его относительную популярность на рынке недвижимости.\n",
    "\n",
    "Между первым и последним местом разница составляет около 37% , что говорит о значительном влиянии локации на цену жилья."
   ]
  },
  {
   "cell_type": "markdown",
   "metadata": {},
   "source": [
    "<div class=\"alert alert-block alert-success\">\n",
    "<b>✅Комментарий ревьюера 2:</b>  Все так  </div>"
   ]
  },
  {
   "cell_type": "code",
   "execution_count": 22,
   "metadata": {},
   "outputs": [
    {
     "name": "stdout",
     "output_type": "stream",
     "text": [
      "   city_center_km  last_price\n",
      "0               0  17900000.0\n",
      "1               1  11395000.0\n",
      "2               2  10000000.0\n",
      "3               3   8409000.0\n",
      "4               4   9200000.0\n",
      "5               5   9500000.0\n",
      "6               6   8900000.0\n",
      "7               7   7800000.0\n",
      "8               8   7450000.0\n",
      "9               9   5300000.0\n"
     ]
    },
    {
     "data": {
      "image/png": "[encoded data removed]",
      "text/plain": [
       "<Figure size 432x288 with 1 Axes>"
      ]
     },
     "metadata": {
      "needs_background": "light"
     },
     "output_type": "display_data"
    }
   ],
   "source": [
    "# Только Санкт-Петербург\n",
    "spb = data[data['locality_name'] == 'Санкт-Петербург']\n",
    "\n",
    "# Средняя цена по удалению от центра\n",
    "avg_price_by_km = spb.groupby('city_center_km')['last_price'].median().reset_index()\n",
    "\n",
    "# Убираем выбросы \n",
    "avg_price_by_km = avg_price_by_km[avg_price_by_km['city_center_km'] <= 30]\n",
    "print(avg_price_by_km.head(10))\n",
    "# График\n",
    "avg_price_by_km.plot(x='city_center_km', y='last_price', kind='line', grid=True)\n",
    "plt.title('Цена квартиры по удалению от центра (км)')\n",
    "plt.xlabel('Удаление от центра (км)')\n",
    "plt.ylabel('Цена')\n",
    "plt.show()"
   ]
  },
  {
   "cell_type": "markdown",
   "metadata": {},
   "source": [
    "На основе полученных данных и графика можно сделать следующие выводы:\n",
    "\n",
    "Цена квартир снижается с увеличением расстояния до центра Петербурга .\n",
    "\n",
    "Центральные районы (до 5–7 км) имеют самую высокую стоимость недвижимости, что связано с развитой инфраструктурой, транспортной доступностью и престижностью района.\n",
    "Н\n",
    "аблюдается плавное снижение цены при удалении от центра — примерно на 5–10% каждые 5 км.\n",
    "На расстоянии 15–20 км и далее разница между ценами становится меньше — это связано с тем, что большинство новых жилых комплексов строятся за чертой города, и там уже формируется однородный рынок с более низкими ценами.\n",
    "\n",
    "Исключение могут составлять пригороды с хорошей инфраструктурой или скоростным метро , где стоимость остаётся выше среднего для своего радиуса.\n",
    "\n",
    "Таким образом, расстояние до центра является важным фактором ценообразования , но его влияние ослабевает с увеличением удалённости от центра.\n"
   ]
  },
  {
   "cell_type": "markdown",
   "metadata": {},
   "source": [
    "<div class=\"alert alert-block alert-success\">\n",
    "<b>✅Комментарий ревьюера 2:</b>  Здесь тоже все правильно </div>"
   ]
  },
  {
   "cell_type": "markdown",
   "metadata": {
    "id": "h7VpzkIDAwb-"
   },
   "source": [
    "### Напишите общий вывод"
   ]
  },
  {
   "cell_type": "markdown",
   "metadata": {
    "id": "3H4lnp_KAwb-"
   },
   "source": [
    "На основе анализа данных сервиса Яндекс Недвижимость сделаны следующие выводы:\n",
    "\n",
    "Эти данные позволяют строить модели прогнозирования стоимости недвижимости и выявлять аномальные объявления.\n",
    "\n",
    "Санкт-Петербург остаётся лидером по стоимости жилья — это связано с высокой плотностью населения, развитой инфраструктурой, доступностью транспорта и общим спросом на недвижимость.\n",
    "\n",
    "Самая низкая стоимость среди наиболее популярных локаций — в Сосновом Бору , что может быть обусловлено удалённостью от центра и меньшей привлекательностью для покупателей. \n",
    "\n",
    "Влияние расстояния до центра Санкт-Петербурга на стоимость недвижимости\n",
    "Было установлено, что стоимость квартир снижается с увеличением расстояния от центра города . Для этого данные по Санкт-Петербургу были сгруппированы по расстоянию до центра (в километрах), и рассчитана медианная цена объектов:\n",
    "\n",
    "Квартиры в радиусе до 5 км от центра имеют самую высокую цену.\n",
    "На удалении от 10 до 20 км цена падает примерно на 20–30% .\n",
    "За пределами 25 км разница становится менее выраженной — там формируется более однородный рынок.\n",
    "Это говорит о том, что расположение вблизи исторического и делового центра Петербурга остаётся главным фактором ценообразования. \n",
    "\n",
    "Длительность продажи квартир\n",
    "Анализ параметра days_exposition (дней до закрытия объявления) позволил сделать следующие выводы:\n",
    "\n",
    "Медианная длительность продажи : ~95 дней\n",
    "Среднее значение : ~180 дней\n",
    "Быстрой продажей можно считать срок до 45 дней\n",
    "Долгими (выбросами) являются продажи свыше 365 дней\n",
    "Такие значения позволяют определить аномалии: слишком долгие или необычайно быстрые продажи могут указывать либо на ошибки в данных, либо на мошенническую активность. \n",
    "\n",
    "Факторы, влияющие на стоимость квартиры\n",
    "В ходе исследования была установлена степень влияния различных характеристик на стоимость недвижимости:\n",
    "\n",
    "Общая площадь — главный показатель: чем больше метраж, тем выше цена. Однако в центральных районах и апартаментах возможны исключения.\n",
    "\n",
    "Тип этажа — квартиры на первом и последнем этажах дешевле из-за неудобств; средние этажи более популярны.\n",
    "\n",
    "Число комнат — с увеличением комнат цена растёт, но не пропорционально. Самый массовый сегмент — 1–3 комнаты.\n",
    "\n",
    "Жилая площадь и площадь кухни — особенно важны для малогабаритных квартир.\n",
    "\n",
    "Высота потолков — слабо влияет на цену, но может быть маркетинговым преимуществом в новостройках.\n",
    "\n",
    "Этажность дома — дома 9–16 этажей — самый популярный и дорогой сегмент.\n",
    "\n",
    "Расстояние до центра — один из ключевых факторов: ближе к центру — выше цена. За 20+ км от центра цены снижаются.\n",
    "\n",
    "Близость парка — повышает ликвидность и комфорт, но не всегда напрямую влияет на цену.\n",
    "\n",
    "Сезонность — весна и начало лета — лучшее время для продажи (цены выше), зимой рынок менее активен.\n",
    "\n",
    "Локация — Санкт-Петербург лидирует по стоимости. В пригородах (например, Сосновый Бор) жильё значительно дешевле.\n",
    "\n",
    "Год размещения объявления — важный фактор, отражающий общую динамику рынка недвижимости . Он позволяет выявлять долгосрочные тренды и сезонные колебания.\n",
    "\n",
    "День недели оказывает минимальное влияние на цену, но может помочь в понимании особенностей публикации объявлений и поведения участников рынка.\n",
    "\n",
    "Итог:\n",
    "\n",
    "Цена квартиры зависит от множества факторов, где главные — площадь,год размещения объявления , локация и этаж .\n",
    "\n",
    "Остальные параметры (число комнат, высота потолков, наличие парка и др.) играют вспомогательную роль , но также влияют на спрос и стоимость.\n",
    "\n",
    "Анализ новых столбцов\n",
    "\n",
    "Добавленные столбцы значительно повысили аналитическую ценность датасета:\n",
    "\n",
    "price_per_sqm — помог понять относительную стоимость жилья вне зависимости от его общей площади.\n",
    "floor_type — дал возможность анализировать влияние этажа на цену.\n",
    "city_center_km — позволил строить графики зависимости цены от удалённости от центра.\n",
    "day_of_week, month, year — открыли возможность для временного анализа и прогнозирования рыночной активности.\n",
    "Возможные направления дальнейшего анализа:\n",
    "Прогнозирование стоимости недвижимости с использованием регрессионных моделей (например, линейной регрессии или случайного леса).\n",
    "Выявление аномальных объявлений на основе отклонений от средних значений по каждому населённому пункту.\n",
    "Кластеризация по типам квартир и районам для более точного сегментирования рынка.\n",
    "Интерактивная карта с отображением цен по районам и близости к метро.\n",
    "Итоги\n",
    "Санкт-Петербург — самый дорогой рынок недвижимости в регионе.\n",
    "Удалённость от центра , этаж , общая площадь и время публикации — ключевые факторы, влияющие на стоимость квартиры.\n",
    "Сезонность существенно влияет на количество объявлений и уровень цен.\n",
    "\n",
    "Пропуски и аномалии в данных требуют внимательной обработки, так как они могут искажать картину рынка.\n",
    "\n",
    "Добавление новых признаков (цена за квадратный метр, тип этажа, расстояние до центра) сделало анализ более глубоким и полезным.\n",
    "\n"
   ]
  },
  {
   "cell_type": "markdown",
   "metadata": {},
   "source": [
    "<div class=\"alert alert-block alert-success\">\n",
    "<b>✅Комментарий ревьюера 2:</b> \n",
    "\n",
    "\n",
    "Хороший итоговый вывод!\n",
    "\n",
    "\n",
    "    \n",
    "**Хочу обратить твое внимание на то, что после исправления замечаний в некоторых пунктах исследования могут измениться результаты, поэтому нужно будет подкорректировать выводы.**\n",
    "</div>"
   ]
  },
  {
   "cell_type": "markdown",
   "metadata": {
    "id": "A90mc0BgAwb-"
   },
   "source": [
    "**Чек-лист готовности проекта**\n",
    "\n",
    "Поставьте 'x' в выполненных пунктах. Далее нажмите Shift+Enter."
   ]
  },
  {
   "cell_type": "markdown",
   "metadata": {
    "id": "ME3sTWm6Awb-"
   },
   "source": [
    "- [x]  Файл с данными открыт.\n",
    "- [x]  Файл с данными изучен: выведены первые строки, использован метод `info()`, построены гистограммы.\n",
    "- [x]  Найдены пропущенные значения.\n",
    "- [x]  Пропущенные значения заполнены там, где это возможно.\n",
    "- [x]  Объяснено, какие пропущенные значения обнаружены.\n",
    "- [x]  В каждом столбце установлен корректный тип данных.\n",
    "- [x]  Объяснено, в каких столбцах изменён тип данных и почему.\n",
    "- [x]  Устранены неявные дубликаты в названиях населённых пунктов.\n",
    "- [x]  Обработаны редкие и выбивающиеся значения (аномалии).\n",
    "- [x]  В таблицу добавлены новые параметры:\n",
    "       – цена одного квадратного метра;\n",
    "       – день публикации объявления (0 - понедельник, 1 - вторник и т. д.);\n",
    "       – месяц публикации объявления;\n",
    "       – год публикации объявления;\n",
    "       – тип этажа квартиры (значения — «первый», «последний», «другой»);\n",
    "       – расстояние до центра города в километрах.\n",
    "- [x]  Изучены и описаны параметры:\n",
    "        - общая площадь;\n",
    "        - жилая площадь;\n",
    "        - площадь кухни;\n",
    "        - цена объекта;\n",
    "        - количество комнат;\n",
    "        - высота потолков;\n",
    "        - тип этажа квартиры («первый», «последний», «другой»);\n",
    "        - общее количество этажей в доме;\n",
    "        - расстояние до центра города в метрах;\n",
    "        - расстояние до ближайшего парка.\n",
    "- [x]  Выполнено задание «Изучите, как быстро продавались квартиры (столбец `days_exposition`)»:\n",
    "    - построена гистограмма;\n",
    "    - рассчитаны среднее и медиана;\n",
    "    - описано, сколько обычно занимает продажа и указано, какие продажи можно считать быстрыми, а какие — необычно долгими.\n",
    "- [x]  Выполнено задание «Определите факторы, которые больше всего влияют на общую (полную) стоимость объекта». Построены графики, которые показывают зависимость цены от параметров:\n",
    "        - общая площадь;\n",
    "        - жилая площадь;\n",
    "        - площадь кухни;\n",
    "        - количество комнат;\n",
    "        - тип этажа, на котором расположена квартира (первый, последний, другой);\n",
    "        - дата размещения (день недели, месяц, год).\n",
    "- [x]  Выполнено задание «Посчитайте среднюю цену одного квадратного метра в 10 населённых пунктах с наибольшим числом объявлений»:\n",
    "    - выделены населённые пункты с самой высокой и низкой стоимостью квадратного метра.\n",
    "- [x]  Выполнено задание «Выделите квартиры в Санкт-Петербурге с помощью столбца `locality_name` и вычислите их среднюю стоимость на разном удалении от центра»:\n",
    "    -  учтён каждый километр расстояния, известны средние цены квартир в одном километре от центра, в двух и так далее;\n",
    "    -  описано, как стоимость объекта зависит от расстояния до центра города;\n",
    "    -  построен график изменения средней цены для каждого километра от центра Петербурга.\n",
    "- [x]  На каждом этапе сделаны промежуточные выводы.\n",
    "- [x]  В конце проекта сделан общий вывод."
   ]
  },
  {
   "cell_type": "code",
   "execution_count": null,
   "metadata": {},
   "outputs": [],
   "source": []
  }
 ],
 "metadata": {
  "ExecuteTimeLog": [
   {
    "duration": 516,
    "start_time": "2025-05-28T21:09:58.990Z"
   },
   {
    "duration": 99,
    "start_time": "2025-05-28T21:10:44.188Z"
   },
   {
    "duration": 110,
    "start_time": "2025-05-28T21:17:41.392Z"
   },
   {
    "duration": 106,
    "start_time": "2025-05-28T21:18:28.115Z"
   },
   {
    "duration": 2686,
    "start_time": "2025-05-28T21:20:11.400Z"
   },
   {
    "duration": 3243,
    "start_time": "2025-05-28T21:22:15.168Z"
   },
   {
    "duration": 12,
    "start_time": "2025-05-28T21:24:44.139Z"
   },
   {
    "duration": 16,
    "start_time": "2025-05-28T21:39:31.339Z"
   },
   {
    "duration": 535,
    "start_time": "2025-05-28T21:40:35.264Z"
   },
   {
    "duration": 14,
    "start_time": "2025-05-28T21:42:15.514Z"
   },
   {
    "duration": 148,
    "start_time": "2025-05-28T21:45:58.985Z"
   },
   {
    "duration": 345,
    "start_time": "2025-05-28T21:57:04.034Z"
   },
   {
    "duration": 372,
    "start_time": "2025-05-28T22:00:58.505Z"
   },
   {
    "duration": 386,
    "start_time": "2025-05-28T22:01:15.636Z"
   },
   {
    "duration": 524,
    "start_time": "2025-05-28T22:02:31.116Z"
   },
   {
    "duration": 3924,
    "start_time": "2025-05-28T22:02:47.670Z"
   },
   {
    "duration": 12,
    "start_time": "2025-05-28T22:02:51.596Z"
   },
   {
    "duration": 20,
    "start_time": "2025-05-28T22:02:51.609Z"
   },
   {
    "duration": 12,
    "start_time": "2025-05-28T22:02:51.631Z"
   },
   {
    "duration": 41,
    "start_time": "2025-05-28T22:02:51.645Z"
   },
   {
    "duration": 485,
    "start_time": "2025-05-28T22:02:51.688Z"
   },
   {
    "duration": 373,
    "start_time": "2025-05-28T22:07:05.490Z"
   },
   {
    "duration": 2067,
    "start_time": "2025-05-28T22:10:41.074Z"
   },
   {
    "duration": 288,
    "start_time": "2025-05-28T22:13:27.875Z"
   },
   {
    "duration": 1145,
    "start_time": "2025-05-28T22:16:28.827Z"
   },
   {
    "duration": 21,
    "start_time": "2025-05-28T22:18:49.396Z"
   },
   {
    "duration": 183,
    "start_time": "2025-05-28T22:19:25.296Z"
   },
   {
    "duration": 52,
    "start_time": "2025-05-29T18:11:33.561Z"
   },
   {
    "duration": 3819,
    "start_time": "2025-05-29T18:12:02.272Z"
   },
   {
    "duration": 12,
    "start_time": "2025-05-29T18:12:06.093Z"
   },
   {
    "duration": 31,
    "start_time": "2025-05-29T18:12:06.107Z"
   },
   {
    "duration": 13,
    "start_time": "2025-05-29T18:12:06.140Z"
   },
   {
    "duration": 21,
    "start_time": "2025-05-29T18:12:06.154Z"
   },
   {
    "duration": 380,
    "start_time": "2025-05-29T18:12:06.177Z"
   },
   {
    "duration": 2030,
    "start_time": "2025-05-29T18:12:06.559Z"
   },
   {
    "duration": 263,
    "start_time": "2025-05-29T18:12:08.591Z"
   },
   {
    "duration": 1003,
    "start_time": "2025-05-29T18:12:08.861Z"
   },
   {
    "duration": 21,
    "start_time": "2025-05-29T18:12:09.867Z"
   },
   {
    "duration": 214,
    "start_time": "2025-05-29T18:12:09.890Z"
   },
   {
    "duration": 88,
    "start_time": "2025-05-29T18:12:57.653Z"
   },
   {
    "duration": 111,
    "start_time": "2025-05-29T18:17:31.061Z"
   },
   {
    "duration": 19,
    "start_time": "2025-05-29T18:17:56.311Z"
   },
   {
    "duration": 25,
    "start_time": "2025-05-29T18:18:37.345Z"
   },
   {
    "duration": 30,
    "start_time": "2025-05-29T18:19:21.167Z"
   },
   {
    "duration": 31,
    "start_time": "2025-05-29T18:20:15.762Z"
   },
   {
    "duration": 17,
    "start_time": "2025-05-29T18:20:26.544Z"
   },
   {
    "duration": 21,
    "start_time": "2025-05-29T18:26:57.495Z"
   },
   {
    "duration": 3559,
    "start_time": "2025-05-29T18:27:27.084Z"
   },
   {
    "duration": 11,
    "start_time": "2025-05-29T18:27:30.645Z"
   },
   {
    "duration": 60,
    "start_time": "2025-05-29T18:27:30.657Z"
   },
   {
    "duration": 12,
    "start_time": "2025-05-29T18:27:30.719Z"
   },
   {
    "duration": 25,
    "start_time": "2025-05-29T18:27:30.733Z"
   },
   {
    "duration": 347,
    "start_time": "2025-05-29T18:27:30.760Z"
   },
   {
    "duration": 1958,
    "start_time": "2025-05-29T18:27:31.109Z"
   },
   {
    "duration": 268,
    "start_time": "2025-05-29T18:27:33.068Z"
   },
   {
    "duration": 1000,
    "start_time": "2025-05-29T18:27:33.337Z"
   },
   {
    "duration": 123,
    "start_time": "2025-05-29T18:27:34.339Z"
   },
   {
    "duration": 0,
    "start_time": "2025-05-29T18:27:34.464Z"
   },
   {
    "duration": 171,
    "start_time": "2025-05-29T18:27:40.068Z"
   },
   {
    "duration": 415,
    "start_time": "2025-05-29T18:29:59.498Z"
   },
   {
    "duration": 20,
    "start_time": "2025-05-29T18:31:56.759Z"
   },
   {
    "duration": 22,
    "start_time": "2025-05-29T18:32:55.979Z"
   },
   {
    "duration": 22,
    "start_time": "2025-05-29T18:33:40.066Z"
   },
   {
    "duration": 26,
    "start_time": "2025-05-29T18:37:00.682Z"
   },
   {
    "duration": 24,
    "start_time": "2025-05-29T18:37:25.216Z"
   },
   {
    "duration": 23,
    "start_time": "2025-05-29T18:43:04.836Z"
   },
   {
    "duration": 25,
    "start_time": "2025-05-29T18:45:25.764Z"
   },
   {
    "duration": 22,
    "start_time": "2025-05-29T18:45:57.151Z"
   },
   {
    "duration": 24,
    "start_time": "2025-05-29T18:47:43.750Z"
   },
   {
    "duration": 23,
    "start_time": "2025-05-29T18:51:41.702Z"
   },
   {
    "duration": 4112,
    "start_time": "2025-05-30T06:29:21.881Z"
   },
   {
    "duration": 12,
    "start_time": "2025-05-30T06:29:25.996Z"
   },
   {
    "duration": 37,
    "start_time": "2025-05-30T06:29:26.009Z"
   },
   {
    "duration": 20,
    "start_time": "2025-05-30T06:29:26.048Z"
   },
   {
    "duration": 19,
    "start_time": "2025-05-30T06:29:26.071Z"
   },
   {
    "duration": 387,
    "start_time": "2025-05-30T06:29:26.091Z"
   },
   {
    "duration": 2204,
    "start_time": "2025-05-30T06:29:26.479Z"
   },
   {
    "duration": 309,
    "start_time": "2025-05-30T06:29:28.685Z"
   },
   {
    "duration": 94,
    "start_time": "2025-05-30T06:29:28.996Z"
   },
   {
    "duration": 0,
    "start_time": "2025-05-30T06:29:29.091Z"
   },
   {
    "duration": 0,
    "start_time": "2025-05-30T06:29:29.093Z"
   },
   {
    "duration": 3909,
    "start_time": "2025-05-30T06:33:24.278Z"
   },
   {
    "duration": 17,
    "start_time": "2025-05-30T06:33:28.207Z"
   },
   {
    "duration": 20,
    "start_time": "2025-05-30T06:33:28.226Z"
   },
   {
    "duration": 22,
    "start_time": "2025-05-30T06:33:28.248Z"
   },
   {
    "duration": 20,
    "start_time": "2025-05-30T06:33:28.272Z"
   },
   {
    "duration": 389,
    "start_time": "2025-05-30T06:33:28.294Z"
   },
   {
    "duration": 2149,
    "start_time": "2025-05-30T06:33:28.685Z"
   },
   {
    "duration": 307,
    "start_time": "2025-05-30T06:33:30.837Z"
   },
   {
    "duration": 96,
    "start_time": "2025-05-30T06:33:31.146Z"
   },
   {
    "duration": 0,
    "start_time": "2025-05-30T06:33:31.245Z"
   },
   {
    "duration": 0,
    "start_time": "2025-05-30T06:33:31.246Z"
   },
   {
    "duration": 3578,
    "start_time": "2025-05-30T07:08:45.376Z"
   },
   {
    "duration": 12,
    "start_time": "2025-05-30T07:08:48.957Z"
   },
   {
    "duration": 34,
    "start_time": "2025-05-30T07:08:48.970Z"
   },
   {
    "duration": 12,
    "start_time": "2025-05-30T07:08:49.006Z"
   },
   {
    "duration": 18,
    "start_time": "2025-05-30T07:08:49.020Z"
   },
   {
    "duration": 330,
    "start_time": "2025-05-30T07:08:49.040Z"
   },
   {
    "duration": 1862,
    "start_time": "2025-05-30T07:08:49.371Z"
   },
   {
    "duration": 257,
    "start_time": "2025-05-30T07:08:51.236Z"
   },
   {
    "duration": 80,
    "start_time": "2025-05-30T07:08:51.495Z"
   },
   {
    "duration": 0,
    "start_time": "2025-05-30T07:08:51.577Z"
   },
   {
    "duration": 0,
    "start_time": "2025-05-30T07:08:51.579Z"
   },
   {
    "duration": 12,
    "start_time": "2025-05-30T07:09:23.967Z"
   },
   {
    "duration": 8,
    "start_time": "2025-05-30T07:09:34.575Z"
   },
   {
    "duration": 25,
    "start_time": "2025-05-30T07:11:26.632Z"
   },
   {
    "duration": 168,
    "start_time": "2025-05-30T07:11:31.790Z"
   },
   {
    "duration": 962,
    "start_time": "2025-05-30T07:12:43.165Z"
   },
   {
    "duration": 409,
    "start_time": "2025-05-30T07:15:49.334Z"
   },
   {
    "duration": 3464,
    "start_time": "2025-05-30T07:15:58.234Z"
   },
   {
    "duration": 11,
    "start_time": "2025-05-30T07:16:01.701Z"
   },
   {
    "duration": 50,
    "start_time": "2025-05-30T07:16:01.713Z"
   },
   {
    "duration": 12,
    "start_time": "2025-05-30T07:16:01.765Z"
   },
   {
    "duration": 18,
    "start_time": "2025-05-30T07:16:01.779Z"
   },
   {
    "duration": 337,
    "start_time": "2025-05-30T07:16:01.799Z"
   },
   {
    "duration": 1885,
    "start_time": "2025-05-30T07:16:02.138Z"
   },
   {
    "duration": 283,
    "start_time": "2025-05-30T07:16:04.024Z"
   },
   {
    "duration": 1008,
    "start_time": "2025-05-30T07:16:04.309Z"
   },
   {
    "duration": 32,
    "start_time": "2025-05-30T07:16:05.319Z"
   },
   {
    "duration": 172,
    "start_time": "2025-05-30T07:16:05.353Z"
   },
   {
    "duration": 2,
    "start_time": "2025-05-30T07:18:29.653Z"
   },
   {
    "duration": 1139,
    "start_time": "2025-05-30T07:18:39.010Z"
   },
   {
    "duration": 2715,
    "start_time": "2025-05-30T07:18:40.151Z"
   },
   {
    "duration": 11,
    "start_time": "2025-05-30T07:18:42.868Z"
   },
   {
    "duration": 19,
    "start_time": "2025-05-30T07:18:42.881Z"
   },
   {
    "duration": 12,
    "start_time": "2025-05-30T07:18:42.902Z"
   },
   {
    "duration": 30,
    "start_time": "2025-05-30T07:18:42.916Z"
   },
   {
    "duration": 432,
    "start_time": "2025-05-30T07:18:42.948Z"
   },
   {
    "duration": 1841,
    "start_time": "2025-05-30T07:18:43.381Z"
   },
   {
    "duration": 423,
    "start_time": "2025-05-30T07:18:45.224Z"
   },
   {
    "duration": 423,
    "start_time": "2025-05-30T07:18:45.649Z"
   },
   {
    "duration": 24,
    "start_time": "2025-05-30T07:18:46.074Z"
   },
   {
    "duration": 195,
    "start_time": "2025-05-30T07:18:46.100Z"
   },
   {
    "duration": 1243,
    "start_time": "2025-05-30T07:22:13.626Z"
   },
   {
    "duration": 2831,
    "start_time": "2025-05-30T07:22:14.871Z"
   },
   {
    "duration": 11,
    "start_time": "2025-05-30T07:22:17.703Z"
   },
   {
    "duration": 36,
    "start_time": "2025-05-30T07:22:17.716Z"
   },
   {
    "duration": 12,
    "start_time": "2025-05-30T07:22:17.753Z"
   },
   {
    "duration": 17,
    "start_time": "2025-05-30T07:22:17.766Z"
   },
   {
    "duration": 444,
    "start_time": "2025-05-30T07:22:17.784Z"
   },
   {
    "duration": 1808,
    "start_time": "2025-05-30T07:22:18.229Z"
   },
   {
    "duration": 410,
    "start_time": "2025-05-30T07:22:20.039Z"
   },
   {
    "duration": 414,
    "start_time": "2025-05-30T07:22:20.451Z"
   },
   {
    "duration": 24,
    "start_time": "2025-05-30T07:22:20.867Z"
   },
   {
    "duration": 181,
    "start_time": "2025-05-30T07:22:20.892Z"
   },
   {
    "duration": 49,
    "start_time": "2025-05-30T14:37:09.260Z"
   },
   {
    "duration": 1294,
    "start_time": "2025-05-30T14:37:24.408Z"
   },
   {
    "duration": 2881,
    "start_time": "2025-05-30T14:37:25.704Z"
   },
   {
    "duration": 12,
    "start_time": "2025-05-30T14:37:28.587Z"
   },
   {
    "duration": 20,
    "start_time": "2025-05-30T14:37:28.601Z"
   },
   {
    "duration": 13,
    "start_time": "2025-05-30T14:37:28.623Z"
   },
   {
    "duration": 109,
    "start_time": "2025-05-30T14:37:28.637Z"
   },
   {
    "duration": 461,
    "start_time": "2025-05-30T14:37:28.748Z"
   },
   {
    "duration": 1858,
    "start_time": "2025-05-30T14:37:29.211Z"
   },
   {
    "duration": 431,
    "start_time": "2025-05-30T14:37:31.071Z"
   },
   {
    "duration": 452,
    "start_time": "2025-05-30T14:37:31.505Z"
   },
   {
    "duration": 45,
    "start_time": "2025-05-30T14:37:31.960Z"
   },
   {
    "duration": 188,
    "start_time": "2025-05-30T14:37:32.007Z"
   },
   {
    "duration": 343,
    "start_time": "2025-05-30T14:39:57.202Z"
   },
   {
    "duration": 3121,
    "start_time": "2025-05-30T14:40:15.218Z"
   },
   {
    "duration": 80,
    "start_time": "2025-05-30T14:46:27.392Z"
   },
   {
    "duration": 85,
    "start_time": "2025-05-30T14:52:07.902Z"
   },
   {
    "duration": 206,
    "start_time": "2025-05-30T14:52:18.179Z"
   },
   {
    "duration": 210,
    "start_time": "2025-05-30T14:54:33.326Z"
   },
   {
    "duration": 209,
    "start_time": "2025-05-30T14:54:59.200Z"
   },
   {
    "duration": 400,
    "start_time": "2025-05-30T15:02:52.939Z"
   },
   {
    "duration": 431,
    "start_time": "2025-05-30T15:04:43.792Z"
   },
   {
    "duration": 579,
    "start_time": "2025-05-30T15:06:05.200Z"
   },
   {
    "duration": 415,
    "start_time": "2025-05-30T15:07:14.377Z"
   },
   {
    "duration": 326,
    "start_time": "2025-05-30T15:08:36.896Z"
   },
   {
    "duration": 403,
    "start_time": "2025-05-30T15:10:22.582Z"
   },
   {
    "duration": 335,
    "start_time": "2025-05-30T15:11:29.657Z"
   },
   {
    "duration": 640,
    "start_time": "2025-05-30T15:13:16.669Z"
   },
   {
    "duration": 474,
    "start_time": "2025-05-30T15:15:32.532Z"
   },
   {
    "duration": 466,
    "start_time": "2025-05-30T15:16:59.533Z"
   },
   {
    "duration": 593,
    "start_time": "2025-05-30T15:18:42.431Z"
   },
   {
    "duration": 1193,
    "start_time": "2025-05-30T15:24:08.017Z"
   },
   {
    "duration": 3029,
    "start_time": "2025-05-30T15:24:09.212Z"
   },
   {
    "duration": 11,
    "start_time": "2025-05-30T15:24:12.243Z"
   },
   {
    "duration": 21,
    "start_time": "2025-05-30T15:24:12.256Z"
   },
   {
    "duration": 13,
    "start_time": "2025-05-30T15:24:12.279Z"
   },
   {
    "duration": 22,
    "start_time": "2025-05-30T15:24:12.294Z"
   },
   {
    "duration": 471,
    "start_time": "2025-05-30T15:24:12.318Z"
   },
   {
    "duration": 1944,
    "start_time": "2025-05-30T15:24:12.790Z"
   },
   {
    "duration": 605,
    "start_time": "2025-05-30T15:24:14.737Z"
   },
   {
    "duration": 449,
    "start_time": "2025-05-30T15:24:15.346Z"
   },
   {
    "duration": 414,
    "start_time": "2025-05-30T15:24:15.797Z"
   },
   {
    "duration": 441,
    "start_time": "2025-05-30T15:24:16.213Z"
   },
   {
    "duration": 484,
    "start_time": "2025-05-30T15:24:16.656Z"
   },
   {
    "duration": 414,
    "start_time": "2025-05-30T15:24:17.142Z"
   },
   {
    "duration": 358,
    "start_time": "2025-05-30T15:24:17.558Z"
   },
   {
    "duration": 404,
    "start_time": "2025-05-30T15:24:17.917Z"
   },
   {
    "duration": 428,
    "start_time": "2025-05-30T15:24:18.322Z"
   },
   {
    "duration": 692,
    "start_time": "2025-05-30T15:24:18.752Z"
   },
   {
    "duration": 280,
    "start_time": "2025-05-30T15:24:19.446Z"
   },
   {
    "duration": 450,
    "start_time": "2025-05-30T15:24:19.728Z"
   },
   {
    "duration": 23,
    "start_time": "2025-05-30T15:24:20.180Z"
   },
   {
    "duration": 184,
    "start_time": "2025-05-30T15:24:20.205Z"
   },
   {
    "duration": 11,
    "start_time": "2025-05-30T15:24:46.615Z"
   },
   {
    "duration": 10,
    "start_time": "2025-05-30T15:24:52.713Z"
   },
   {
    "duration": 1287,
    "start_time": "2025-05-30T17:13:31.522Z"
   },
   {
    "duration": 3115,
    "start_time": "2025-05-30T17:13:32.811Z"
   },
   {
    "duration": 13,
    "start_time": "2025-05-30T17:13:35.937Z"
   },
   {
    "duration": 218,
    "start_time": "2025-05-30T17:13:35.953Z"
   },
   {
    "duration": 49,
    "start_time": "2025-05-30T17:13:36.173Z"
   },
   {
    "duration": 44,
    "start_time": "2025-05-30T17:13:36.224Z"
   },
   {
    "duration": 514,
    "start_time": "2025-05-30T17:13:36.270Z"
   },
   {
    "duration": 2027,
    "start_time": "2025-05-30T17:13:36.786Z"
   },
   {
    "duration": 611,
    "start_time": "2025-05-30T17:13:38.814Z"
   },
   {
    "duration": 463,
    "start_time": "2025-05-30T17:13:39.428Z"
   },
   {
    "duration": 419,
    "start_time": "2025-05-30T17:13:39.892Z"
   },
   {
    "duration": 439,
    "start_time": "2025-05-30T17:13:40.313Z"
   },
   {
    "duration": 342,
    "start_time": "2025-05-30T17:13:40.753Z"
   },
   {
    "duration": 609,
    "start_time": "2025-05-30T17:13:41.097Z"
   },
   {
    "duration": 381,
    "start_time": "2025-05-30T17:13:41.708Z"
   },
   {
    "duration": 443,
    "start_time": "2025-05-30T17:13:42.091Z"
   },
   {
    "duration": 456,
    "start_time": "2025-05-30T17:13:42.535Z"
   },
   {
    "duration": 700,
    "start_time": "2025-05-30T17:13:42.992Z"
   },
   {
    "duration": 294,
    "start_time": "2025-05-30T17:13:43.694Z"
   },
   {
    "duration": 466,
    "start_time": "2025-05-30T17:13:43.989Z"
   },
   {
    "duration": 26,
    "start_time": "2025-05-30T17:13:44.460Z"
   },
   {
    "duration": 253,
    "start_time": "2025-05-30T17:13:44.488Z"
   },
   {
    "duration": 1238,
    "start_time": "2025-05-30T17:17:20.250Z"
   },
   {
    "duration": 3119,
    "start_time": "2025-05-30T17:17:21.490Z"
   },
   {
    "duration": 12,
    "start_time": "2025-05-30T17:17:24.611Z"
   },
   {
    "duration": 105,
    "start_time": "2025-05-30T17:17:24.625Z"
   },
   {
    "duration": 16,
    "start_time": "2025-05-30T17:17:24.732Z"
   },
   {
    "duration": 50,
    "start_time": "2025-05-30T17:17:24.750Z"
   },
   {
    "duration": 537,
    "start_time": "2025-05-30T17:17:24.801Z"
   },
   {
    "duration": 2150,
    "start_time": "2025-05-30T17:17:25.339Z"
   },
   {
    "duration": 609,
    "start_time": "2025-05-30T17:17:27.491Z"
   },
   {
    "duration": 469,
    "start_time": "2025-05-30T17:17:28.102Z"
   },
   {
    "duration": 416,
    "start_time": "2025-05-30T17:17:28.573Z"
   },
   {
    "duration": 462,
    "start_time": "2025-05-30T17:17:28.991Z"
   },
   {
    "duration": 505,
    "start_time": "2025-05-30T17:17:29.461Z"
   },
   {
    "duration": 458,
    "start_time": "2025-05-30T17:17:29.967Z"
   },
   {
    "duration": 393,
    "start_time": "2025-05-30T17:17:30.427Z"
   },
   {
    "duration": 445,
    "start_time": "2025-05-30T17:17:30.822Z"
   },
   {
    "duration": 462,
    "start_time": "2025-05-30T17:17:31.269Z"
   },
   {
    "duration": 725,
    "start_time": "2025-05-30T17:17:31.733Z"
   },
   {
    "duration": 294,
    "start_time": "2025-05-30T17:17:32.460Z"
   },
   {
    "duration": 470,
    "start_time": "2025-05-30T17:17:32.761Z"
   },
   {
    "duration": 41,
    "start_time": "2025-05-30T17:17:33.232Z"
   },
   {
    "duration": 247,
    "start_time": "2025-05-30T17:17:33.274Z"
   },
   {
    "duration": 60,
    "start_time": "2025-05-31T09:40:19.001Z"
   },
   {
    "duration": 1460,
    "start_time": "2025-05-31T09:40:27.652Z"
   },
   {
    "duration": 3151,
    "start_time": "2025-05-31T09:40:29.115Z"
   },
   {
    "duration": 12,
    "start_time": "2025-05-31T09:40:32.268Z"
   },
   {
    "duration": 20,
    "start_time": "2025-05-31T09:40:32.282Z"
   },
   {
    "duration": 107,
    "start_time": "2025-05-31T09:40:32.304Z"
   },
   {
    "duration": 166,
    "start_time": "2025-05-31T09:40:32.412Z"
   },
   {
    "duration": 484,
    "start_time": "2025-05-31T09:40:32.580Z"
   },
   {
    "duration": 2116,
    "start_time": "2025-05-31T09:40:33.065Z"
   },
   {
    "duration": 449,
    "start_time": "2025-05-31T09:40:35.183Z"
   },
   {
    "duration": 462,
    "start_time": "2025-05-31T09:40:35.635Z"
   },
   {
    "duration": 426,
    "start_time": "2025-05-31T09:40:36.099Z"
   },
   {
    "duration": 460,
    "start_time": "2025-05-31T09:40:36.526Z"
   },
   {
    "duration": 517,
    "start_time": "2025-05-31T09:40:36.988Z"
   },
   {
    "duration": 447,
    "start_time": "2025-05-31T09:40:37.507Z"
   },
   {
    "duration": 374,
    "start_time": "2025-05-31T09:40:37.960Z"
   },
   {
    "duration": 425,
    "start_time": "2025-05-31T09:40:38.336Z"
   },
   {
    "duration": 433,
    "start_time": "2025-05-31T09:40:38.763Z"
   },
   {
    "duration": 691,
    "start_time": "2025-05-31T09:40:39.198Z"
   },
   {
    "duration": 293,
    "start_time": "2025-05-31T09:40:39.891Z"
   },
   {
    "duration": 1957,
    "start_time": "2025-05-31T09:40:40.186Z"
   },
   {
    "duration": 192,
    "start_time": "2025-05-31T09:40:42.145Z"
   },
   {
    "duration": 183,
    "start_time": "2025-05-31T09:40:42.339Z"
   },
   {
    "duration": 1214,
    "start_time": "2025-05-31T10:00:13.299Z"
   },
   {
    "duration": 3154,
    "start_time": "2025-05-31T10:00:14.515Z"
   },
   {
    "duration": 11,
    "start_time": "2025-05-31T10:00:17.671Z"
   },
   {
    "duration": 49,
    "start_time": "2025-05-31T10:00:17.685Z"
   },
   {
    "duration": 19,
    "start_time": "2025-05-31T10:00:17.736Z"
   },
   {
    "duration": 30,
    "start_time": "2025-05-31T10:00:17.757Z"
   },
   {
    "duration": 494,
    "start_time": "2025-05-31T10:00:17.789Z"
   },
   {
    "duration": 2069,
    "start_time": "2025-05-31T10:00:18.284Z"
   },
   {
    "duration": 622,
    "start_time": "2025-05-31T10:00:20.355Z"
   },
   {
    "duration": 475,
    "start_time": "2025-05-31T10:00:20.980Z"
   },
   {
    "duration": 424,
    "start_time": "2025-05-31T10:00:21.460Z"
   },
   {
    "duration": 453,
    "start_time": "2025-05-31T10:00:21.886Z"
   },
   {
    "duration": 501,
    "start_time": "2025-05-31T10:00:22.341Z"
   },
   {
    "duration": 445,
    "start_time": "2025-05-31T10:00:22.843Z"
   },
   {
    "duration": 396,
    "start_time": "2025-05-31T10:00:23.290Z"
   },
   {
    "duration": 436,
    "start_time": "2025-05-31T10:00:23.687Z"
   },
   {
    "duration": 449,
    "start_time": "2025-05-31T10:00:24.125Z"
   },
   {
    "duration": 722,
    "start_time": "2025-05-31T10:00:24.576Z"
   },
   {
    "duration": 290,
    "start_time": "2025-05-31T10:00:25.300Z"
   },
   {
    "duration": 2069,
    "start_time": "2025-05-31T10:00:25.592Z"
   },
   {
    "duration": 25,
    "start_time": "2025-05-31T10:00:27.663Z"
   },
   {
    "duration": 353,
    "start_time": "2025-05-31T10:00:27.689Z"
   },
   {
    "duration": 2,
    "start_time": "2025-05-31T16:37:43.971Z"
   },
   {
    "duration": 3298,
    "start_time": "2025-05-31T16:37:43.975Z"
   },
   {
    "duration": 11,
    "start_time": "2025-05-31T16:37:47.274Z"
   },
   {
    "duration": 110,
    "start_time": "2025-05-31T16:37:47.286Z"
   },
   {
    "duration": 13,
    "start_time": "2025-05-31T16:37:47.398Z"
   },
   {
    "duration": 50,
    "start_time": "2025-05-31T16:37:47.416Z"
   },
   {
    "duration": 373,
    "start_time": "2025-05-31T16:37:47.468Z"
   },
   {
    "duration": 2173,
    "start_time": "2025-05-31T16:37:47.843Z"
   },
   {
    "duration": 441,
    "start_time": "2025-05-31T16:37:50.018Z"
   },
   {
    "duration": 478,
    "start_time": "2025-05-31T16:37:50.461Z"
   },
   {
    "duration": 423,
    "start_time": "2025-05-31T16:37:50.941Z"
   },
   {
    "duration": 684,
    "start_time": "2025-05-31T16:37:51.366Z"
   },
   {
    "duration": 356,
    "start_time": "2025-05-31T16:37:52.052Z"
   },
   {
    "duration": 448,
    "start_time": "2025-05-31T16:37:52.410Z"
   },
   {
    "duration": 396,
    "start_time": "2025-05-31T16:37:52.861Z"
   },
   {
    "duration": 429,
    "start_time": "2025-05-31T16:37:53.259Z"
   },
   {
    "duration": 452,
    "start_time": "2025-05-31T16:37:53.691Z"
   },
   {
    "duration": 578,
    "start_time": "2025-05-31T16:37:54.145Z"
   },
   {
    "duration": 531,
    "start_time": "2025-05-31T16:37:54.738Z"
   },
   {
    "duration": 2049,
    "start_time": "2025-05-31T16:37:55.272Z"
   },
   {
    "duration": 34,
    "start_time": "2025-05-31T16:37:57.323Z"
   },
   {
    "duration": 206,
    "start_time": "2025-05-31T16:37:57.359Z"
   },
   {
    "duration": 53,
    "start_time": "2025-06-01T08:55:45.300Z"
   },
   {
    "duration": 1271,
    "start_time": "2025-06-01T08:55:53.673Z"
   },
   {
    "duration": 2525,
    "start_time": "2025-06-01T08:55:54.946Z"
   },
   {
    "duration": 11,
    "start_time": "2025-06-01T08:55:57.473Z"
   },
   {
    "duration": 17,
    "start_time": "2025-06-01T08:55:57.485Z"
   },
   {
    "duration": 11,
    "start_time": "2025-06-01T08:55:57.503Z"
   },
   {
    "duration": 40,
    "start_time": "2025-06-01T08:55:57.516Z"
   },
   {
    "duration": 425,
    "start_time": "2025-06-01T08:55:57.559Z"
   },
   {
    "duration": 1593,
    "start_time": "2025-06-01T08:55:57.986Z"
   },
   {
    "duration": 495,
    "start_time": "2025-06-01T08:55:59.580Z"
   },
   {
    "duration": 384,
    "start_time": "2025-06-01T08:56:00.077Z"
   },
   {
    "duration": 353,
    "start_time": "2025-06-01T08:56:00.463Z"
   },
   {
    "duration": 379,
    "start_time": "2025-06-01T08:56:00.817Z"
   },
   {
    "duration": 443,
    "start_time": "2025-06-01T08:56:01.197Z"
   },
   {
    "duration": 373,
    "start_time": "2025-06-01T08:56:01.643Z"
   },
   {
    "duration": 314,
    "start_time": "2025-06-01T08:56:02.018Z"
   },
   {
    "duration": 348,
    "start_time": "2025-06-01T08:56:02.333Z"
   },
   {
    "duration": 363,
    "start_time": "2025-06-01T08:56:02.683Z"
   },
   {
    "duration": 593,
    "start_time": "2025-06-01T08:56:03.047Z"
   },
   {
    "duration": 242,
    "start_time": "2025-06-01T08:56:03.642Z"
   },
   {
    "duration": 1802,
    "start_time": "2025-06-01T08:56:03.886Z"
   },
   {
    "duration": 22,
    "start_time": "2025-06-01T08:56:05.689Z"
   },
   {
    "duration": 183,
    "start_time": "2025-06-01T08:56:05.712Z"
   },
   {
    "duration": 2072,
    "start_time": "2025-06-01T08:59:07.021Z"
   },
   {
    "duration": 1246,
    "start_time": "2025-06-01T09:06:59.717Z"
   },
   {
    "duration": 3014,
    "start_time": "2025-06-01T09:07:00.966Z"
   },
   {
    "duration": 11,
    "start_time": "2025-06-01T09:07:03.982Z"
   },
   {
    "duration": 45,
    "start_time": "2025-06-01T09:07:03.995Z"
   },
   {
    "duration": 13,
    "start_time": "2025-06-01T09:07:04.041Z"
   },
   {
    "duration": 52,
    "start_time": "2025-06-01T09:07:04.056Z"
   },
   {
    "duration": 511,
    "start_time": "2025-06-01T09:07:04.110Z"
   },
   {
    "duration": 1902,
    "start_time": "2025-06-01T09:07:04.623Z"
   },
   {
    "duration": 612,
    "start_time": "2025-06-01T09:07:06.527Z"
   },
   {
    "duration": 469,
    "start_time": "2025-06-01T09:07:07.142Z"
   },
   {
    "duration": 400,
    "start_time": "2025-06-01T09:07:07.613Z"
   },
   {
    "duration": 426,
    "start_time": "2025-06-01T09:07:08.015Z"
   },
   {
    "duration": 475,
    "start_time": "2025-06-01T09:07:08.443Z"
   },
   {
    "duration": 419,
    "start_time": "2025-06-01T09:07:08.920Z"
   },
   {
    "duration": 369,
    "start_time": "2025-06-01T09:07:09.341Z"
   },
   {
    "duration": 413,
    "start_time": "2025-06-01T09:07:09.712Z"
   },
   {
    "duration": 429,
    "start_time": "2025-06-01T09:07:10.127Z"
   },
   {
    "duration": 712,
    "start_time": "2025-06-01T09:07:10.558Z"
   },
   {
    "duration": 291,
    "start_time": "2025-06-01T09:07:11.272Z"
   },
   {
    "duration": 2228,
    "start_time": "2025-06-01T09:07:11.565Z"
   },
   {
    "duration": 206,
    "start_time": "2025-06-01T09:07:13.795Z"
   },
   {
    "duration": 186,
    "start_time": "2025-06-01T09:07:14.003Z"
   },
   {
    "duration": 1475,
    "start_time": "2025-06-01T09:45:40.112Z"
   },
   {
    "duration": 3068,
    "start_time": "2025-06-01T09:45:41.589Z"
   },
   {
    "duration": 13,
    "start_time": "2025-06-01T09:45:44.659Z"
   },
   {
    "duration": 21,
    "start_time": "2025-06-01T09:45:44.674Z"
   },
   {
    "duration": 13,
    "start_time": "2025-06-01T09:45:44.697Z"
   },
   {
    "duration": 34,
    "start_time": "2025-06-01T09:45:44.712Z"
   },
   {
    "duration": 523,
    "start_time": "2025-06-01T09:45:44.748Z"
   },
   {
    "duration": 1971,
    "start_time": "2025-06-01T09:45:45.273Z"
   },
   {
    "duration": 619,
    "start_time": "2025-06-01T09:45:47.246Z"
   },
   {
    "duration": 455,
    "start_time": "2025-06-01T09:45:47.868Z"
   },
   {
    "duration": 403,
    "start_time": "2025-06-01T09:45:48.336Z"
   },
   {
    "duration": 447,
    "start_time": "2025-06-01T09:45:48.741Z"
   },
   {
    "duration": 488,
    "start_time": "2025-06-01T09:45:49.189Z"
   },
   {
    "duration": 436,
    "start_time": "2025-06-01T09:45:49.678Z"
   },
   {
    "duration": 373,
    "start_time": "2025-06-01T09:45:50.116Z"
   },
   {
    "duration": 416,
    "start_time": "2025-06-01T09:45:50.491Z"
   },
   {
    "duration": 452,
    "start_time": "2025-06-01T09:45:50.908Z"
   },
   {
    "duration": 691,
    "start_time": "2025-06-01T09:45:51.362Z"
   },
   {
    "duration": 282,
    "start_time": "2025-06-01T09:45:52.054Z"
   },
   {
    "duration": 2298,
    "start_time": "2025-06-01T09:45:52.338Z"
   },
   {
    "duration": 188,
    "start_time": "2025-06-01T09:45:54.638Z"
   },
   {
    "duration": 208,
    "start_time": "2025-06-01T09:45:54.828Z"
   }
  ],
  "colab": {
   "provenance": []
  },
  "kernelspec": {
   "display_name": "Python 3 (ipykernel)",
   "language": "python",
   "name": "python3"
  },
  "language_info": {
   "codemirror_mode": {
    "name": "ipython",
    "version": 3
   },
   "file_extension": ".py",
   "mimetype": "text/x-python",
   "name": "python",
   "nbconvert_exporter": "python",
   "pygments_lexer": "ipython3",
   "version": "3.9.5"
  },
  "toc": {
   "base_numbering": 1,
   "nav_menu": {},
   "number_sections": true,
   "sideBar": true,
   "skip_h1_title": true,
   "title_cell": "Table of Contents",
   "title_sidebar": "Contents",
   "toc_cell": false,
   "toc_position": {},
   "toc_section_display": true,
   "toc_window_display": false
  }
 },
 "nbformat": 4,
 "nbformat_minor": 1
}
