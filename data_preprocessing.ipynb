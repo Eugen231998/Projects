{
 "cells": [
  {
   "cell_type": "markdown",
   "id": "4f11de00",
   "metadata": {
    "deletable": false,
    "editable": false,
    "id": "4f11de00"
   },
   "source": [
    "# Исследование надежности заемщиков"
   ]
  },
  {
   "cell_type": "markdown",
   "id": "f09d6878",
   "metadata": {
    "deletable": false,
    "editable": false,
    "id": "f09d6878"
   },
   "source": [
    "Это первая часть проекта, она будет проверена автоматически. Вторую часть проверит ревьюер. "
   ]
  },
  {
   "cell_type": "markdown",
   "id": "516620ee",
   "metadata": {
    "deletable": false,
    "editable": false,
    "id": "516620ee"
   },
   "source": [
    "## Откройте таблицу и изучите общую информацию о данных"
   ]
  },
  {
   "cell_type": "markdown",
   "id": "76a8a9ce",
   "metadata": {
    "deletable": false,
    "editable": false,
    "id": "76a8a9ce",
    "tags": [
     "start_task"
    ]
   },
   "source": [
    "**Задание 1. Импортируйте библиотеку pandas. Считайте данные из csv-файла в датафрейм и сохраните в переменную `data`. Путь к файлу:**\n",
    "\n",
    "`/datasets/data.csv`"
   ]
  },
  {
   "cell_type": "code",
   "execution_count": 1,
   "id": "fab207d0",
   "metadata": {
    "id": "fab207d0"
   },
   "outputs": [],
   "source": [
    "import pandas as pd# импортируйте библиотеку pandas"
   ]
  },
  {
   "cell_type": "code",
   "execution_count": 2,
   "id": "6c82b607",
   "metadata": {
    "id": "6c82b607"
   },
   "outputs": [],
   "source": [
    "data=pd.read_csv('/datasets/data.csv')# прочитайте csv-файл"
   ]
  },
  {
   "cell_type": "markdown",
   "id": "08bbb5b3",
   "metadata": {
    "deletable": false,
    "editable": false,
    "id": "08bbb5b3",
    "tags": [
     "start_task"
    ]
   },
   "source": [
    "**Задание 2. Выведите первые 20 строчек датафрейма `data` на экран.**"
   ]
  },
  {
   "cell_type": "code",
   "execution_count": 3,
   "id": "4ff33b36",
   "metadata": {
    "id": "4ff33b36"
   },
   "outputs": [
    {
     "name": "stdout",
     "output_type": "stream",
     "text": [
      "    children  days_employed  dob_years            education  education_id  \\\n",
      "0          1   -8437.673028         42               высшее             0   \n",
      "1          1   -4024.803754         36              среднее             1   \n",
      "2          0   -5623.422610         33              Среднее             1   \n",
      "3          3   -4124.747207         32              среднее             1   \n",
      "4          0  340266.072047         53              среднее             1   \n",
      "5          0    -926.185831         27               высшее             0   \n",
      "6          0   -2879.202052         43               высшее             0   \n",
      "7          0    -152.779569         50              СРЕДНЕЕ             1   \n",
      "8          2   -6929.865299         35               ВЫСШЕЕ             0   \n",
      "9          0   -2188.756445         41              среднее             1   \n",
      "10         2   -4171.483647         36               высшее             0   \n",
      "11         0    -792.701887         40              среднее             1   \n",
      "12         0            NaN         65              среднее             1   \n",
      "13         0   -1846.641941         54  неоконченное высшее             2   \n",
      "14         0   -1844.956182         56               высшее             0   \n",
      "15         1    -972.364419         26              среднее             1   \n",
      "16         0   -1719.934226         35              среднее             1   \n",
      "17         0   -2369.999720         33               высшее             0   \n",
      "18         0  400281.136913         53              среднее             1   \n",
      "19         0  -10038.818549         48              СРЕДНЕЕ             1   \n",
      "\n",
      "       family_status  family_status_id gender income_type  debt  \\\n",
      "0    женат / замужем                 0      F   сотрудник     0   \n",
      "1    женат / замужем                 0      F   сотрудник     0   \n",
      "2    женат / замужем                 0      M   сотрудник     0   \n",
      "3    женат / замужем                 0      M   сотрудник     0   \n",
      "4   гражданский брак                 1      F   пенсионер     0   \n",
      "5   гражданский брак                 1      M   компаньон     0   \n",
      "6    женат / замужем                 0      F   компаньон     0   \n",
      "7    женат / замужем                 0      M   сотрудник     0   \n",
      "8   гражданский брак                 1      F   сотрудник     0   \n",
      "9    женат / замужем                 0      M   сотрудник     0   \n",
      "10   женат / замужем                 0      M   компаньон     0   \n",
      "11   женат / замужем                 0      F   сотрудник     0   \n",
      "12  гражданский брак                 1      M   пенсионер     0   \n",
      "13   женат / замужем                 0      F   сотрудник     0   \n",
      "14  гражданский брак                 1      F   компаньон     1   \n",
      "15   женат / замужем                 0      F   сотрудник     0   \n",
      "16   женат / замужем                 0      F   сотрудник     0   \n",
      "17  гражданский брак                 1      M   сотрудник     0   \n",
      "18    вдовец / вдова                 2      F   пенсионер     0   \n",
      "19         в разводе                 3      F   сотрудник     0   \n",
      "\n",
      "     total_income                                 purpose  \n",
      "0   253875.639453                           покупка жилья  \n",
      "1   112080.014102                 приобретение автомобиля  \n",
      "2   145885.952297                           покупка жилья  \n",
      "3   267628.550329              дополнительное образование  \n",
      "4   158616.077870                         сыграть свадьбу  \n",
      "5   255763.565419                           покупка жилья  \n",
      "6   240525.971920                       операции с жильем  \n",
      "7   135823.934197                             образование  \n",
      "8    95856.832424                   на проведение свадьбы  \n",
      "9   144425.938277                 покупка жилья для семьи  \n",
      "10  113943.491460                    покупка недвижимости  \n",
      "11   77069.234271       покупка коммерческой недвижимости  \n",
      "12            NaN                         сыграть свадьбу  \n",
      "13  130458.228857                 приобретение автомобиля  \n",
      "14  165127.911772              покупка жилой недвижимости  \n",
      "15  116820.904450  строительство собственной недвижимости  \n",
      "16  289202.704229                            недвижимость  \n",
      "17   90410.586745              строительство недвижимости  \n",
      "18   56823.777243      на покупку подержанного автомобиля  \n",
      "19  242831.107982            на покупку своего автомобиля  \n"
     ]
    }
   ],
   "source": [
    "print(data.head(20))# ваш код здесь"
   ]
  },
  {
   "cell_type": "markdown",
   "id": "c8f382ae",
   "metadata": {
    "deletable": false,
    "editable": false,
    "id": "c8f382ae",
    "tags": [
     "start_task"
    ]
   },
   "source": [
    "**Задание 3. Выведите основную информацию о датафрейме с помощью метода `info()`.**"
   ]
  },
  {
   "cell_type": "code",
   "execution_count": 4,
   "id": "e1ed9908",
   "metadata": {
    "id": "e1ed9908"
   },
   "outputs": [
    {
     "name": "stdout",
     "output_type": "stream",
     "text": [
      "<class 'pandas.core.frame.DataFrame'>\n",
      "RangeIndex: 21525 entries, 0 to 21524\n",
      "Data columns (total 12 columns):\n",
      " #   Column            Non-Null Count  Dtype  \n",
      "---  ------            --------------  -----  \n",
      " 0   children          21525 non-null  int64  \n",
      " 1   days_employed     19351 non-null  float64\n",
      " 2   dob_years         21525 non-null  int64  \n",
      " 3   education         21525 non-null  object \n",
      " 4   education_id      21525 non-null  int64  \n",
      " 5   family_status     21525 non-null  object \n",
      " 6   family_status_id  21525 non-null  int64  \n",
      " 7   gender            21525 non-null  object \n",
      " 8   income_type       21525 non-null  object \n",
      " 9   debt              21525 non-null  int64  \n",
      " 10  total_income      19351 non-null  float64\n",
      " 11  purpose           21525 non-null  object \n",
      "dtypes: float64(2), int64(5), object(5)\n",
      "memory usage: 2.0+ MB\n"
     ]
    }
   ],
   "source": [
    "data.info()# ваш код здесь"
   ]
  },
  {
   "cell_type": "markdown",
   "id": "f969a1cd",
   "metadata": {
    "deletable": false,
    "editable": false,
    "id": "f969a1cd"
   },
   "source": [
    "## Предобработка данных"
   ]
  },
  {
   "cell_type": "markdown",
   "id": "7283e864",
   "metadata": {
    "deletable": false,
    "editable": false,
    "id": "7283e864"
   },
   "source": [
    "### Удаление пропусков"
   ]
  },
  {
   "cell_type": "markdown",
   "id": "c9a0745e",
   "metadata": {
    "deletable": false,
    "editable": false,
    "id": "c9a0745e",
    "tags": [
     "start_task"
    ]
   },
   "source": [
    "**Задание 4. Выведите количество пропущенных значений для каждого столбца. Используйте комбинацию двух методов.**"
   ]
  },
  {
   "cell_type": "code",
   "execution_count": 5,
   "id": "b7a096e1",
   "metadata": {
    "id": "b7a096e1"
   },
   "outputs": [
    {
     "name": "stdout",
     "output_type": "stream",
     "text": [
      "children               0\n",
      "days_employed       2174\n",
      "dob_years              0\n",
      "education              0\n",
      "education_id           0\n",
      "family_status          0\n",
      "family_status_id       0\n",
      "gender                 0\n",
      "income_type            0\n",
      "debt                   0\n",
      "total_income        2174\n",
      "purpose                0\n",
      "dtype: int64\n"
     ]
    }
   ],
   "source": [
    "print(data.isna().sum())# ваш код здесь"
   ]
  },
  {
   "cell_type": "markdown",
   "id": "c2578616",
   "metadata": {
    "deletable": false,
    "editable": false,
    "id": "c2578616",
    "tags": [
     "start_task"
    ]
   },
   "source": [
    "**Задание 5. В двух столбцах есть пропущенные значения. Один из них — `days_employed`. Пропуски в этом столбце вы обработаете на следующем этапе. Другой столбец с пропущенными значениями — `total_income` — хранит данные о доходах. На сумму дохода сильнее всего влияет тип занятости, поэтому заполнить пропуски в этом столбце нужно медианным значением по каждому типу из столбца `income_type`. Например, у человека с типом занятости `сотрудник` пропуск в столбце `total_income` должен быть заполнен медианным доходом среди всех записей с тем же типом.**"
   ]
  },
  {
   "cell_type": "code",
   "execution_count": 6,
   "id": "e8afc4bc",
   "metadata": {
    "id": "e8afc4bc"
   },
   "outputs": [],
   "source": [
    "median_income_by_type = data.groupby('income_type')['total_income'].median()\n",
    "\n",
    "data['total_income'] = data['total_income'].fillna(data['income_type'].map(median_income_by_type)) # ваш код здесь"
   ]
  },
  {
   "cell_type": "markdown",
   "id": "ae986d46",
   "metadata": {
    "deletable": false,
    "editable": false,
    "id": "ae986d46"
   },
   "source": [
    "### Обработка аномальных значений"
   ]
  },
  {
   "cell_type": "markdown",
   "id": "b049cbae",
   "metadata": {
    "deletable": false,
    "editable": false,
    "id": "b049cbae",
    "tags": [
     "start_task"
    ]
   },
   "source": [
    "**Задание 6. В данных могут встречаться артефакты (аномалии) — значения, которые не отражают действительность и появились по какой-то ошибке. Таким артефактом будет отрицательное количество дней трудового стажа в столбце `days_employed`. Для реальных данных это нормально. Обработайте значения в этом столбце: замените все отрицательные значения положительными с помощью метода `abs()`.**"
   ]
  },
  {
   "cell_type": "code",
   "execution_count": 7,
   "id": "187779b0",
   "metadata": {
    "id": "187779b0"
   },
   "outputs": [],
   "source": [
    "data['days_employed'] = data['days_employed'].abs()# ваш код здесь"
   ]
  },
  {
   "cell_type": "markdown",
   "id": "a13054c2",
   "metadata": {
    "deletable": false,
    "editable": false,
    "id": "a13054c2",
    "tags": [
     "start_task"
    ]
   },
   "source": [
    "**Задание 7. Для каждого типа занятости выведите медианное значение трудового стажа `days_employed` в днях.**"
   ]
  },
  {
   "cell_type": "code",
   "execution_count": 8,
   "id": "f3f5810c",
   "metadata": {
    "id": "f3f5810c"
   },
   "outputs": [
    {
     "name": "stdout",
     "output_type": "stream",
     "text": [
      "income_type\n",
      "безработный        366413.652744\n",
      "в декрете            3296.759962\n",
      "госслужащий          2689.368353\n",
      "компаньон            1547.382223\n",
      "пенсионер          365213.306266\n",
      "предприниматель       520.848083\n",
      "сотрудник            1574.202821\n",
      "студент               578.751554\n",
      "Name: days_employed, dtype: float64\n"
     ]
    }
   ],
   "source": [
    "median_days_employed_by_type = data.groupby('income_type')['days_employed'].median()\n",
    "print(median_days_employed_by_type)# ваш код здесь"
   ]
  },
  {
   "cell_type": "markdown",
   "id": "dbc3168c",
   "metadata": {
    "deletable": false,
    "editable": false,
    "id": "dbc3168c"
   },
   "source": [
    "У двух типов (безработные и пенсионеры) получатся аномально большие значения. Исправить такие значения сложно, поэтому оставьте их как есть."
   ]
  },
  {
   "cell_type": "markdown",
   "id": "ff4378c2",
   "metadata": {
    "deletable": false,
    "editable": false,
    "id": "ff4378c2",
    "tags": [
     "start_task"
    ]
   },
   "source": [
    "**Задание 8. Выведите перечень уникальных значений столбца `children`.**"
   ]
  },
  {
   "cell_type": "code",
   "execution_count": 9,
   "id": "9bd0c232",
   "metadata": {
    "id": "9bd0c232"
   },
   "outputs": [
    {
     "name": "stdout",
     "output_type": "stream",
     "text": [
      "[ 1  0  3  2 -1  4 20  5]\n"
     ]
    }
   ],
   "source": [
    "print(data['children'].unique())"
   ]
  },
  {
   "cell_type": "markdown",
   "id": "8e911990",
   "metadata": {
    "deletable": false,
    "editable": false,
    "id": "8e911990",
    "tags": [
     "start_task"
    ]
   },
   "source": [
    "**Задание 9. В столбце `children` есть два аномальных значения. Удалите строки, в которых встречаются такие аномальные значения из датафрейма `data`.**"
   ]
  },
  {
   "cell_type": "code",
   "execution_count": 10,
   "id": "6d5ba289",
   "metadata": {
    "id": "6d5ba289"
   },
   "outputs": [],
   "source": [
    "data=data[(data['children'] != -1) & (data['children'] != 20)]# ваш код здесь"
   ]
  },
  {
   "cell_type": "markdown",
   "id": "18d77455",
   "metadata": {
    "deletable": false,
    "editable": false,
    "id": "18d77455",
    "tags": [
     "start_task"
    ]
   },
   "source": [
    "**Задание 10. Ещё раз выведите перечень уникальных значений столбца `children`, чтобы убедиться, что артефакты удалены.**"
   ]
  },
  {
   "cell_type": "code",
   "execution_count": 11,
   "id": "2c5fa92c",
   "metadata": {
    "id": "2c5fa92c"
   },
   "outputs": [
    {
     "name": "stdout",
     "output_type": "stream",
     "text": [
      "[1 0 3 2 4 5]\n"
     ]
    }
   ],
   "source": [
    "print(data['children'].unique())# ваш код здесь"
   ]
  },
  {
   "cell_type": "markdown",
   "id": "0ec07dee",
   "metadata": {
    "deletable": false,
    "editable": false,
    "id": "0ec07dee"
   },
   "source": [
    "### Удаление пропусков (продолжение)"
   ]
  },
  {
   "cell_type": "markdown",
   "id": "0fc3ae3f",
   "metadata": {
    "deletable": false,
    "editable": false,
    "id": "0fc3ae3f",
    "tags": [
     "start_task"
    ]
   },
   "source": [
    "**Задание 11. Заполните пропуски в столбце `days_employed` медианными значениями по каждому типу занятости `income_type`.**"
   ]
  },
  {
   "cell_type": "code",
   "execution_count": 12,
   "id": "e2aea7ac",
   "metadata": {
    "id": "e2aea7ac"
   },
   "outputs": [],
   "source": [
    "median_days = data.groupby('income_type')['days_employed'].median()\n",
    "\n",
    "data['days_employed'] = data['days_employed'].fillna(data['income_type'].map(median_days))# ваш код здесь"
   ]
  },
  {
   "cell_type": "markdown",
   "id": "97b0b795",
   "metadata": {
    "deletable": false,
    "editable": false,
    "id": "97b0b795",
    "tags": [
     "start_task"
    ]
   },
   "source": [
    "**Задание 12. Убедитесь, что все пропуски заполнены. Проверьте себя и ещё раз выведите количество пропущенных значений для каждого столбца с помощью двух методов.**"
   ]
  },
  {
   "cell_type": "code",
   "execution_count": 13,
   "id": "79632a21",
   "metadata": {
    "id": "79632a21"
   },
   "outputs": [
    {
     "name": "stdout",
     "output_type": "stream",
     "text": [
      "children            0\n",
      "days_employed       0\n",
      "dob_years           0\n",
      "education           0\n",
      "education_id        0\n",
      "family_status       0\n",
      "family_status_id    0\n",
      "gender              0\n",
      "income_type         0\n",
      "debt                0\n",
      "total_income        0\n",
      "purpose             0\n",
      "dtype: int64\n"
     ]
    }
   ],
   "source": [
    "print(data.isna().sum())# ваш код здесь"
   ]
  },
  {
   "cell_type": "markdown",
   "id": "bd4aeb20",
   "metadata": {
    "deletable": false,
    "editable": false,
    "id": "bd4aeb20"
   },
   "source": [
    "### Изменение типов данных"
   ]
  },
  {
   "cell_type": "markdown",
   "id": "963bfa58",
   "metadata": {
    "deletable": false,
    "editable": false,
    "id": "963bfa58",
    "tags": [
     "start_task"
    ]
   },
   "source": [
    "**Задание 13. Замените вещественный тип данных в столбце `total_income` на целочисленный с помощью метода `astype()`.**"
   ]
  },
  {
   "cell_type": "code",
   "execution_count": 14,
   "id": "73da6ea0",
   "metadata": {
    "id": "73da6ea0"
   },
   "outputs": [],
   "source": [
    "data['total_income']=data['total_income'].astype('int',errors='raise') # ваш код здесь"
   ]
  },
  {
   "cell_type": "markdown",
   "id": "d290239e",
   "metadata": {
    "deletable": false,
    "editable": false,
    "id": "d290239e"
   },
   "source": [
    "### Обработка дубликатов"
   ]
  },
  {
   "cell_type": "markdown",
   "id": "1b5844fd",
   "metadata": {
    "deletable": false,
    "editable": false,
    "id": "1b5844fd",
    "tags": [
     "start_task"
    ]
   },
   "source": [
    "**Задание 14. Обработайте неявные дубликаты в столбце `education`. В этом столбце есть одни и те же значения, но записанные по-разному: с использованием заглавных и строчных букв. Приведите их к нижнему регистру.**"
   ]
  },
  {
   "cell_type": "code",
   "execution_count": 15,
   "id": "3f2504b3",
   "metadata": {
    "id": "3f2504b3"
   },
   "outputs": [],
   "source": [
    "data['education']=data['education'].str.lower() # ваш код здесь"
   ]
  },
  {
   "cell_type": "markdown",
   "id": "4c22acbc",
   "metadata": {
    "deletable": false,
    "editable": false,
    "id": "4c22acbc",
    "tags": [
     "start_task"
    ]
   },
   "source": [
    "**Задание 15. Выведите на экран количество строк-дубликатов в данных. Если такие строки присутствуют, удалите их.**"
   ]
  },
  {
   "cell_type": "code",
   "execution_count": 16,
   "id": "d34a4325",
   "metadata": {
    "id": "d34a4325"
   },
   "outputs": [
    {
     "name": "stdout",
     "output_type": "stream",
     "text": [
      "71\n"
     ]
    }
   ],
   "source": [
    "sum_duplicates=data.duplicated().sum()\n",
    "print(sum_duplicates)# посчитайте дубликаты"
   ]
  },
  {
   "cell_type": "code",
   "execution_count": 23,
   "id": "6e1a6499",
   "metadata": {
    "id": "6e1a6499"
   },
   "outputs": [],
   "source": [
    "if sum_duplicates>0:\n",
    "    data=data.drop_duplicates()# удалите дубликаты"
   ]
  },
  {
   "cell_type": "markdown",
   "id": "e5686ccc",
   "metadata": {
    "deletable": false,
    "editable": false,
    "id": "e5686ccc"
   },
   "source": [
    "### Категоризация данных"
   ]
  },
  {
   "cell_type": "markdown",
   "id": "636e9acd",
   "metadata": {
    "deletable": false,
    "editable": false,
    "id": "636e9acd",
    "tags": [
     "start_task"
    ]
   },
   "source": [
    "**Задание 16. На основании диапазонов, указанных ниже, создайте в датафрейме `data` столбец `total_income_category` с категориями:**\n",
    "\n",
    "- 0–30000 — `'E'`;\n",
    "- 30001–50000 — `'D'`;\n",
    "- 50001–200000 — `'C'`;\n",
    "- 200001–1000000 — `'B'`;\n",
    "- 1000001 и выше — `'A'`.\n",
    "\n",
    "\n",
    "**Например, кредитополучателю с доходом 25000 нужно назначить категорию `'E'`, а клиенту, получающему 235000, — `'B'`. Используйте собственную функцию с именем `categorize_income()` и метод `apply()`.**"
   ]
  },
  {
   "cell_type": "code",
   "execution_count": 24,
   "id": "880a77e5",
   "metadata": {
    "id": "880a77e5"
   },
   "outputs": [],
   "source": [
    "def categorize_income(income):\n",
    "    if income <= 30000:\n",
    "        return 'E'\n",
    "    elif 30001 <= income <= 50000:\n",
    "        return 'D'\n",
    "    elif 50001 <= income <= 200000:\n",
    "        return 'C'\n",
    "    elif 200001 <= income <= 1000000:\n",
    "        return 'B'\n",
    "    else:  \n",
    "        return 'A'\n",
    "\n",
    "# создайте функцию categorize_income()"
   ]
  },
  {
   "cell_type": "code",
   "execution_count": 25,
   "id": "6f25f161",
   "metadata": {
    "id": "6f25f161"
   },
   "outputs": [],
   "source": [
    "data['total_income_category'] = data['total_income'].apply(categorize_income)# примените функцию методом apply()"
   ]
  },
  {
   "cell_type": "markdown",
   "id": "3363b685",
   "metadata": {
    "deletable": false,
    "editable": false,
    "id": "3363b685",
    "tags": [
     "start_task"
    ]
   },
   "source": [
    "**Задание 17. Выведите на экран перечень уникальных целей взятия кредита из столбца `purpose`.**"
   ]
  },
  {
   "cell_type": "code",
   "execution_count": 26,
   "id": "e59f2c15",
   "metadata": {
    "id": "e59f2c15"
   },
   "outputs": [
    {
     "name": "stdout",
     "output_type": "stream",
     "text": [
      "['покупка жилья' 'приобретение автомобиля' 'дополнительное образование'\n",
      " 'сыграть свадьбу' 'операции с жильем' 'образование'\n",
      " 'на проведение свадьбы' 'покупка жилья для семьи' 'покупка недвижимости'\n",
      " 'покупка коммерческой недвижимости' 'покупка жилой недвижимости'\n",
      " 'строительство собственной недвижимости' 'недвижимость'\n",
      " 'строительство недвижимости' 'на покупку подержанного автомобиля'\n",
      " 'на покупку своего автомобиля' 'операции с коммерческой недвижимостью'\n",
      " 'строительство жилой недвижимости' 'жилье'\n",
      " 'операции со своей недвижимостью' 'автомобили' 'заняться образованием'\n",
      " 'сделка с подержанным автомобилем' 'получение образования' 'автомобиль'\n",
      " 'свадьба' 'получение дополнительного образования' 'покупка своего жилья'\n",
      " 'операции с недвижимостью' 'получение высшего образования'\n",
      " 'свой автомобиль' 'сделка с автомобилем' 'профильное образование'\n",
      " 'высшее образование' 'покупка жилья для сдачи' 'на покупку автомобиля'\n",
      " 'ремонт жилью' 'заняться высшим образованием']\n"
     ]
    }
   ],
   "source": [
    "print(data['purpose'].unique())# ваш код здесь"
   ]
  },
  {
   "cell_type": "markdown",
   "id": "bb33e847",
   "metadata": {
    "deletable": false,
    "editable": false,
    "id": "bb33e847",
    "tags": [
     "start_task"
    ]
   },
   "source": [
    "**Задание 18. Создайте функцию, которая на основании данных из столбца `purpose` сформирует новый столбец `purpose_category`, в который войдут следующие категории:**\n",
    "\n",
    "- `'операции с автомобилем'`,\n",
    "- `'операции с недвижимостью'`,\n",
    "- `'проведение свадьбы'`,\n",
    "- `'получение образования'`.\n",
    "\n",
    "**Например, если в столбце `purpose` находится подстрока `'на покупку автомобиля'`, то в столбце `purpose_category` должна появиться строка `'операции с автомобилем'`.**\n",
    "\n",
    "**Используйте собственную функцию с именем `categorize_purpose()` и метод `apply()`. Изучите данные в столбце `purpose` и определите, какие подстроки помогут вам правильно определить категорию.**"
   ]
  },
  {
   "cell_type": "code",
   "execution_count": 27,
   "id": "63909b83",
   "metadata": {
    "id": "63909b83"
   },
   "outputs": [],
   "source": [
    "def categorize_purpose(purpose):\n",
    "    purpose=purpose.lower()\n",
    "    if 'автомоб' in purpose:\n",
    "        return 'операции с автомобилем'\n",
    "    elif 'недвижим' in purpose or 'жиль' in purpose or 'ипотек' in purpose:\n",
    "        return 'операции с недвижимостью'\n",
    "    elif 'свадьб' in purpose:\n",
    "        return 'проведение свадьбы'\n",
    "    elif 'образован' in purpose or 'образов' in purpose:\n",
    "        return 'получение образования'\n",
    "    else:\n",
    "        return 'другое'  # если ни одна категория не подошла\n",
    "    # создайте функцию categorize_purpose()"
   ]
  },
  {
   "cell_type": "code",
   "execution_count": 28,
   "id": "7cb4a81d",
   "metadata": {
    "id": "7cb4a81d"
   },
   "outputs": [],
   "source": [
    "data['purpose_category'] = data['purpose'].apply(categorize_purpose)# примените функцию методом apply()"
   ]
  },
  {
   "cell_type": "code",
   "execution_count": null,
   "id": "fa9a3bd4",
   "metadata": {},
   "outputs": [],
   "source": []
  }
 ],
 "metadata": {
  "ExecuteTimeLog": [
   {
    "duration": 46,
    "start_time": "2025-05-11T14:45:31.997Z"
   },
   {
    "duration": 417,
    "start_time": "2025-05-11T14:45:46.645Z"
   },
   {
    "duration": 68,
    "start_time": "2025-05-11T14:45:47.735Z"
   },
   {
    "duration": 11,
    "start_time": "2025-05-11T14:45:49.872Z"
   },
   {
    "duration": 16,
    "start_time": "2025-05-11T14:45:52.974Z"
   },
   {
    "duration": 9,
    "start_time": "2025-05-11T14:45:56.556Z"
   },
   {
    "duration": 103,
    "start_time": "2025-05-11T14:56:02.540Z"
   },
   {
    "duration": 454,
    "start_time": "2025-05-11T15:01:10.574Z"
   },
   {
    "duration": 9,
    "start_time": "2025-05-11T15:02:57.598Z"
   },
   {
    "duration": 30,
    "start_time": "2025-05-11T15:03:57.336Z"
   },
   {
    "duration": 8,
    "start_time": "2025-05-11T15:04:13.584Z"
   },
   {
    "duration": 349,
    "start_time": "2025-05-11T15:04:25.023Z"
   },
   {
    "duration": 65,
    "start_time": "2025-05-11T15:04:25.374Z"
   },
   {
    "duration": 9,
    "start_time": "2025-05-11T15:04:25.440Z"
   },
   {
    "duration": 20,
    "start_time": "2025-05-11T15:04:25.452Z"
   },
   {
    "duration": 9,
    "start_time": "2025-05-11T15:04:25.474Z"
   },
   {
    "duration": 8,
    "start_time": "2025-05-11T15:04:25.484Z"
   },
   {
    "duration": 2,
    "start_time": "2025-05-11T15:04:25.494Z"
   },
   {
    "duration": 12,
    "start_time": "2025-05-11T15:04:25.498Z"
   },
   {
    "duration": 3,
    "start_time": "2025-05-11T15:04:25.511Z"
   },
   {
    "duration": 5,
    "start_time": "2025-05-11T15:04:25.516Z"
   },
   {
    "duration": 8,
    "start_time": "2025-05-11T15:04:25.522Z"
   },
   {
    "duration": 4,
    "start_time": "2025-05-11T15:04:25.532Z"
   },
   {
    "duration": 3,
    "start_time": "2025-05-11T15:04:25.537Z"
   },
   {
    "duration": 6,
    "start_time": "2025-05-11T15:04:25.541Z"
   },
   {
    "duration": 4,
    "start_time": "2025-05-11T15:04:25.548Z"
   },
   {
    "duration": 18,
    "start_time": "2025-05-11T15:04:25.553Z"
   },
   {
    "duration": 5,
    "start_time": "2025-05-11T15:04:25.572Z"
   },
   {
    "duration": 3,
    "start_time": "2025-05-11T15:04:25.578Z"
   },
   {
    "duration": 3,
    "start_time": "2025-05-11T15:04:25.582Z"
   },
   {
    "duration": 4,
    "start_time": "2025-05-11T15:04:25.586Z"
   },
   {
    "duration": 2,
    "start_time": "2025-05-11T15:04:25.591Z"
   },
   {
    "duration": 5,
    "start_time": "2025-05-11T15:04:25.594Z"
   },
   {
    "duration": 6,
    "start_time": "2025-05-11T15:08:04.196Z"
   },
   {
    "duration": 7,
    "start_time": "2025-05-11T15:08:10.744Z"
   },
   {
    "duration": 8,
    "start_time": "2025-05-11T15:09:29.938Z"
   },
   {
    "duration": 11,
    "start_time": "2025-05-11T15:09:57.042Z"
   },
   {
    "duration": 7,
    "start_time": "2025-05-11T15:13:07.595Z"
   },
   {
    "duration": 10,
    "start_time": "2025-05-11T15:17:49.116Z"
   },
   {
    "duration": 427,
    "start_time": "2025-05-12T18:22:01.505Z"
   },
   {
    "duration": 89,
    "start_time": "2025-05-12T18:22:01.934Z"
   },
   {
    "duration": 9,
    "start_time": "2025-05-12T18:22:02.025Z"
   },
   {
    "duration": 73,
    "start_time": "2025-05-12T18:22:02.036Z"
   },
   {
    "duration": 114,
    "start_time": "2025-05-12T18:22:02.111Z"
   },
   {
    "duration": 25,
    "start_time": "2025-05-12T18:22:02.227Z"
   },
   {
    "duration": 39,
    "start_time": "2025-05-12T18:22:02.254Z"
   },
   {
    "duration": 98,
    "start_time": "2025-05-12T18:22:02.296Z"
   },
   {
    "duration": 21,
    "start_time": "2025-05-12T18:22:02.395Z"
   },
   {
    "duration": 5,
    "start_time": "2025-05-12T18:22:02.418Z"
   },
   {
    "duration": 5,
    "start_time": "2025-05-12T18:22:02.425Z"
   },
   {
    "duration": 24,
    "start_time": "2025-05-12T18:22:02.431Z"
   },
   {
    "duration": 27,
    "start_time": "2025-05-12T18:22:02.456Z"
   },
   {
    "duration": 55,
    "start_time": "2025-05-12T18:22:02.486Z"
   },
   {
    "duration": 57,
    "start_time": "2025-05-12T18:22:02.543Z"
   },
   {
    "duration": 150,
    "start_time": "2025-05-12T18:22:02.601Z"
   },
   {
    "duration": 23,
    "start_time": "2025-05-12T18:22:02.752Z"
   },
   {
    "duration": 24,
    "start_time": "2025-05-12T18:22:02.777Z"
   },
   {
    "duration": 6,
    "start_time": "2025-05-12T18:22:02.802Z"
   },
   {
    "duration": 4,
    "start_time": "2025-05-12T18:22:02.809Z"
   },
   {
    "duration": 4,
    "start_time": "2025-05-12T18:22:02.814Z"
   },
   {
    "duration": 9,
    "start_time": "2025-05-12T18:22:02.819Z"
   },
   {
    "duration": 7,
    "start_time": "2025-05-12T18:22:15.525Z"
   },
   {
    "duration": 16,
    "start_time": "2025-05-12T18:22:19.561Z"
   },
   {
    "duration": 3,
    "start_time": "2025-05-12T18:29:33.193Z"
   },
   {
    "duration": 6,
    "start_time": "2025-05-12T18:31:13.358Z"
   },
   {
    "duration": 7,
    "start_time": "2025-05-12T18:32:08.479Z"
   },
   {
    "duration": 6,
    "start_time": "2025-05-12T18:33:15.648Z"
   },
   {
    "duration": 4,
    "start_time": "2025-05-12T18:53:56.093Z"
   },
   {
    "duration": 8,
    "start_time": "2025-05-12T18:55:43.468Z"
   },
   {
    "duration": 7,
    "start_time": "2025-05-12T18:56:21.225Z"
   },
   {
    "duration": 8,
    "start_time": "2025-05-12T18:57:50.122Z"
   },
   {
    "duration": 4,
    "start_time": "2025-05-12T19:01:04.190Z"
   },
   {
    "duration": 4,
    "start_time": "2025-05-12T19:01:28.080Z"
   },
   {
    "duration": 61,
    "start_time": "2025-05-12T19:01:37.580Z"
   },
   {
    "duration": 7,
    "start_time": "2025-05-12T19:01:43.883Z"
   },
   {
    "duration": 7,
    "start_time": "2025-05-12T19:01:55.067Z"
   },
   {
    "duration": 421,
    "start_time": "2025-05-12T19:02:02.047Z"
   },
   {
    "duration": 79,
    "start_time": "2025-05-12T19:02:02.470Z"
   },
   {
    "duration": 10,
    "start_time": "2025-05-12T19:02:02.550Z"
   },
   {
    "duration": 53,
    "start_time": "2025-05-12T19:02:02.562Z"
   },
   {
    "duration": 9,
    "start_time": "2025-05-12T19:02:02.618Z"
   },
   {
    "duration": 21,
    "start_time": "2025-05-12T19:02:02.629Z"
   },
   {
    "duration": 39,
    "start_time": "2025-05-12T19:02:02.652Z"
   },
   {
    "duration": 119,
    "start_time": "2025-05-12T19:02:02.692Z"
   },
   {
    "duration": 42,
    "start_time": "2025-05-12T19:02:02.813Z"
   },
   {
    "duration": 49,
    "start_time": "2025-05-12T19:02:02.856Z"
   },
   {
    "duration": 8,
    "start_time": "2025-05-12T19:02:02.907Z"
   },
   {
    "duration": 13,
    "start_time": "2025-05-12T19:02:02.917Z"
   },
   {
    "duration": 22,
    "start_time": "2025-05-12T19:02:02.931Z"
   },
   {
    "duration": 34,
    "start_time": "2025-05-12T19:02:02.955Z"
   },
   {
    "duration": 12,
    "start_time": "2025-05-12T19:02:02.991Z"
   },
   {
    "duration": 6,
    "start_time": "2025-05-12T19:02:03.004Z"
   },
   {
    "duration": 4,
    "start_time": "2025-05-12T19:02:03.011Z"
   },
   {
    "duration": 4,
    "start_time": "2025-05-12T19:02:03.016Z"
   },
   {
    "duration": 7,
    "start_time": "2025-05-12T19:02:03.021Z"
   },
   {
    "duration": 4,
    "start_time": "2025-05-12T19:02:03.029Z"
   },
   {
    "duration": 4,
    "start_time": "2025-05-12T19:02:03.034Z"
   },
   {
    "duration": 20,
    "start_time": "2025-05-12T19:02:03.039Z"
   },
   {
    "duration": 5,
    "start_time": "2025-05-12T19:02:17.223Z"
   },
   {
    "duration": 6,
    "start_time": "2025-05-12T19:03:02.611Z"
   },
   {
    "duration": 10,
    "start_time": "2025-05-12T19:03:04.952Z"
   },
   {
    "duration": 6,
    "start_time": "2025-05-12T19:03:34.425Z"
   },
   {
    "duration": 10,
    "start_time": "2025-05-12T19:03:39.491Z"
   },
   {
    "duration": 4,
    "start_time": "2025-05-12T19:04:26.319Z"
   },
   {
    "duration": 62,
    "start_time": "2025-05-12T19:04:34.628Z"
   },
   {
    "duration": 7,
    "start_time": "2025-05-12T19:04:59.705Z"
   },
   {
    "duration": 6,
    "start_time": "2025-05-12T19:05:06.726Z"
   },
   {
    "duration": 7,
    "start_time": "2025-05-12T19:05:28.168Z"
   },
   {
    "duration": 7,
    "start_time": "2025-05-12T19:05:33.533Z"
   },
   {
    "duration": 412,
    "start_time": "2025-05-12T19:05:43.133Z"
   },
   {
    "duration": 67,
    "start_time": "2025-05-12T19:05:43.547Z"
   },
   {
    "duration": 9,
    "start_time": "2025-05-12T19:05:43.615Z"
   },
   {
    "duration": 31,
    "start_time": "2025-05-12T19:05:43.626Z"
   },
   {
    "duration": 17,
    "start_time": "2025-05-12T19:05:43.659Z"
   },
   {
    "duration": 40,
    "start_time": "2025-05-12T19:05:43.678Z"
   },
   {
    "duration": 33,
    "start_time": "2025-05-12T19:05:43.720Z"
   },
   {
    "duration": 17,
    "start_time": "2025-05-12T19:05:43.754Z"
   },
   {
    "duration": 15,
    "start_time": "2025-05-12T19:05:43.773Z"
   },
   {
    "duration": 41,
    "start_time": "2025-05-12T19:05:43.790Z"
   },
   {
    "duration": 3,
    "start_time": "2025-05-12T19:05:43.833Z"
   },
   {
    "duration": 18,
    "start_time": "2025-05-12T19:05:43.837Z"
   },
   {
    "duration": 33,
    "start_time": "2025-05-12T19:05:43.857Z"
   },
   {
    "duration": 33,
    "start_time": "2025-05-12T19:05:43.892Z"
   },
   {
    "duration": 38,
    "start_time": "2025-05-12T19:05:43.926Z"
   },
   {
    "duration": 14,
    "start_time": "2025-05-12T19:05:43.965Z"
   },
   {
    "duration": 22,
    "start_time": "2025-05-12T19:05:43.980Z"
   },
   {
    "duration": 23,
    "start_time": "2025-05-12T19:05:44.004Z"
   },
   {
    "duration": 29,
    "start_time": "2025-05-12T19:05:44.028Z"
   },
   {
    "duration": 22,
    "start_time": "2025-05-12T19:05:44.059Z"
   },
   {
    "duration": 25,
    "start_time": "2025-05-12T19:05:44.082Z"
   },
   {
    "duration": 13,
    "start_time": "2025-05-12T19:05:44.108Z"
   },
   {
    "duration": 3,
    "start_time": "2025-05-12T19:06:05.089Z"
   },
   {
    "duration": 7,
    "start_time": "2025-05-12T19:07:20.036Z"
   },
   {
    "duration": 12,
    "start_time": "2025-05-12T19:07:23.931Z"
   },
   {
    "duration": 68,
    "start_time": "2025-05-12T19:08:47.289Z"
   },
   {
    "duration": 10,
    "start_time": "2025-05-12T19:08:59.734Z"
   },
   {
    "duration": 4,
    "start_time": "2025-05-12T19:09:12.336Z"
   },
   {
    "duration": 7,
    "start_time": "2025-05-12T19:09:20.988Z"
   },
   {
    "duration": 420,
    "start_time": "2025-05-12T19:10:20.234Z"
   },
   {
    "duration": 76,
    "start_time": "2025-05-12T19:10:20.656Z"
   },
   {
    "duration": 9,
    "start_time": "2025-05-12T19:10:20.734Z"
   },
   {
    "duration": 55,
    "start_time": "2025-05-12T19:10:20.745Z"
   },
   {
    "duration": 11,
    "start_time": "2025-05-12T19:10:20.801Z"
   },
   {
    "duration": 12,
    "start_time": "2025-05-12T19:10:20.814Z"
   },
   {
    "duration": 3,
    "start_time": "2025-05-12T19:10:20.828Z"
   },
   {
    "duration": 9,
    "start_time": "2025-05-12T19:10:20.832Z"
   },
   {
    "duration": 8,
    "start_time": "2025-05-12T19:10:20.842Z"
   },
   {
    "duration": 81,
    "start_time": "2025-05-12T19:10:20.853Z"
   },
   {
    "duration": 0,
    "start_time": "2025-05-12T19:10:20.936Z"
   },
   {
    "duration": 0,
    "start_time": "2025-05-12T19:10:20.937Z"
   },
   {
    "duration": 0,
    "start_time": "2025-05-12T19:10:20.938Z"
   },
   {
    "duration": 0,
    "start_time": "2025-05-12T19:10:20.939Z"
   },
   {
    "duration": 0,
    "start_time": "2025-05-12T19:10:20.940Z"
   },
   {
    "duration": 0,
    "start_time": "2025-05-12T19:10:20.941Z"
   },
   {
    "duration": 0,
    "start_time": "2025-05-12T19:10:20.942Z"
   },
   {
    "duration": 0,
    "start_time": "2025-05-12T19:10:20.943Z"
   },
   {
    "duration": 0,
    "start_time": "2025-05-12T19:10:20.944Z"
   },
   {
    "duration": 0,
    "start_time": "2025-05-12T19:10:20.944Z"
   },
   {
    "duration": 0,
    "start_time": "2025-05-12T19:10:20.945Z"
   },
   {
    "duration": 0,
    "start_time": "2025-05-12T19:10:20.946Z"
   },
   {
    "duration": 7,
    "start_time": "2025-05-12T19:11:25.023Z"
   },
   {
    "duration": 7,
    "start_time": "2025-05-12T19:11:38.346Z"
   },
   {
    "duration": 412,
    "start_time": "2025-05-12T19:11:50.952Z"
   },
   {
    "duration": 67,
    "start_time": "2025-05-12T19:11:51.366Z"
   },
   {
    "duration": 10,
    "start_time": "2025-05-12T19:11:51.435Z"
   },
   {
    "duration": 24,
    "start_time": "2025-05-12T19:11:51.446Z"
   },
   {
    "duration": 16,
    "start_time": "2025-05-12T19:11:51.472Z"
   },
   {
    "duration": 12,
    "start_time": "2025-05-12T19:11:51.490Z"
   },
   {
    "duration": 16,
    "start_time": "2025-05-12T19:11:51.504Z"
   },
   {
    "duration": 9,
    "start_time": "2025-05-12T19:11:51.522Z"
   },
   {
    "duration": 4,
    "start_time": "2025-05-12T19:11:51.533Z"
   },
   {
    "duration": 64,
    "start_time": "2025-05-12T19:11:51.538Z"
   },
   {
    "duration": 0,
    "start_time": "2025-05-12T19:11:51.604Z"
   },
   {
    "duration": 0,
    "start_time": "2025-05-12T19:11:51.606Z"
   },
   {
    "duration": 0,
    "start_time": "2025-05-12T19:11:51.608Z"
   },
   {
    "duration": 0,
    "start_time": "2025-05-12T19:11:51.609Z"
   },
   {
    "duration": 0,
    "start_time": "2025-05-12T19:11:51.610Z"
   },
   {
    "duration": 0,
    "start_time": "2025-05-12T19:11:51.612Z"
   },
   {
    "duration": 0,
    "start_time": "2025-05-12T19:11:51.613Z"
   },
   {
    "duration": 0,
    "start_time": "2025-05-12T19:11:51.615Z"
   },
   {
    "duration": 0,
    "start_time": "2025-05-12T19:11:51.616Z"
   },
   {
    "duration": 0,
    "start_time": "2025-05-12T19:11:51.617Z"
   },
   {
    "duration": 0,
    "start_time": "2025-05-12T19:11:51.619Z"
   },
   {
    "duration": 0,
    "start_time": "2025-05-12T19:11:51.620Z"
   },
   {
    "duration": 3,
    "start_time": "2025-05-12T19:12:22.031Z"
   },
   {
    "duration": 8,
    "start_time": "2025-05-12T19:12:33.372Z"
   },
   {
    "duration": 3,
    "start_time": "2025-05-12T19:12:46.033Z"
   },
   {
    "duration": 7,
    "start_time": "2025-05-12T19:13:40.909Z"
   },
   {
    "duration": 374,
    "start_time": "2025-05-12T19:14:08.396Z"
   },
   {
    "duration": 67,
    "start_time": "2025-05-12T19:14:08.772Z"
   },
   {
    "duration": 9,
    "start_time": "2025-05-12T19:14:08.841Z"
   },
   {
    "duration": 52,
    "start_time": "2025-05-12T19:14:08.852Z"
   },
   {
    "duration": 8,
    "start_time": "2025-05-12T19:14:08.906Z"
   },
   {
    "duration": 18,
    "start_time": "2025-05-12T19:14:08.915Z"
   },
   {
    "duration": 8,
    "start_time": "2025-05-12T19:14:08.935Z"
   },
   {
    "duration": 8,
    "start_time": "2025-05-12T19:14:08.945Z"
   },
   {
    "duration": 4,
    "start_time": "2025-05-12T19:14:08.954Z"
   },
   {
    "duration": 6,
    "start_time": "2025-05-12T19:14:08.960Z"
   },
   {
    "duration": 3,
    "start_time": "2025-05-12T19:14:08.968Z"
   },
   {
    "duration": 2,
    "start_time": "2025-05-12T19:14:08.972Z"
   },
   {
    "duration": 3,
    "start_time": "2025-05-12T19:14:08.976Z"
   },
   {
    "duration": 14,
    "start_time": "2025-05-12T19:14:08.980Z"
   },
   {
    "duration": 3,
    "start_time": "2025-05-12T19:14:08.996Z"
   },
   {
    "duration": 4,
    "start_time": "2025-05-12T19:14:09.000Z"
   },
   {
    "duration": 9,
    "start_time": "2025-05-12T19:14:09.005Z"
   },
   {
    "duration": 6,
    "start_time": "2025-05-12T19:14:09.016Z"
   },
   {
    "duration": 7,
    "start_time": "2025-05-12T19:14:09.024Z"
   },
   {
    "duration": 9,
    "start_time": "2025-05-12T19:14:09.033Z"
   },
   {
    "duration": 12,
    "start_time": "2025-05-12T19:14:09.043Z"
   },
   {
    "duration": 15,
    "start_time": "2025-05-12T19:14:09.056Z"
   },
   {
    "duration": 9,
    "start_time": "2025-05-12T19:17:40.993Z"
   },
   {
    "duration": 9,
    "start_time": "2025-05-12T19:18:19.548Z"
   },
   {
    "duration": 5,
    "start_time": "2025-05-12T19:22:15.171Z"
   },
   {
    "duration": 14,
    "start_time": "2025-05-12T19:25:45.071Z"
   },
   {
    "duration": 58,
    "start_time": "2025-05-12T19:37:47.434Z"
   },
   {
    "duration": 6,
    "start_time": "2025-05-12T19:37:54.854Z"
   },
   {
    "duration": 429,
    "start_time": "2025-05-12T19:38:06.921Z"
   },
   {
    "duration": 71,
    "start_time": "2025-05-12T19:38:07.352Z"
   },
   {
    "duration": 10,
    "start_time": "2025-05-12T19:38:07.424Z"
   },
   {
    "duration": 38,
    "start_time": "2025-05-12T19:38:07.436Z"
   },
   {
    "duration": 10,
    "start_time": "2025-05-12T19:38:07.476Z"
   },
   {
    "duration": 11,
    "start_time": "2025-05-12T19:38:07.488Z"
   },
   {
    "duration": 28,
    "start_time": "2025-05-12T19:38:07.501Z"
   },
   {
    "duration": 18,
    "start_time": "2025-05-12T19:38:07.531Z"
   },
   {
    "duration": 23,
    "start_time": "2025-05-12T19:38:07.550Z"
   },
   {
    "duration": 22,
    "start_time": "2025-05-12T19:38:07.575Z"
   },
   {
    "duration": 32,
    "start_time": "2025-05-12T19:38:07.598Z"
   },
   {
    "duration": 31,
    "start_time": "2025-05-12T19:38:07.632Z"
   },
   {
    "duration": 19,
    "start_time": "2025-05-12T19:38:07.665Z"
   },
   {
    "duration": 40,
    "start_time": "2025-05-12T19:38:07.687Z"
   },
   {
    "duration": 31,
    "start_time": "2025-05-12T19:38:07.729Z"
   },
   {
    "duration": 87,
    "start_time": "2025-05-12T19:38:07.761Z"
   },
   {
    "duration": 0,
    "start_time": "2025-05-12T19:38:07.850Z"
   },
   {
    "duration": 0,
    "start_time": "2025-05-12T19:38:07.851Z"
   },
   {
    "duration": 0,
    "start_time": "2025-05-12T19:38:07.852Z"
   },
   {
    "duration": 0,
    "start_time": "2025-05-12T19:38:07.853Z"
   },
   {
    "duration": 0,
    "start_time": "2025-05-12T19:38:07.854Z"
   },
   {
    "duration": 0,
    "start_time": "2025-05-12T19:38:07.855Z"
   },
   {
    "duration": 4,
    "start_time": "2025-05-12T19:38:23.801Z"
   },
   {
    "duration": 13,
    "start_time": "2025-05-12T19:38:26.733Z"
   },
   {
    "duration": 20,
    "start_time": "2025-05-12T19:38:47.508Z"
   },
   {
    "duration": 7,
    "start_time": "2025-05-12T19:39:34.941Z"
   },
   {
    "duration": 7,
    "start_time": "2025-05-12T19:40:28.084Z"
   },
   {
    "duration": 7,
    "start_time": "2025-05-12T19:41:31.356Z"
   },
   {
    "duration": 417,
    "start_time": "2025-05-12T19:41:38.528Z"
   },
   {
    "duration": 76,
    "start_time": "2025-05-12T19:41:38.947Z"
   },
   {
    "duration": 13,
    "start_time": "2025-05-12T19:41:39.025Z"
   },
   {
    "duration": 24,
    "start_time": "2025-05-12T19:41:39.039Z"
   },
   {
    "duration": 10,
    "start_time": "2025-05-12T19:41:39.065Z"
   },
   {
    "duration": 15,
    "start_time": "2025-05-12T19:41:39.076Z"
   },
   {
    "duration": 3,
    "start_time": "2025-05-12T19:41:39.093Z"
   },
   {
    "duration": 9,
    "start_time": "2025-05-12T19:41:39.098Z"
   },
   {
    "duration": 9,
    "start_time": "2025-05-12T19:41:39.108Z"
   },
   {
    "duration": 23,
    "start_time": "2025-05-12T19:41:39.118Z"
   },
   {
    "duration": 11,
    "start_time": "2025-05-12T19:41:39.143Z"
   },
   {
    "duration": 13,
    "start_time": "2025-05-12T19:41:39.156Z"
   },
   {
    "duration": 12,
    "start_time": "2025-05-12T19:41:39.171Z"
   },
   {
    "duration": 6,
    "start_time": "2025-05-12T19:41:39.185Z"
   },
   {
    "duration": 29,
    "start_time": "2025-05-12T19:41:39.192Z"
   },
   {
    "duration": 24,
    "start_time": "2025-05-12T19:41:39.222Z"
   },
   {
    "duration": 65,
    "start_time": "2025-05-12T19:41:39.248Z"
   },
   {
    "duration": 0,
    "start_time": "2025-05-12T19:41:39.316Z"
   },
   {
    "duration": 0,
    "start_time": "2025-05-12T19:41:39.318Z"
   },
   {
    "duration": 0,
    "start_time": "2025-05-12T19:41:39.319Z"
   },
   {
    "duration": 0,
    "start_time": "2025-05-12T19:41:39.336Z"
   },
   {
    "duration": 0,
    "start_time": "2025-05-12T19:41:39.338Z"
   },
   {
    "duration": 8,
    "start_time": "2025-05-12T19:43:32.561Z"
   },
   {
    "duration": 472,
    "start_time": "2025-05-12T19:43:44.106Z"
   },
   {
    "duration": 71,
    "start_time": "2025-05-12T19:43:44.580Z"
   },
   {
    "duration": 14,
    "start_time": "2025-05-12T19:43:44.653Z"
   },
   {
    "duration": 16,
    "start_time": "2025-05-12T19:43:44.669Z"
   },
   {
    "duration": 10,
    "start_time": "2025-05-12T19:43:44.688Z"
   },
   {
    "duration": 14,
    "start_time": "2025-05-12T19:43:44.700Z"
   },
   {
    "duration": 19,
    "start_time": "2025-05-12T19:43:44.716Z"
   },
   {
    "duration": 10,
    "start_time": "2025-05-12T19:43:44.737Z"
   },
   {
    "duration": 4,
    "start_time": "2025-05-12T19:43:44.749Z"
   },
   {
    "duration": 7,
    "start_time": "2025-05-12T19:43:44.754Z"
   },
   {
    "duration": 201,
    "start_time": "2025-05-12T19:43:44.763Z"
   },
   {
    "duration": 16,
    "start_time": "2025-05-12T19:43:44.966Z"
   },
   {
    "duration": 14,
    "start_time": "2025-05-12T19:43:44.984Z"
   },
   {
    "duration": 23,
    "start_time": "2025-05-12T19:43:45.002Z"
   },
   {
    "duration": 38,
    "start_time": "2025-05-12T19:43:45.027Z"
   },
   {
    "duration": 63,
    "start_time": "2025-05-12T19:43:45.067Z"
   },
   {
    "duration": 32,
    "start_time": "2025-05-12T19:43:45.132Z"
   },
   {
    "duration": 2,
    "start_time": "2025-05-12T19:43:45.166Z"
   },
   {
    "duration": 22,
    "start_time": "2025-05-12T19:43:45.170Z"
   },
   {
    "duration": 19,
    "start_time": "2025-05-12T19:43:45.193Z"
   },
   {
    "duration": 5,
    "start_time": "2025-05-12T19:43:45.214Z"
   },
   {
    "duration": 12,
    "start_time": "2025-05-12T19:43:45.221Z"
   },
   {
    "duration": 19,
    "start_time": "2025-05-12T19:44:27.185Z"
   },
   {
    "duration": 12,
    "start_time": "2025-05-12T19:46:50.725Z"
   },
   {
    "duration": 10,
    "start_time": "2025-05-12T19:47:32.268Z"
   },
   {
    "duration": 6,
    "start_time": "2025-05-12T19:48:28.810Z"
   },
   {
    "duration": 4,
    "start_time": "2025-05-12T19:53:27.431Z"
   },
   {
    "duration": 16,
    "start_time": "2025-05-12T19:53:29.889Z"
   }
  ],
  "colab": {
   "provenance": []
  },
  "kernelspec": {
   "display_name": "Python 3 (ipykernel)",
   "language": "python",
   "name": "python3"
  },
  "language_info": {
   "codemirror_mode": {
    "name": "ipython",
    "version": 3
   },
   "file_extension": ".py",
   "mimetype": "text/x-python",
   "name": "python",
   "nbconvert_exporter": "python",
   "pygments_lexer": "ipython3",
   "version": "3.9.5"
  },
  "toc": {
   "base_numbering": 1,
   "nav_menu": {},
   "number_sections": true,
   "sideBar": true,
   "skip_h1_title": true,
   "title_cell": "Table of Contents",
   "title_sidebar": "Contents",
   "toc_cell": false,
   "toc_position": {},
   "toc_section_display": true,
   "toc_window_display": false
  }
 },
 "nbformat": 4,
 "nbformat_minor": 5
}
